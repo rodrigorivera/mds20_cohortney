{
 "cells": [
  {
   "cell_type": "code",
   "execution_count": 1,
   "metadata": {},
   "outputs": [
    {
     "name": "stdout",
     "output_type": "stream",
     "text": [
      "cpu\n"
     ]
    }
   ],
   "source": [
    "import torch\n",
    "import torch.nn as nn\n",
    "from src.optimal_transport.data_preprocessing import get_features\n",
    "from models.OTModel.ot import CNN_Filters\n",
    "from src.optimal_transport.main import run_exp\n",
    "\n",
    "path = 'data/simulated_Hawkes/K3_C1'\n",
    "devc = '0'\n",
    "device = torch.device('cuda:' + devc) if torch.cuda.is_available() else torch.device('cpu')\n",
    "print(device)"
   ]
  },
  {
   "cell_type": "code",
   "execution_count": null,
   "metadata": {},
   "outputs": [
    {
     "name": "stdout",
     "output_type": "stream",
     "text": [
      "0 0\n",
      "0 1\n"
     ]
    },
    {
     "name": "stderr",
     "output_type": "stream",
     "text": [
      "C:\\Users\\vlad1\\OneDrive\\Документы\\GitHub\\mds20_cohortney\\src\\optimal_transport\\data_preprocessing.py:20: UserWarning: torch.range is deprecated in favor of torch.arange and will be removed in 0.5. Note that arange generates values in [start; end), not [start; end].\n",
      "  delta_T = torch.range(0, T_j, T_j/2**j)\n"
     ]
    },
    {
     "name": "stdout",
     "output_type": "stream",
     "text": [
      "0 2\n",
      "0 3\n",
      "0 4\n",
      "0 5\n",
      "0 6\n",
      "0 7\n",
      "0 8\n",
      "0 9\n",
      "1 0\n",
      "1 1\n",
      "1 2\n",
      "1 3\n",
      "1 4\n",
      "1 5\n",
      "1 6\n",
      "1 7\n",
      "1 8\n",
      "1 9\n",
      "2 0\n",
      "2 1\n",
      "2 2\n",
      "2 3\n",
      "2 4\n",
      "2 5\n",
      "2 6\n",
      "2 7\n",
      "2 8\n",
      "2 9\n",
      "3 0\n",
      "3 1\n",
      "3 2\n",
      "3 3\n",
      "3 4\n",
      "3 5\n",
      "3 6\n",
      "3 7\n",
      "3 8\n",
      "3 9\n",
      "4 0\n",
      "4 1\n",
      "4 2\n",
      "4 3\n",
      "4 4\n",
      "4 5\n",
      "4 6\n",
      "4 7\n",
      "4 8\n",
      "4 9\n",
      "On epoch 0 purity: 0.6633333333333333\n",
      "On epoch 1 purity: 0.6666666666666667\n",
      "On epoch 2 purity: 0.7166666666666668\n",
      "On epoch 3 purity: 0.7400000000000001\n",
      "On epoch 4 purity: 0.7466666666666667\n",
      "On epoch 5 purity: 0.7466666666666667\n",
      "On epoch 6 purity: 0.7466666666666667\n",
      "On epoch 7 purity: 0.7466666666666667\n",
      "On epoch 8 purity: 0.7466666666666667\n",
      "On epoch 9 purity: 0.7466666666666667\n",
      "On epoch 10 purity: 0.7466666666666667\n",
      "On epoch 11 purity: 0.7466666666666667\n",
      "On epoch 12 purity: 0.7466666666666667\n",
      "On epoch 13 purity: 0.7466666666666667\n",
      "On epoch 14 purity: 0.7466666666666667\n",
      "On epoch 15 purity: 0.7466666666666667\n"
     ]
    }
   ],
   "source": [
    "run_exp(path, 'csv', False, 5, 10, CNN_Filters, torch.optim.Adam, nn.CrossEntropyLoss(), device, 1, 3, 0.0005, with_gt = True)"
   ]
  },
  {
   "cell_type": "code",
   "execution_count": null,
   "metadata": {},
   "outputs": [],
   "source": []
  }
 ],
 "metadata": {
  "kernelspec": {
   "display_name": "Python 3",
   "language": "python",
   "name": "python3"
  },
  "language_info": {
   "codemirror_mode": {
    "name": "ipython",
    "version": 3
   },
   "file_extension": ".py",
   "mimetype": "text/x-python",
   "name": "python",
   "nbconvert_exporter": "python",
   "pygments_lexer": "ipython3",
   "version": "3.8.3"
  }
 },
 "nbformat": 4,
 "nbformat_minor": 4
}
