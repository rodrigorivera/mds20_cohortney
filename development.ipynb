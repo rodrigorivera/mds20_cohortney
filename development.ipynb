{
 "cells": [
  {
   "cell_type": "markdown",
   "metadata": {},
   "source": [
    "## Dividing booking dataset"
   ]
  },
  {
   "cell_type": "code",
   "execution_count": 1,
   "metadata": {},
   "outputs": [],
   "source": [
    "from pathlib import Path\n",
    "from zipfile import ZipFile\n",
    "import pandas as pd\n",
    "import argparse\n",
    "import torch\n",
    "import random\n",
    "import numpy as np\n",
    "from matplotlib import pyplot as plt\n",
    "from tqdm import tqdm, trange\n",
    "\n",
    "from src.DMHP.HP import PointProcessStorage, DirichletMixtureModel, EM_clustering\n",
    "from src.DMHP.metrics import consistency, purity\n",
    "from src.Cohortney.data_utils import load_data"
   ]
  },
  {
   "cell_type": "code",
   "execution_count": 2,
   "metadata": {},
   "outputs": [],
   "source": [
    "df = pd.read_csv('data/booking_challenge_tpp10plus.csv', index_col='Unnamed: 0')"
   ]
  },
  {
   "cell_type": "code",
   "execution_count": 17,
   "metadata": {},
   "outputs": [
    {
     "data": {
      "text/plain": [
       "22972"
      ]
     },
     "execution_count": 17,
     "metadata": {},
     "output_type": "execute_result"
    }
   ],
   "source": [
    "len(df['city_id'].unique())"
   ]
  },
  {
   "cell_type": "code",
   "execution_count": 4,
   "metadata": {},
   "outputs": [
    {
     "data": {
      "text/html": [
       "<div>\n",
       "<style scoped>\n",
       "    .dataframe tbody tr th:only-of-type {\n",
       "        vertical-align: middle;\n",
       "    }\n",
       "\n",
       "    .dataframe tbody tr th {\n",
       "        vertical-align: top;\n",
       "    }\n",
       "\n",
       "    .dataframe thead th {\n",
       "        text-align: right;\n",
       "    }\n",
       "</style>\n",
       "<table border=\"1\" class=\"dataframe\">\n",
       "  <thead>\n",
       "    <tr style=\"text-align: right;\">\n",
       "      <th></th>\n",
       "      <th>user_id</th>\n",
       "      <th>device_class</th>\n",
       "      <th>city_id</th>\n",
       "      <th>nr_trips</th>\n",
       "      <th>checkin</th>\n",
       "      <th>checkout</th>\n",
       "      <th>diff_checkin</th>\n",
       "      <th>diff_checkout</th>\n",
       "      <th>diff_inout</th>\n",
       "    </tr>\n",
       "  </thead>\n",
       "  <tbody>\n",
       "    <tr>\n",
       "      <td>0</td>\n",
       "      <td>136</td>\n",
       "      <td>desktop</td>\n",
       "      <td>38793</td>\n",
       "      <td>11</td>\n",
       "      <td>2016-04-26</td>\n",
       "      <td>2016-04-27</td>\n",
       "      <td>1</td>\n",
       "      <td>1</td>\n",
       "      <td>1</td>\n",
       "    </tr>\n",
       "    <tr>\n",
       "      <td>1</td>\n",
       "      <td>136</td>\n",
       "      <td>desktop</td>\n",
       "      <td>28545</td>\n",
       "      <td>11</td>\n",
       "      <td>2016-04-27</td>\n",
       "      <td>2016-04-28</td>\n",
       "      <td>1</td>\n",
       "      <td>1</td>\n",
       "      <td>1</td>\n",
       "    </tr>\n",
       "    <tr>\n",
       "      <td>2</td>\n",
       "      <td>136</td>\n",
       "      <td>desktop</td>\n",
       "      <td>60274</td>\n",
       "      <td>11</td>\n",
       "      <td>2016-04-28</td>\n",
       "      <td>2016-04-29</td>\n",
       "      <td>1</td>\n",
       "      <td>2</td>\n",
       "      <td>1</td>\n",
       "    </tr>\n",
       "    <tr>\n",
       "      <td>3</td>\n",
       "      <td>136</td>\n",
       "      <td>desktop</td>\n",
       "      <td>45188</td>\n",
       "      <td>11</td>\n",
       "      <td>2016-04-29</td>\n",
       "      <td>2016-05-01</td>\n",
       "      <td>144</td>\n",
       "      <td>144</td>\n",
       "      <td>2</td>\n",
       "    </tr>\n",
       "    <tr>\n",
       "      <td>4</td>\n",
       "      <td>136</td>\n",
       "      <td>desktop</td>\n",
       "      <td>52933</td>\n",
       "      <td>11</td>\n",
       "      <td>2016-09-20</td>\n",
       "      <td>2016-09-22</td>\n",
       "      <td>2</td>\n",
       "      <td>1</td>\n",
       "      <td>2</td>\n",
       "    </tr>\n",
       "    <tr>\n",
       "      <td>...</td>\n",
       "      <td>...</td>\n",
       "      <td>...</td>\n",
       "      <td>...</td>\n",
       "      <td>...</td>\n",
       "      <td>...</td>\n",
       "      <td>...</td>\n",
       "      <td>...</td>\n",
       "      <td>...</td>\n",
       "      <td>...</td>\n",
       "    </tr>\n",
       "    <tr>\n",
       "      <td>269492</td>\n",
       "      <td>6257727</td>\n",
       "      <td>desktop</td>\n",
       "      <td>39564</td>\n",
       "      <td>15</td>\n",
       "      <td>2016-12-27</td>\n",
       "      <td>2016-12-28</td>\n",
       "      <td>1</td>\n",
       "      <td>2</td>\n",
       "      <td>1</td>\n",
       "    </tr>\n",
       "    <tr>\n",
       "      <td>269493</td>\n",
       "      <td>6257727</td>\n",
       "      <td>desktop</td>\n",
       "      <td>14623</td>\n",
       "      <td>15</td>\n",
       "      <td>2016-12-28</td>\n",
       "      <td>2016-12-30</td>\n",
       "      <td>2</td>\n",
       "      <td>2</td>\n",
       "      <td>2</td>\n",
       "    </tr>\n",
       "    <tr>\n",
       "      <td>269494</td>\n",
       "      <td>6257727</td>\n",
       "      <td>desktop</td>\n",
       "      <td>11757</td>\n",
       "      <td>15</td>\n",
       "      <td>2016-12-30</td>\n",
       "      <td>2017-01-01</td>\n",
       "      <td>2</td>\n",
       "      <td>1</td>\n",
       "      <td>2</td>\n",
       "    </tr>\n",
       "    <tr>\n",
       "      <td>269495</td>\n",
       "      <td>6257727</td>\n",
       "      <td>desktop</td>\n",
       "      <td>14623</td>\n",
       "      <td>15</td>\n",
       "      <td>2017-01-01</td>\n",
       "      <td>2017-01-02</td>\n",
       "      <td>1</td>\n",
       "      <td>1</td>\n",
       "      <td>1</td>\n",
       "    </tr>\n",
       "    <tr>\n",
       "      <td>269496</td>\n",
       "      <td>6257727</td>\n",
       "      <td>desktop</td>\n",
       "      <td>0</td>\n",
       "      <td>15</td>\n",
       "      <td>2017-01-02</td>\n",
       "      <td>2017-01-03</td>\n",
       "      <td>9999</td>\n",
       "      <td>9999</td>\n",
       "      <td>1</td>\n",
       "    </tr>\n",
       "  </tbody>\n",
       "</table>\n",
       "<p>269497 rows × 9 columns</p>\n",
       "</div>"
      ],
      "text/plain": [
       "        user_id device_class  city_id  nr_trips     checkin    checkout  \\\n",
       "0           136      desktop    38793        11  2016-04-26  2016-04-27   \n",
       "1           136      desktop    28545        11  2016-04-27  2016-04-28   \n",
       "2           136      desktop    60274        11  2016-04-28  2016-04-29   \n",
       "3           136      desktop    45188        11  2016-04-29  2016-05-01   \n",
       "4           136      desktop    52933        11  2016-09-20  2016-09-22   \n",
       "...         ...          ...      ...       ...         ...         ...   \n",
       "269492  6257727      desktop    39564        15  2016-12-27  2016-12-28   \n",
       "269493  6257727      desktop    14623        15  2016-12-28  2016-12-30   \n",
       "269494  6257727      desktop    11757        15  2016-12-30  2017-01-01   \n",
       "269495  6257727      desktop    14623        15  2017-01-01  2017-01-02   \n",
       "269496  6257727      desktop        0        15  2017-01-02  2017-01-03   \n",
       "\n",
       "        diff_checkin  diff_checkout  diff_inout  \n",
       "0                  1              1           1  \n",
       "1                  1              1           1  \n",
       "2                  1              2           1  \n",
       "3                144            144           2  \n",
       "4                  2              1           2  \n",
       "...              ...            ...         ...  \n",
       "269492             1              2           1  \n",
       "269493             2              2           2  \n",
       "269494             2              1           2  \n",
       "269495             1              1           1  \n",
       "269496          9999           9999           1  \n",
       "\n",
       "[269497 rows x 9 columns]"
      ]
     },
     "execution_count": 4,
     "metadata": {},
     "output_type": "execute_result"
    }
   ],
   "source": [
    "df"
   ]
  },
  {
   "cell_type": "code",
   "execution_count": 21,
   "metadata": {},
   "outputs": [],
   "source": [
    "p = 136\n",
    "tabs = []\n",
    "tab = pd.DataFrame(columns=df.columns)\n",
    "j = 1\n",
    "for i, s in df.iterrows():\n",
    "    if s['user_id'] == p:\n",
    "        tab = tab.append(s)\n",
    "    else:\n",
    "        tabs.append(tab)\n",
    "        tab.to_csv(f'data/booking_tmp_1004/{j}.csv')\n",
    "        \n",
    "        tab = pd.DataFrame(columns=df.columns)\n",
    "        tab = tab.append(s)\n",
    "        j += 1\n",
    "        p = s['user_id']\n",
    "    if i == 1004 # 506 10001:\n",
    "        break"
   ]
  },
  {
   "cell_type": "markdown",
   "metadata": {},
   "source": [
    "## Tuning basis functions (DHMP)"
   ]
  },
  {
   "cell_type": "code",
   "execution_count": 5,
   "metadata": {},
   "outputs": [],
   "source": [
    "def tune_basis_fn(ss, eps=1e5):\n",
    "    w0_arr = np.linspace(0, 3, 10000)\n",
    "\n",
    "    all_seq = torch.cat(tuple(ss))\n",
    "    T = torch.max(all_seq[:, 0]).item()\n",
    "    N_events = np.sum([len(seq) for seq in ss])\n",
    "\n",
    "    h = ((4*torch.std(all_seq)**5) / (3*N_events))**0.2\n",
    "    const = N_events*np.sqrt(2*np.pi*h**2)\n",
    "    upper_bound = lambda w: const * np.exp(-(w**2*h**2)/2)\n",
    "    result = lambda w0: integrate.quad(upper_bound, w0, np.inf)\n",
    "\n",
    "    found = False\n",
    "    basis_fs = []\n",
    "    for w0 in w0_arr:\n",
    "        if result(w0)[0] <= eps:\n",
    "            found = True\n",
    "            print('w0 =', w0)\n",
    "            M = int(np.ceil(T*w0/np.pi))\n",
    "            sigma = 1 / w0\n",
    "            basis_fs = [lambda t, m_=m: np.exp(-(t - (m_-1)*T/M)**2 / (2*sigma**2)) for m in range(1, M+1)]\n",
    "            break\n",
    "\n",
    "    if not found:\n",
    "        print ('w0 not found')\n",
    "    \n",
    "    return basis_fs"
   ]
  },
  {
   "cell_type": "code",
   "execution_count": 3,
   "metadata": {},
   "outputs": [],
   "source": [
    "import scipy.integrate as integrate\n",
    "import matplotlib.pyplot as plt"
   ]
  },
  {
   "cell_type": "code",
   "execution_count": 9,
   "metadata": {},
   "outputs": [
    {
     "name": "stderr",
     "output_type": "stream",
     "text": [
      "/usr/local/lib/python3.7/dist-packages/ipykernel_launcher.py:11: IntegrationWarning: The occurrence of roundoff error is detected, which prevents \n",
      "  the requested tolerance from being achieved.  The error may be \n",
      "  underestimated.\n",
      "  # This is added back by InteractiveShellApp.init_path()\n"
     ]
    },
    {
     "name": "stdout",
     "output_type": "stream",
     "text": [
      "w0 = 0.16516516516516516\n",
      "1e-05 17\n",
      "w0 = 0.15015015015015015\n",
      "0.0001 16\n",
      "w0 = 0.15015015015015015\n",
      "0.001 16\n",
      "w0 = 0.13513513513513514\n",
      "0.01 14\n",
      "w0 = 0.12012012012012012\n",
      "0.1 13\n",
      "w0 = 0.10510510510510511\n",
      "1.0 11\n",
      "w0 = 0.09009009009009009\n",
      "10.0 10\n",
      "w0 = 0.06006006006006006\n",
      "100.0 7\n",
      "w0 = 0.03003003003003003\n",
      "1000.0 4\n",
      "w0 = 0.0\n",
      "10000.0 0\n",
      "w0 = 0.0\n",
      "100000.0 0\n",
      "w0 = 0.0\n",
      "1000000.0 0\n"
     ]
    },
    {
     "name": "stderr",
     "output_type": "stream",
     "text": [
      "/usr/local/lib/python3.7/dist-packages/ipykernel_launcher.py:20: RuntimeWarning: divide by zero encountered in double_scalars\n"
     ]
    }
   ],
   "source": [
    "path = 'data/booking_tmp_tmp'\n",
    "ss, Ts, class2idx, _ = load_data(Path(path), ext='csv', datetime=True, type_='booking2')\n",
    "\n",
    "epss = [1e-5, 1e-4, 1e-3, 1e-2, 1e-1, 1e0, 1e1, 1e2, 1e3, 1e4, 1e5, 1e6]\n",
    "for eps in epss:\n",
    "    basis_fs = tune_basis_fn(ss, eps=eps) # not 1e2, 1e5, 1e-2, 1e-3, 1e1; e3 works (28, 30), e4 (20)\n",
    "    print (eps, len(basis_fs))\n",
    "\n",
    "# e5 - , e3 - 57"
   ]
  },
  {
   "cell_type": "code",
   "execution_count": 6,
   "metadata": {},
   "outputs": [
    {
     "name": "stderr",
     "output_type": "stream",
     "text": [
      "/usr/local/lib/python3.7/dist-packages/ipykernel_launcher.py:11: IntegrationWarning: The occurrence of roundoff error is detected, which prevents \n",
      "  the requested tolerance from being achieved.  The error may be \n",
      "  underestimated.\n",
      "  # This is added back by InteractiveShellApp.init_path()\n"
     ]
    },
    {
     "name": "stdout",
     "output_type": "stream",
     "text": [
      "w0 = 1.0132013201320134\n",
      "1e-05 109\n",
      "w0 = 0.964896489648965\n",
      "0.0001 103\n",
      "w0 = 0.9141914191419143\n",
      "0.001 98\n",
      "w0 = 0.8604860486048606\n",
      "0.01 92\n",
      "w0 = 0.8034803480348035\n",
      "0.1 86\n",
      "w0 = 0.7425742574257427\n",
      "1.0 80\n",
      "w0 = 0.6762676267626763\n",
      "10.0 73\n",
      "w0 = 0.6033603360336034\n",
      "100.0 65\n",
      "w0 = 0.5214521452145215\n",
      "1000.0 56\n",
      "w0 = 0.4263426342634264\n",
      "10000.0 46\n",
      "w0 = 0.30873087308730873\n",
      "100000.0 33\n",
      "w0 = 0.13861386138613863\n",
      "1000000.0 15\n",
      "w0 = 0.0\n",
      "10000000.0 0\n"
     ]
    },
    {
     "name": "stderr",
     "output_type": "stream",
     "text": [
      "/usr/local/lib/python3.7/dist-packages/ipykernel_launcher.py:20: RuntimeWarning: divide by zero encountered in double_scalars\n"
     ]
    }
   ],
   "source": [
    "path = 'data/IPTV_Data'\n",
    "ss, Ts, class2idx, _ = load_data(Path(path), ext='txt', datetime=True)\n",
    "\n",
    "epss = [1e-5, 1e-4, 1e-3, 1e-2, 1e-1, 1e0, 1e1, 1e2, 1e3, 1e4, 1e5, 1e6, 1e7]\n",
    "for eps in epss:\n",
    "    basis_fs = tune_basis_fn(ss, eps=eps) # not 1e2, 1e5, 1e-2, 1e-3, 1e1; e3 works (28, 30), e4 (20)\n",
    "    print (eps, len(basis_fs))\n",
    "\n",
    "# e5 - , e3 - 57"
   ]
  },
  {
   "cell_type": "code",
   "execution_count": 4,
   "metadata": {},
   "outputs": [
    {
     "name": "stdout",
     "output_type": "stream",
     "text": [
      "w0 = 0.14114114114114115\n",
      "1000000.0 16\n"
     ]
    }
   ],
   "source": [
    "path = 'data/IPTV_Data'\n",
    "ss, Ts, class2idx, _ = load_data(Path(path), ext='txt', datetime=True)\n",
    "\n",
    "epss = [1e6]\n",
    "for eps in epss:\n",
    "    basis_fs = tune_basis_fn(ss, eps=eps) # not 1e2, 1e5, 1e-2, 1e-3, 1e1; e3 works (28, 30), e4 (20)\n",
    "    print (eps, len(basis_fs))\n",
    "\n",
    "# e5 - , e3 - 57"
   ]
  },
  {
   "cell_type": "code",
   "execution_count": 119,
   "metadata": {},
   "outputs": [
    {
     "name": "stdout",
     "output_type": "stream",
     "text": [
      "w0 = 0.0\n",
      "data/simulated_Hawkes/K3_C1 0\n"
     ]
    },
    {
     "name": "stderr",
     "output_type": "stream",
     "text": [
      "/usr/local/lib/python3.7/dist-packages/ipykernel_launcher.py:20: RuntimeWarning: divide by zero encountered in double_scalars\n"
     ]
    }
   ],
   "source": [
    "import scipy.integrate as integrate\n",
    "import matplotlib.pyplot as plt\n",
    "\n",
    "datas = ['data/simulated_Hawkes/K3_C1', \n",
    "         'data/simulated_Hawkes/K2_C5', \n",
    "         'data/simulated_Hawkes/K3_C5', \n",
    "         'data/simulated_Hawkes/K4_C5', \n",
    "         'data/simulated_Hawkes/K5_C5',\n",
    "         'data/simulated_Hawkes/tmp_sin_K2_C5', \n",
    "         'data/simulated_Hawkes/tmp_sin_K3_C5',\n",
    "         'data/simulated_Hawkes/tmp_sin_K4_C5', \n",
    "         'data/simulated_Hawkes/tmp_sin_K5_C5',\n",
    "         'data/simulated_Hawkes/tmp_trunc_K2_C5', \n",
    "         'data/simulated_Hawkes/tmp_trunc_K3_C5',\n",
    "         'data/simulated_Hawkes/tmp_trunc_K4_C5', \n",
    "         'data/simulated_Hawkes/tmp_trunc_K5_C5']\n",
    "\n",
    "for path in datas:\n",
    "    ss, Ts, class2idx, _ = load_data(Path(path), ext='csv', datetime=False)\n",
    "    basis_fs = tune_basis_fn(ss, eps=1e6) # not 1e2, 1e5, 1e-2, 1e-3, 1e1; e3 works (28, 30), e4 (20)\n",
    "    print (path, len(basis_fs))\n",
    "    if len(basis_fs) == 0:\n",
    "        break"
   ]
  },
  {
   "cell_type": "code",
   "execution_count": 110,
   "metadata": {},
   "outputs": [
    {
     "name": "stdout",
     "output_type": "stream",
     "text": [
      "w0 = 0.22522522522522523\n",
      "data/simulated_Hawkes/K3_C1 15\n",
      "w0 = 0.24024024024024024\n",
      "data/simulated_Hawkes/K2_C5 6\n",
      "w0 = 0.46546546546546547\n",
      "data/simulated_Hawkes/K3_C5 15\n"
     ]
    },
    {
     "name": "stderr",
     "output_type": "stream",
     "text": [
      "/usr/local/lib/python3.7/dist-packages/ipykernel_launcher.py:11: IntegrationWarning: The occurrence of roundoff error is detected, which prevents \n",
      "  the requested tolerance from being achieved.  The error may be \n",
      "  underestimated.\n",
      "  # This is added back by InteractiveShellApp.init_path()\n"
     ]
    },
    {
     "name": "stdout",
     "output_type": "stream",
     "text": [
      "w0 = 0.7207207207207207\n",
      "data/simulated_Hawkes/K4_C5 20\n",
      "w0 = 0.9009009009009009\n",
      "data/simulated_Hawkes/K5_C5 29\n",
      "w0 = 2.0720720720720722\n",
      "data/simulated_Hawkes/tmp_sin_K2_C5 7\n",
      "w0 = 2.6126126126126126\n",
      "data/simulated_Hawkes/tmp_sin_K3_C5 9\n",
      "w0 = 3.813813813813814\n",
      "data/simulated_Hawkes/tmp_sin_K4_C5 13\n",
      "w0 = 4.48948948948949\n",
      "data/simulated_Hawkes/tmp_sin_K5_C5 15\n",
      "w0 = 1.3063063063063063\n",
      "data/simulated_Hawkes/tmp_trunc_K2_C5 5\n",
      "w0 = 2.942942942942943\n",
      "data/simulated_Hawkes/tmp_trunc_K3_C5 10\n",
      "w0 = 3.873873873873874\n",
      "data/simulated_Hawkes/tmp_trunc_K4_C5 13\n",
      "w0 = 4.504504504504505\n",
      "data/simulated_Hawkes/tmp_trunc_K5_C5 15\n"
     ]
    }
   ],
   "source": [
    "import scipy.integrate as integrate\n",
    "import matplotlib.pyplot as plt\n",
    "\n",
    "datas = ['data/simulated_Hawkes/K3_C1', \n",
    "         'data/simulated_Hawkes/K2_C5', \n",
    "         'data/simulated_Hawkes/K3_C5', \n",
    "         'data/simulated_Hawkes/K4_C5', \n",
    "         'data/simulated_Hawkes/K5_C5',\n",
    "         'data/simulated_Hawkes/tmp_sin_K2_C5', \n",
    "         'data/simulated_Hawkes/tmp_sin_K3_C5',\n",
    "         'data/simulated_Hawkes/tmp_sin_K4_C5', \n",
    "         'data/simulated_Hawkes/tmp_sin_K5_C5',\n",
    "         'data/simulated_Hawkes/tmp_trunc_K2_C5', \n",
    "         'data/simulated_Hawkes/tmp_trunc_K3_C5',\n",
    "         'data/simulated_Hawkes/tmp_trunc_K4_C5', \n",
    "         'data/simulated_Hawkes/tmp_trunc_K5_C5']\n",
    "\n",
    "for path in datas:\n",
    "    ss, Ts, class2idx, _ = load_data(Path(path), ext='csv', datetime=False)\n",
    "    basis_fs = tune_basis_fn(ss, eps=1e5) # not 1e2, 1e5, 1e-2, 1e-3, 1e1; e3 works (28, 30), e4 (20)\n",
    "    print (path, len(basis_fs))\n",
    "    if len(basis_fs) == 0:\n",
    "        break"
   ]
  },
  {
   "cell_type": "code",
   "execution_count": 37,
   "metadata": {},
   "outputs": [
    {
     "data": {
      "text/plain": [
       "[<matplotlib.lines.Line2D at 0x7f2359664290>]"
      ]
     },
     "execution_count": 37,
     "metadata": {},
     "output_type": "execute_result"
    },
    {
     "data": {
      "image/png": "[encoded data removed]",
      "text/plain": [
       "<Figure size 432x288 with 1 Axes>"
      ]
     },
     "metadata": {
      "needs_background": "light"
     },
     "output_type": "display_data"
    }
   ],
   "source": [
    "plt.plot([basis_fs[0](x) for x in np.linspace(0, 20, 1000)])\n",
    "plt.plot([basis_fs[1](x) for x in np.linspace(0, 20, 1000)])\n",
    "plt.plot([basis_fs[2](x) for x in np.linspace(0, 20, 1000)])\n",
    "plt.plot([basis_fs[3](x) for x in np.linspace(0, 20, 1000)])\n",
    "# plt.plot([basis_fs[4](x) for x in range(100)])"
   ]
  }
 ],
 "metadata": {
  "kernelspec": {
   "display_name": "Python 3",
   "language": "python",
   "name": "python3"
  },
  "language_info": {
   "codemirror_mode": {
    "name": "ipython",
    "version": 3
   },
   "file_extension": ".py",
   "mimetype": "text/x-python",
   "name": "python",
   "nbconvert_exporter": "python",
   "pygments_lexer": "ipython3",
   "version": "3.7.5"
  }
 },
 "nbformat": 4,
 "nbformat_minor": 4
}
