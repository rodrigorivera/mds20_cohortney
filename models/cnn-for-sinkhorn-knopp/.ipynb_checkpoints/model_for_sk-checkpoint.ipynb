{
 "cells": [
  {
   "cell_type": "code",
   "execution_count": 7,
   "metadata": {
    "id": "dR9GAt3O1Xob"
   },
   "outputs": [
    {
     "ename": "SyntaxError",
     "evalue": "unexpected character after line continuation character (<ipython-input-7-d9b034db5601>, line 1)",
     "output_type": "error",
     "traceback": [
      "\u001b[1;36m  File \u001b[1;32m\"<ipython-input-7-d9b034db5601>\"\u001b[1;36m, line \u001b[1;32m1\u001b[0m\n\u001b[1;33m    from ..src\\sinkhorn-knopp\\sk import *\u001b[0m\n\u001b[1;37m                                         ^\u001b[0m\n\u001b[1;31mSyntaxError\u001b[0m\u001b[1;31m:\u001b[0m unexpected character after line continuation character\n"
     ]
    }
   ],
   "source": [
    "from ..src\\sinkhorn-knopp\\sk import *\n",
    "\n",
    "import numpy as np\n",
    "import torch, torch.nn as nn\n",
    "import torch.nn.functional as F\n",
    "import torchvision\n",
    "from torchvision import transforms\n",
    "from torchvision.utils import make_grid\n",
    "\n",
    "from datetime import datetime\n",
    "from torch.utils.tensorboard import SummaryWriter\n",
    "\n",
    "import time\n",
    "from tqdm import tqdm\n",
    "\n",
    "import matplotlib.pyplot as plt\n",
    "%matplotlib inline\n",
    "\n",
    "import os\n",
    "\n",
    "# !pip install einops\n",
    "# !wget -O utils.py https://drive.google.com/uc?id=1O3QWBKrqA7s8nIGzhKMIz-YNK1-jzwml\n",
    "# import utils\n",
    "# from utils import plot_loss_and_accuracy"
   ]
  },
  {
   "cell_type": "code",
   "execution_count": 2,
   "metadata": {
    "colab": {
     "base_uri": "https://localhost:8080/"
    },
    "id": "eMllLzXy2AjR",
    "outputId": "ba669daa-ca8a-451a-9cda-9acea4d5ef1f"
   },
   "outputs": [
    {
     "name": "stdout",
     "output_type": "stream",
     "text": [
      "Mounted at /content/drive\n"
     ]
    }
   ],
   "source": [
    "# Detect if we are in Google Colaboratory\n",
    "try:\n",
    "    import google.colab\n",
    "    IN_COLAB = True\n",
    "except ImportError:\n",
    "    IN_COLAB = False\n",
    "\n",
    "from pathlib import Path\n",
    "# Determine the locations of auxiliary libraries and datasets.\n",
    "# `AUX_DATA_ROOT` is where 'notmnist.py', 'animation.py' and 'tiny-imagenet-2020.zip' are.\n",
    "if IN_COLAB:\n",
    "    google.colab.drive.mount(\"/content/drive\")\n",
    "    \n",
    "    # Change this if you created the shortcut in a different location\n",
    "    # AUX_DATA_ROOT = Path(\"/content/drive/My Drive/mds20_cohortney\")\n",
    "    \n",
    "    # assert AUX_DATA_ROOT.is_dir(), \"Have you forgot to 'Add a shortcut to Drive'?\"\n",
    "# else:\n",
    "AUX_DATA_ROOT = Path(\".\")"
   ]
  },
  {
   "cell_type": "code",
   "execution_count": 50,
   "metadata": {
    "id": "BJOzkktRdX-X"
   },
   "outputs": [],
   "source": [
    " def make_model():\n",
    "    model = nn.Sequential(\n",
    "        nn.Conv1d(in_channels=30, out_channels=50, kernel_size=3, padding=1), # [1, 50, 40]\n",
    "        nn.BatchNorm1d(50),\n",
    "        nn.ReLU(),\n",
    "        nn.MaxPool1d(kernel_size=2),   # [1, 50, 20]\n",
    "\n",
    "        nn.Flatten(),                  # [1, 1000]\n",
    "        nn.Linear(1000, 500),          # [1, 500]\n",
    "        nn.Dropout(0.3),\n",
    "        nn.Linear(500, 10),            # [1, 10]\n",
    "        nn.LogSoftmax(dim=1)\n",
    "    )\n",
    "    return model\n",
    "model = make_model()\n",
    "model = model.to(device)"
   ]
  },
  {
   "cell_type": "code",
   "execution_count": 52,
   "metadata": {
    "id": "NM9KplIob126"
   },
   "outputs": [],
   "source": [
    "# model(torch.Tensor(1, 30, 40).to(device)).shape # [samples, channels, length]"
   ]
  },
  {
   "cell_type": "code",
   "execution_count": 53,
   "metadata": {
    "id": "C6D9jXObbG3u"
   },
   "outputs": [],
   "source": [
    "def compute_accuracy(logits, y_true, device='cuda:0'):\n",
    "    y_pred = torch.argmax(logits, dim=1)\n",
    "    return (y_pred == y_true.to(device)).float().mean()"
   ]
  },
  {
   "cell_type": "code",
   "execution_count": 54,
   "metadata": {
    "id": "zqBDRuXgYkb3"
   },
   "outputs": [],
   "source": [
    "def accuracy(model, images, labels):\n",
    "    logits = model.forward(images)\n",
    "    y_pred = torch.argmax(logits, dim=1)\n",
    "    return (y_pred == labels).float().mean()"
   ]
  },
  {
   "cell_type": "code",
   "execution_count": 55,
   "metadata": {
    "id": "iwqkWrneiwy9"
   },
   "outputs": [],
   "source": [
    "def iterate_minibatches(inputs, targets, batchsize, shuffle=False):\n",
    "    assert len(inputs) == len(targets)\n",
    "    if shuffle:\n",
    "        indices = np.random.permutation(len(inputs))\n",
    "    for start_idx in range(0, len(inputs) - batchsize + 1, batchsize):\n",
    "        if shuffle:\n",
    "            excerpt = indices[start_idx:start_idx + batchsize]\n",
    "        else:\n",
    "            excerpt = slice(start_idx, start_idx + batchsize)\n",
    "        yield inputs[excerpt], targets[excerpt]"
   ]
  },
  {
   "cell_type": "code",
   "execution_count": 56,
   "metadata": {
    "id": "iNZBpJqRUujr"
   },
   "outputs": [],
   "source": [
    "def train(model, num_epochs=2, lr=0.1, weight_decay=0, exp_name='my_network'):\n",
    "    # writer = SummaryWriter(f'logs/{exp_name}')\n",
    "    opt = torch.optim.Adam(model.parameters(), lr=lr, weight_decay=weight_decay)\n",
    "    scheduler = torch.optim.lr_scheduler.StepLR(opt, step_size=7, gamma=0.1)\n",
    "\n",
    "    train_loss = []\n",
    "    val_loss = []\n",
    "    train_accuracy = []\n",
    "    val_accuracy = []\n",
    "\n",
    "    for epoch in range(num_epochs):\n",
    "        start_time = time.time()\n",
    "        model.train(True)\n",
    "\n",
    "        train_accuracy_batch = []\n",
    "\n",
    "        # for batch_no, (X_batch, y_batch) in tqdm(enumerate(zip(X, y)), \n",
    "        #                                          total=len(X), desc=\"train \" + str(epoch + 1)):\n",
    "        for batch_no, (X_batch, y_batch) in enumerate(iterate_minibatches(X, y, batchsize=250, shuffle=True)):\n",
    "            # main cycle\n",
    "            print (X_batch.shape, y_batch.shape)\n",
    "            model.zero_grad()\n",
    "            X_batch_gpu = X_batch.squeeze_().to(device)\n",
    "            logits = model(X_batch_gpu)\n",
    "            print (logits.shape, y_batch.shape)\n",
    "            loss = F.nll_loss(logits, y_batch.to(device))\n",
    "            loss.backward()\n",
    "            opt.step()\n",
    "        \n",
    "        train_accuracy_overall = np.mean(train_accuracy_batch) * 100 # mean train accuracy over 1 epoch in %\n",
    "        train_accuracy.append(train_accuracy_overall.item())\n",
    "\n",
    "    return train_accuracy_overall, 0"
   ]
  },
  {
   "cell_type": "code",
   "execution_count": 58,
   "metadata": {
    "colab": {
     "base_uri": "https://localhost:8080/"
    },
    "id": "lrDHgcsOBGWt",
    "outputId": "47688048-ed87-49e5-d042-c53db57bdf0e"
   },
   "outputs": [
    {
     "data": {
      "text/plain": [
       "(torch.Size([1000, 30, 40]), torch.Size([1000]))"
      ]
     },
     "execution_count": 58,
     "metadata": {
      "tags": []
     },
     "output_type": "execute_result"
    }
   ],
   "source": [
    "X = torch.Tensor(1000, 30, 40) # [samples, n_steps, features]\n",
    "y = torch.randint(10, (1000,))\n",
    "\n",
    "X.shape, y.shape"
   ]
  },
  {
   "cell_type": "code",
   "execution_count": 59,
   "metadata": {
    "colab": {
     "base_uri": "https://localhost:8080/"
    },
    "id": "gJicDF6Pbohf",
    "outputId": "21979c2d-0be6-4856-b227-59ef2f636e6b"
   },
   "outputs": [
    {
     "data": {
      "text/plain": [
       "tensor([0, 1, 2, 3, 4, 5, 6, 7, 8, 9])"
      ]
     },
     "execution_count": 59,
     "metadata": {
      "tags": []
     },
     "output_type": "execute_result"
    }
   ],
   "source": [
    "torch.unique(y)"
   ]
  },
  {
   "cell_type": "code",
   "execution_count": 60,
   "metadata": {
    "colab": {
     "base_uri": "https://localhost:8080/",
     "height": 35
    },
    "id": "Kt1Rb7Dykda3",
    "outputId": "d1e856ad-db0c-40e4-9000-a43c82b6b28c"
   },
   "outputs": [
    {
     "data": {
      "application/vnd.google.colaboratory.intrinsic+json": {
       "type": "string"
      },
      "text/plain": [
       "'cuda:0'"
      ]
     },
     "execution_count": 60,
     "metadata": {
      "tags": []
     },
     "output_type": "execute_result"
    }
   ],
   "source": [
    "device = 'cuda:0' if torch.cuda.is_available() else 'cpu'\n",
    "device"
   ]
  },
  {
   "cell_type": "code",
   "execution_count": 61,
   "metadata": {
    "id": "qeG56fbyhCZK"
   },
   "outputs": [],
   "source": [
    "model = make_model()\n",
    "model = model.to(device)"
   ]
  },
  {
   "cell_type": "code",
   "execution_count": 62,
   "metadata": {
    "colab": {
     "base_uri": "https://localhost:8080/"
    },
    "id": "Xl0tK6WfO7xx",
    "outputId": "b6cbe062-3be0-4a6d-c26b-0dac743532c4"
   },
   "outputs": [
    {
     "name": "stdout",
     "output_type": "stream",
     "text": [
      "CPU times: user 2 µs, sys: 1 µs, total: 3 µs\n",
      "Wall time: 7.15 µs\n",
      "torch.Size([250, 30, 40]) torch.Size([250])\n",
      "torch.Size([250, 10]) torch.Size([250])\n",
      "torch.Size([250, 30, 40]) torch.Size([250])\n",
      "torch.Size([250, 10]) torch.Size([250])\n",
      "torch.Size([250, 30, 40]) torch.Size([250])\n",
      "torch.Size([250, 10]) torch.Size([250])\n",
      "torch.Size([250, 30, 40]) torch.Size([250])\n",
      "torch.Size([250, 10]) torch.Size([250])\n",
      "torch.Size([250, 30, 40]) torch.Size([250])\n",
      "torch.Size([250, 10]) torch.Size([250])\n",
      "torch.Size([250, 30, 40]) torch.Size([250])\n",
      "torch.Size([250, 10]) torch.Size([250])\n",
      "torch.Size([250, 30, 40]) torch.Size([250])\n",
      "torch.Size([250, 10]) torch.Size([250])\n",
      "torch.Size([250, 30, 40]) torch.Size([250])\n",
      "torch.Size([250, 10]) torch.Size([250])\n",
      "torch.Size([250, 30, 40]) torch.Size([250])\n",
      "torch.Size([250, 10]) torch.Size([250])\n",
      "torch.Size([250, 30, 40]) torch.Size([250])\n",
      "torch.Size([250, 10]) torch.Size([250])\n",
      "torch.Size([250, 30, 40]) torch.Size([250])\n",
      "torch.Size([250, 10]) torch.Size([250])\n",
      "torch.Size([250, 30, 40]) torch.Size([250])\n",
      "torch.Size([250, 10]) torch.Size([250])\n",
      "torch.Size([250, 30, 40]) torch.Size([250])\n",
      "torch.Size([250, 10]) torch.Size([250])\n",
      "torch.Size([250, 30, 40]) torch.Size([250])\n",
      "torch.Size([250, 10]) torch.Size([250])\n",
      "torch.Size([250, 30, 40]) torch.Size([250])\n",
      "torch.Size([250, 10]) torch.Size([250])\n",
      "torch.Size([250, 30, 40]) torch.Size([250])\n",
      "torch.Size([250, 10]) torch.Size([250])\n",
      "torch.Size([250, 30, 40]) torch.Size([250])\n",
      "torch.Size([250, 10]) torch.Size([250])\n",
      "torch.Size([250, 30, 40]) torch.Size([250])\n",
      "torch.Size([250, 10]) torch.Size([250])\n",
      "torch.Size([250, 30, 40]) torch.Size([250])\n",
      "torch.Size([250, 10]) torch.Size([250])\n",
      "torch.Size([250, 30, 40]) torch.Size([250])\n",
      "torch.Size([250, 10]) torch.Size([250])\n",
      "torch.Size([250, 30, 40]) torch.Size([250])\n",
      "torch.Size([250, 10]) torch.Size([250])\n",
      "torch.Size([250, 30, 40]) torch.Size([250])\n",
      "torch.Size([250, 10]) torch.Size([250])\n",
      "torch.Size([250, 30, 40]) torch.Size([250])\n",
      "torch.Size([250, 10]) torch.Size([250])\n",
      "torch.Size([250, 30, 40]) torch.Size([250])\n",
      "torch.Size([250, 10]) torch.Size([250])\n",
      "torch.Size([250, 30, 40]) torch.Size([250])\n",
      "torch.Size([250, 10]) torch.Size([250])\n",
      "torch.Size([250, 30, 40]) torch.Size([250])\n",
      "torch.Size([250, 10]) torch.Size([250])\n",
      "torch.Size([250, 30, 40]) torch.Size([250])\n",
      "torch.Size([250, 10]) torch.Size([250])\n",
      "torch.Size([250, 30, 40]) torch.Size([250])\n",
      "torch.Size([250, 10]) torch.Size([250])\n",
      "torch.Size([250, 30, 40]) torch.Size([250])\n",
      "torch.Size([250, 10]) torch.Size([250])\n",
      "torch.Size([250, 30, 40]) torch.Size([250])\n",
      "torch.Size([250, 10]) torch.Size([250])\n",
      "torch.Size([250, 30, 40]) torch.Size([250])\n",
      "torch.Size([250, 10]) torch.Size([250])\n",
      "torch.Size([250, 30, 40]) torch.Size([250])\n",
      "torch.Size([250, 10]) torch.Size([250])\n",
      "torch.Size([250, 30, 40]) torch.Size([250])\n",
      "torch.Size([250, 10]) torch.Size([250])\n",
      "torch.Size([250, 30, 40]) torch.Size([250])\n",
      "torch.Size([250, 10]) torch.Size([250])\n",
      "torch.Size([250, 30, 40]) torch.Size([250])\n",
      "torch.Size([250, 10]) torch.Size([250])\n",
      "torch.Size([250, 30, 40]) torch.Size([250])\n",
      "torch.Size([250, 10]) torch.Size([250])\n",
      "torch.Size([250, 30, 40]) torch.Size([250])\n",
      "torch.Size([250, 10]) torch.Size([250])\n",
      "torch.Size([250, 30, 40]) torch.Size([250])\n",
      "torch.Size([250, 10]) torch.Size([250])\n",
      "torch.Size([250, 30, 40]) torch.Size([250])\n",
      "torch.Size([250, 10]) torch.Size([250])\n",
      "torch.Size([250, 30, 40]) torch.Size([250])\n",
      "torch.Size([250, 10]) torch.Size([250])\n",
      "nan 0\n"
     ]
    },
    {
     "name": "stderr",
     "output_type": "stream",
     "text": [
      "/usr/local/lib/python3.6/dist-packages/numpy/core/fromnumeric.py:3335: RuntimeWarning: Mean of empty slice.\n",
      "  out=out, **kwargs)\n",
      "/usr/local/lib/python3.6/dist-packages/numpy/core/_methods.py:161: RuntimeWarning: invalid value encountered in double_scalars\n",
      "  ret = ret.dtype.type(ret / rcount)\n"
     ]
    }
   ],
   "source": [
    "train_accuracy = -1\n",
    "val_accuracy = -1\n",
    "\n",
    "DO_TRAIN = True\n",
    "if DO_TRAIN:\n",
    "    %%time\n",
    "    lr=0.01\n",
    "    exp_name = datetime.now().isoformat(timespec='seconds') + f'exp{lr}'\n",
    "    train_accuracy, val_accuracy = train(model, num_epochs=10, weight_decay=0, lr=lr, exp_name=exp_name)\n",
    "\n",
    "    torch.save(model.state_dict(), \"checkpoint.pth\")\n",
    "    print (train_accuracy, val_accuracy)"
   ]
  },
  {
   "cell_type": "code",
   "execution_count": null,
   "metadata": {
    "id": "X92IEWyLbASW"
   },
   "outputs": [],
   "source": []
  }
 ],
 "metadata": {
  "accelerator": "GPU",
  "colab": {
   "collapsed_sections": [],
   "name": "model_for_sk.ipynb",
   "provenance": []
  },
  "kernelspec": {
   "display_name": "Python 3",
   "language": "python",
   "name": "python3"
  },
  "language_info": {
   "codemirror_mode": {
    "name": "ipython",
    "version": 3
   },
   "file_extension": ".py",
   "mimetype": "text/x-python",
   "name": "python",
   "nbconvert_exporter": "python",
   "pygments_lexer": "ipython3",
   "version": "3.7.4"
  }
 },
 "nbformat": 4,
 "nbformat_minor": 1
}
