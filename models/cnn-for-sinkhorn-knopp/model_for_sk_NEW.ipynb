{
  "nbformat": 4,
  "nbformat_minor": 0,
  "metadata": {
    "accelerator": "GPU",
    "colab": {
      "name": "model_for_sk_NEW.ipynb",
      "provenance": [],
      "collapsed_sections": []
    },
    "kernelspec": {
      "display_name": "Python 3",
      "language": "python",
      "name": "python3"
    },
    "language_info": {
      "codemirror_mode": {
        "name": "ipython",
        "version": 3
      },
      "file_extension": ".py",
      "mimetype": "text/x-python",
      "name": "python",
      "nbconvert_exporter": "python",
      "pygments_lexer": "ipython3",
      "version": "3.7.4"
    }
  },
  "cells": [
    {
      "cell_type": "code",
      "metadata": {
        "id": "dR9GAt3O1Xob"
      },
      "source": [
        "import numpy as np\n",
        "import torch, torch.nn as nn\n",
        "import torch.nn.functional as F\n",
        "import torchvision\n",
        "from torchvision import transforms\n",
        "from torchvision.utils import make_grid\n",
        "\n",
        "from datetime import datetime\n",
        "from torch.utils.tensorboard import SummaryWriter\n",
        "\n",
        "import time\n",
        "from tqdm import tqdm\n",
        "\n",
        "import matplotlib.pyplot as plt\n",
        "%matplotlib inline\n",
        "\n",
        "import os\n",
        "\n",
        "# !pip install einops\n",
        "# !wget -O utils.py https://drive.google.com/uc?id=1O3QWBKrqA7s8nIGzhKMIz-YNK1-jzwml\n",
        "# import utils\n",
        "# from utils import plot_loss_and_accuracy"
      ],
      "execution_count": 1,
      "outputs": []
    },
    {
      "cell_type": "code",
      "metadata": {
        "colab": {
          "base_uri": "https://localhost:8080/"
        },
        "id": "eMllLzXy2AjR",
        "outputId": "901c1be3-3e4f-47da-89f3-7f7542832f0a"
      },
      "source": [
        "# Detect if we are in Google Colaboratory\n",
        "try:\n",
        "    import google.colab\n",
        "    IN_COLAB = True\n",
        "except ImportError:\n",
        "    IN_COLAB = False\n",
        "\n",
        "from pathlib import Path\n",
        "# Determine the locations of auxiliary libraries and datasets.\n",
        "# `AUX_DATA_ROOT` is where 'notmnist.py', 'animation.py' and 'tiny-imagenet-2020.zip' are.\n",
        "if IN_COLAB:\n",
        "    google.colab.drive.mount(\"/content/drive\")\n",
        "    \n",
        "    # Change this if you created the shortcut in a different location\n",
        "    # AUX_DATA_ROOT = Path(\"/content/drive/My Drive/mds20_cohortney\")\n",
        "    \n",
        "    # assert AUX_DATA_ROOT.is_dir(), \"Have you forgot to 'Add a shortcut to Drive'?\"\n",
        "# else:\n",
        "AUX_DATA_ROOT = Path(\".\")"
      ],
      "execution_count": 2,
      "outputs": [
        {
          "output_type": "stream",
          "text": [
            "Mounted at /content/drive\n"
          ],
          "name": "stdout"
        }
      ]
    },
    {
      "cell_type": "code",
      "metadata": {
        "id": "BJOzkktRdX-X"
      },
      "source": [
        " def make_model():\n",
        "    model = nn.Sequential(\n",
        "        nn.Conv1d(in_channels=30, out_channels=50, kernel_size=3, padding=1), # [1, 50, 40]\n",
        "        nn.BatchNorm1d(50),\n",
        "        nn.ReLU(),\n",
        "        nn.MaxPool1d(kernel_size=2),   # [1, 50, 20]\n",
        "\n",
        "        nn.Flatten(),                  # [1, 1000]\n",
        "        nn.Linear(1000, 500),          # [1, 500]\n",
        "        nn.Dropout(0.3),\n",
        "        nn.Linear(500, 10),            # [1, 10]\n",
        "        nn.LogSoftmax(dim=1)\n",
        "    )\n",
        "    return model"
      ],
      "execution_count": 91,
      "outputs": []
    },
    {
      "cell_type": "code",
      "metadata": {
        "id": "C6D9jXObbG3u"
      },
      "source": [
        "def compute_accuracy(logits, y_true, device='cuda:0'):\n",
        "    y_pred = torch.argmax(logits, dim=1)\n",
        "    return (y_pred == y_true.to(device)).float().mean()"
      ],
      "execution_count": 71,
      "outputs": []
    },
    {
      "cell_type": "code",
      "metadata": {
        "id": "zqBDRuXgYkb3"
      },
      "source": [
        "def accuracy(model, images, labels):\n",
        "    logits = model.forward(images)\n",
        "    y_pred = torch.argmax(logits, dim=1)\n",
        "    return (y_pred == labels).float().mean()"
      ],
      "execution_count": 72,
      "outputs": []
    },
    {
      "cell_type": "code",
      "metadata": {
        "id": "iwqkWrneiwy9"
      },
      "source": [
        "def iterate_minibatches(inputs, targets, batchsize, shuffle=False):\n",
        "    assert len(inputs) == len(targets)\n",
        "    if shuffle:\n",
        "        indices = np.random.permutation(len(inputs))\n",
        "    for start_idx in range(0, len(inputs) - batchsize + 1, batchsize):\n",
        "        if shuffle:\n",
        "            excerpt = indices[start_idx:start_idx + batchsize]\n",
        "        else:\n",
        "            excerpt = slice(start_idx, start_idx + batchsize)\n",
        "        yield inputs[excerpt], targets[excerpt], excerpt"
      ],
      "execution_count": 73,
      "outputs": []
    },
    {
      "cell_type": "code",
      "metadata": {
        "id": "PgmrIKM384eP"
      },
      "source": [
        "def sinkhorn(P, r, c, lmbd=0.05, eps=1e-3):\n",
        "    P = -P\n",
        "    Q = torch.exp(- lmbd * P).T\n",
        "    Q /= torch.sum(Q)\n",
        "    K, N = Q.shape\n",
        "    u = torch.zeros(K)\n",
        "    res = []\n",
        "    res.append(-torch.sum(torch.trace(Q.T @ P.T)))\n",
        "    while True:\n",
        "        Q_prev = Q.clone()\n",
        "        u = torch.sum(Q, dim=1)\n",
        "        Q *= (c / u).unsqueeze(1)\n",
        "        Q *= (r / torch.sum(Q, dim=0)).unsqueeze(0)\n",
        "        res.append(-torch.sum(torch.trace(Q.T @ P.T)))\n",
        "        if torch.sum(((Q-Q_prev)/Q_prev)**2) <eps:\n",
        "            break\n",
        "    return Q.T, res\n",
        "\n",
        "def opt_sk(model, epoch):\n",
        "    PS = np.zeros((N, K))\n",
        "    \n",
        "    for batch_idx, (data, _, _selected) in enumerate(iterate_minibatches(X_train, y_train, batch_size, shuffle=True)):\n",
        "        data = data.to(device) # [100, 30, 40]\n",
        "        p = nn.functional.softmax(model(data), 1) # [100, 10]\n",
        "        PS[_selected, :] = p.detach().cpu().numpy()\n",
        "    \n",
        "    r = torch.ones(K)/K\n",
        "    c = torch.ones(N)/N\n",
        "    selflabels = sinkhorn(torch.from_numpy(PS).T, r, c)\n",
        "\n",
        "    return selflabels"
      ],
      "execution_count": 98,
      "outputs": []
    },
    {
      "cell_type": "code",
      "metadata": {
        "id": "iNZBpJqRUujr"
      },
      "source": [
        "def train(model, selflabels, num_epochs=2, lr=0.1, weight_decay=0, exp_name='my_network'):\n",
        "    # writer = SummaryWriter(f'logs/{exp_name}')\n",
        "    opt = torch.optim.Adam(model.parameters(), lr=lr, weight_decay=weight_decay)\n",
        "    scheduler = torch.optim.lr_scheduler.StepLR(opt, step_size=7, gamma=0.1)\n",
        "\n",
        "    train_loss = []\n",
        "    val_loss = []\n",
        "    train_accuracy = []\n",
        "    val_accuracy = []\n",
        "\n",
        "    for epoch in range(num_epochs):\n",
        "        start_time = time.time()\n",
        "        model.train(True)\n",
        "\n",
        "        train_accuracy_batch = []\n",
        "\n",
        "        for batch_idx, (inputs, _, indexes) in enumerate(iterate_minibatches(X_train, y_train, batch_size, shuffle=True)):\n",
        "            inputs = inputs.float().to(device)\n",
        "            niter = epoch * N // batch_size + batch_idx\n",
        "            \n",
        "            with torch.no_grad():\n",
        "                selflabels = opt_sk(model, epoch)\n",
        "                \n",
        "            inputs = inputs.to(device)\n",
        "            opt.zero_grad()\n",
        "\n",
        "            outputs = model(inputs)\n",
        "            # print (selflabels)\n",
        "            print (outputs.shape, selflabels)\n",
        "            \n",
        "            loss = nn.CrossEntropyLoss(outputs, selflabels[indexes])\n",
        "           \n",
        "            loss.backward()\n",
        "            opt.step()\n",
        "                                                    \n",
        "        train_accuracy_overall = np.mean(train_accuracy_batch) * 100 # mean train accuracy over 1 epoch in %\n",
        "        train_accuracy.append(train_accuracy_overall.item())\n",
        "\n",
        "    return train_accuracy_overall, 0"
      ],
      "execution_count": 99,
      "outputs": []
    },
    {
      "cell_type": "code",
      "metadata": {
        "colab": {
          "base_uri": "https://localhost:8080/"
        },
        "id": "lrDHgcsOBGWt",
        "outputId": "a210aa57-93ec-44c4-85a7-ad999f634b92"
      },
      "source": [
        "N = 1000\n",
        "K = 10\n",
        "\n",
        "X_train = torch.Tensor(N, 30, 40) # [samples, n_steps, features]\n",
        "selflabels = torch.randint(K, (N,))\n",
        "y_train = torch.zeros(N) # dummy var\n",
        "\n",
        "X_train.shape, y_train.shape, selflabels.shape, torch.unique(selflabels)"
      ],
      "execution_count": 100,
      "outputs": [
        {
          "output_type": "execute_result",
          "data": {
            "text/plain": [
              "(torch.Size([1000, 30, 40]),\n",
              " torch.Size([1000]),\n",
              " torch.Size([1000]),\n",
              " tensor([0, 1, 2, 3, 4, 5, 6, 7, 8, 9]))"
            ]
          },
          "metadata": {
            "tags": []
          },
          "execution_count": 100
        }
      ]
    },
    {
      "cell_type": "code",
      "metadata": {
        "colab": {
          "base_uri": "https://localhost:8080/",
          "height": 35
        },
        "id": "Kt1Rb7Dykda3",
        "outputId": "3002dc17-cbf6-489b-aa8c-29a1a8993c9c"
      },
      "source": [
        "device = 'cuda:0' if torch.cuda.is_available() else 'cpu'\n",
        "device"
      ],
      "execution_count": 101,
      "outputs": [
        {
          "output_type": "execute_result",
          "data": {
            "application/vnd.google.colaboratory.intrinsic+json": {
              "type": "string"
            },
            "text/plain": [
              "'cuda:0'"
            ]
          },
          "metadata": {
            "tags": []
          },
          "execution_count": 101
        }
      ]
    },
    {
      "cell_type": "code",
      "metadata": {
        "id": "qeG56fbyhCZK"
      },
      "source": [
        "model = make_model()\n",
        "model = model.to(device)"
      ],
      "execution_count": 102,
      "outputs": []
    },
    {
      "cell_type": "code",
      "metadata": {
        "colab": {
          "base_uri": "https://localhost:8080/",
          "height": 637
        },
        "id": "Xl0tK6WfO7xx",
        "outputId": "6fce00ff-d485-423b-fd7c-9cc8746c7a0c"
      },
      "source": [
        "train_accuracy = -1\n",
        "val_accuracy = -1\n",
        "\n",
        "DO_TRAIN = True\n",
        "if DO_TRAIN:\n",
        "    %%time\n",
        "    lr=0.01\n",
        "    exp_name = datetime.now().isoformat(timespec='seconds') + f'exp{lr}'\n",
        "    batch_size = 100\n",
        "    train_accuracy, val_accuracy = train(model, selflabels, num_epochs=2, weight_decay=0, lr=lr, exp_name=exp_name)\n",
        "\n",
        "    torch.save(model.state_dict(), \"checkpoint.pth\")\n",
        "    print (train_accuracy, val_accuracy)"
      ],
      "execution_count": 103,
      "outputs": [
        {
          "output_type": "stream",
          "text": [
            "CPU times: user 2 µs, sys: 0 ns, total: 2 µs\n",
            "Wall time: 4.53 µs\n",
            "torch.Size([100, 10]) (tensor([[9.9980e-05, 9.9983e-05, 9.9979e-05,  ..., 9.9979e-05, 9.9983e-05,\n",
            "         9.9977e-05],\n",
            "        [1.0010e-04, 1.0009e-04, 1.0009e-04,  ..., 1.0010e-04, 1.0009e-04,\n",
            "         1.0009e-04],\n",
            "        [9.9943e-05, 9.9943e-05, 9.9943e-05,  ..., 9.9938e-05, 9.9942e-05,\n",
            "         9.9937e-05],\n",
            "        ...,\n",
            "        [1.0004e-04, 1.0003e-04, 1.0005e-04,  ..., 1.0003e-04, 1.0004e-04,\n",
            "         1.0004e-04],\n",
            "        [1.0002e-04, 1.0004e-04, 1.0003e-04,  ..., 1.0003e-04, 1.0003e-04,\n",
            "         1.0003e-04],\n",
            "        [1.0002e-04, 1.0001e-04, 1.0001e-04,  ..., 1.0001e-04, 1.0001e-04,\n",
            "         1.0001e-04]], dtype=torch.float64), [tensor(0.1000, dtype=torch.float64), tensor(0.1000, dtype=torch.float64), tensor(0.1000, dtype=torch.float64)])\n"
          ],
          "name": "stdout"
        },
        {
          "output_type": "error",
          "ename": "TypeError",
          "evalue": "ignored",
          "traceback": [
            "\u001b[0;31m---------------------------------------------------------------------------\u001b[0m",
            "\u001b[0;31mTypeError\u001b[0m                                 Traceback (most recent call last)",
            "\u001b[0;32m<ipython-input-103-bae2635a6298>\u001b[0m in \u001b[0;36m<module>\u001b[0;34m()\u001b[0m\n\u001b[1;32m      8\u001b[0m     \u001b[0mexp_name\u001b[0m \u001b[0;34m=\u001b[0m \u001b[0mdatetime\u001b[0m\u001b[0;34m.\u001b[0m\u001b[0mnow\u001b[0m\u001b[0;34m(\u001b[0m\u001b[0;34m)\u001b[0m\u001b[0;34m.\u001b[0m\u001b[0misoformat\u001b[0m\u001b[0;34m(\u001b[0m\u001b[0mtimespec\u001b[0m\u001b[0;34m=\u001b[0m\u001b[0;34m'seconds'\u001b[0m\u001b[0;34m)\u001b[0m \u001b[0;34m+\u001b[0m \u001b[0;34mf'exp{lr}'\u001b[0m\u001b[0;34m\u001b[0m\u001b[0;34m\u001b[0m\u001b[0m\n\u001b[1;32m      9\u001b[0m     \u001b[0mbatch_size\u001b[0m \u001b[0;34m=\u001b[0m \u001b[0;36m100\u001b[0m\u001b[0;34m\u001b[0m\u001b[0;34m\u001b[0m\u001b[0m\n\u001b[0;32m---> 10\u001b[0;31m     \u001b[0mtrain_accuracy\u001b[0m\u001b[0;34m,\u001b[0m \u001b[0mval_accuracy\u001b[0m \u001b[0;34m=\u001b[0m \u001b[0mtrain\u001b[0m\u001b[0;34m(\u001b[0m\u001b[0mmodel\u001b[0m\u001b[0;34m,\u001b[0m \u001b[0mselflabels\u001b[0m\u001b[0;34m,\u001b[0m \u001b[0mnum_epochs\u001b[0m\u001b[0;34m=\u001b[0m\u001b[0;36m2\u001b[0m\u001b[0;34m,\u001b[0m \u001b[0mweight_decay\u001b[0m\u001b[0;34m=\u001b[0m\u001b[0;36m0\u001b[0m\u001b[0;34m,\u001b[0m \u001b[0mlr\u001b[0m\u001b[0;34m=\u001b[0m\u001b[0mlr\u001b[0m\u001b[0;34m,\u001b[0m \u001b[0mexp_name\u001b[0m\u001b[0;34m=\u001b[0m\u001b[0mexp_name\u001b[0m\u001b[0;34m)\u001b[0m\u001b[0;34m\u001b[0m\u001b[0;34m\u001b[0m\u001b[0m\n\u001b[0m\u001b[1;32m     11\u001b[0m \u001b[0;34m\u001b[0m\u001b[0m\n\u001b[1;32m     12\u001b[0m     \u001b[0mtorch\u001b[0m\u001b[0;34m.\u001b[0m\u001b[0msave\u001b[0m\u001b[0;34m(\u001b[0m\u001b[0mmodel\u001b[0m\u001b[0;34m.\u001b[0m\u001b[0mstate_dict\u001b[0m\u001b[0;34m(\u001b[0m\u001b[0;34m)\u001b[0m\u001b[0;34m,\u001b[0m \u001b[0;34m\"checkpoint.pth\"\u001b[0m\u001b[0;34m)\u001b[0m\u001b[0;34m\u001b[0m\u001b[0;34m\u001b[0m\u001b[0m\n",
            "\u001b[0;32m<ipython-input-99-1371786b775d>\u001b[0m in \u001b[0;36mtrain\u001b[0;34m(model, selflabels, num_epochs, lr, weight_decay, exp_name)\u001b[0m\n\u001b[1;32m     29\u001b[0m             \u001b[0mprint\u001b[0m \u001b[0;34m(\u001b[0m\u001b[0moutputs\u001b[0m\u001b[0;34m.\u001b[0m\u001b[0mshape\u001b[0m\u001b[0;34m,\u001b[0m \u001b[0mselflabels\u001b[0m\u001b[0;34m)\u001b[0m\u001b[0;34m\u001b[0m\u001b[0;34m\u001b[0m\u001b[0m\n\u001b[1;32m     30\u001b[0m \u001b[0;34m\u001b[0m\u001b[0m\n\u001b[0;32m---> 31\u001b[0;31m             \u001b[0mloss\u001b[0m \u001b[0;34m=\u001b[0m \u001b[0mnn\u001b[0m\u001b[0;34m.\u001b[0m\u001b[0mCrossEntropyLoss\u001b[0m\u001b[0;34m(\u001b[0m\u001b[0moutputs\u001b[0m\u001b[0;34m,\u001b[0m \u001b[0mselflabels\u001b[0m\u001b[0;34m[\u001b[0m\u001b[0mindexes\u001b[0m\u001b[0;34m]\u001b[0m\u001b[0;34m)\u001b[0m\u001b[0;34m\u001b[0m\u001b[0;34m\u001b[0m\u001b[0m\n\u001b[0m\u001b[1;32m     32\u001b[0m \u001b[0;34m\u001b[0m\u001b[0m\n\u001b[1;32m     33\u001b[0m             \u001b[0mloss\u001b[0m\u001b[0;34m.\u001b[0m\u001b[0mbackward\u001b[0m\u001b[0;34m(\u001b[0m\u001b[0;34m)\u001b[0m\u001b[0;34m\u001b[0m\u001b[0;34m\u001b[0m\u001b[0m\n",
            "\u001b[0;31mTypeError\u001b[0m: only integer scalar arrays can be converted to a scalar index"
          ]
        }
      ]
    },
    {
      "cell_type": "code",
      "metadata": {
        "id": "X92IEWyLbASW"
      },
      "source": [
        ""
      ],
      "execution_count": null,
      "outputs": []
    }
  ]
}