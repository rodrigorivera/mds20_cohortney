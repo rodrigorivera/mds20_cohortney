{
  "nbformat": 4,
  "nbformat_minor": 0,
  "metadata": {
    "accelerator": "GPU",
    "colab": {
      "name": "model_for_sk_NEW.ipynb",
      "provenance": [],
      "collapsed_sections": []
    },
    "kernelspec": {
      "display_name": "Python 3",
      "language": "python",
      "name": "python3"
    },
    "language_info": {
      "codemirror_mode": {
        "name": "ipython",
        "version": 3
      },
      "file_extension": ".py",
      "mimetype": "text/x-python",
      "name": "python",
      "nbconvert_exporter": "python",
      "pygments_lexer": "ipython3",
      "version": "3.7.4"
    }
  },
  "cells": [
    {
      "cell_type": "code",
      "metadata": {
        "id": "dR9GAt3O1Xob"
      },
      "source": [
        "import numpy as np\n",
        "import torch, torch.nn as nn\n",
        "import torch.nn.functional as F\n",
        "import torchvision\n",
        "from torchvision import transforms\n",
        "from torchvision.utils import make_grid\n",
        "\n",
        "from datetime import datetime\n",
        "from torch.utils.tensorboard import SummaryWriter\n",
        "\n",
        "import time\n",
        "from tqdm import tqdm\n",
        "\n",
        "import matplotlib.pyplot as plt\n",
        "%matplotlib inline\n",
        "\n",
        "import os\n",
        "\n",
        "# !pip install einops\n",
        "# !wget -O utils.py https://drive.google.com/uc?id=1O3QWBKrqA7s8nIGzhKMIz-YNK1-jzwml\n",
        "# import utils\n",
        "# from utils import plot_loss_and_accuracy"
      ],
      "execution_count": 1,
      "outputs": []
    },
    {
      "cell_type": "code",
      "metadata": {
        "id": "BJOzkktRdX-X"
      },
      "source": [
        " def make_model():\n",
        "    model = nn.Sequential(\n",
        "        nn.Conv1d(in_channels=30, out_channels=50, kernel_size=3, padding=1), # [1, 50, 40]\n",
        "        nn.BatchNorm1d(50),\n",
        "        nn.ReLU(),\n",
        "        nn.MaxPool1d(kernel_size=2),   # [1, 50, 20]\n",
        "\n",
        "        nn.Flatten(),                  # [1, 1000]\n",
        "        nn.Linear(1000, 500),          # [1, 500]\n",
        "        nn.Dropout(0.3),\n",
        "        nn.Linear(500, 10),            # [1, 10]\n",
        "        # nn.LogSoftmax(dim=1)\n",
        "    )\n",
        "    return model"
      ],
      "execution_count": 2,
      "outputs": []
    },
    {
      "cell_type": "code",
      "metadata": {
        "id": "BDYEGwoNF32l"
      },
      "source": [
        "\"\"\"\n",
        "This file contains implementation of metrics from A Dirichlet Mixture Model \n",
        "of Hawkes Processes for Event Sequence Clustering\n",
        "https://arxiv.org/pdf/1701.09177.pdf\n",
        "\"\"\"\n",
        "import torch\n",
        "import numpy as np\n",
        "\n",
        "\n",
        "def consistency(trials_labels):\n",
        "    \"\"\"\n",
        "    Args:\n",
        "    - trials_labels - array-like sequence of 1-D tensors. Each tensor is a sequence of labels\n",
        "    \"\"\"\n",
        "    J = len(trials_labels)\n",
        "    values = torch.zeros(J)\n",
        "    \n",
        "    for trial_id, labels in enumerate(trials_labels):\n",
        "        ks = torch.unique(labels)\n",
        "        sz_M = 0 # number of pairs within same cluster\n",
        "        for k in ks:\n",
        "            mask = labels == k\n",
        "            sz = mask.sum()\n",
        "            s = sz * (sz - 1.) / 2.\n",
        "            sz_M += s\n",
        "\n",
        "        for trial_id2, labels2 in enumerate(trials_labels):\n",
        "            if trial_id == trial_id2:\n",
        "                continue\n",
        "\n",
        "            for k in ks:\n",
        "                mask = labels == k\n",
        "                s2 = 0\n",
        "                for k2 in labels2[mask].unique():\n",
        "                    sz = (labels2[mask] == k2).sum()  # same cluster within j trial, same cluster within j' trial\n",
        "                    s2 += sz * (sz - 1.) / 2.\n",
        "                #values[trial_id] += (sz_M - s2) / ((J-1) * sz_M)\n",
        "                values[trial_id] += s2 \n",
        "        values[trial_id] /= ((J-1) * sz_M)\n",
        "    \n",
        "    return torch.min(values)\n",
        "\n",
        "\n",
        "def purity(learned_ids, gt_ids):\n",
        "    \"\"\"\n",
        "    Args:\n",
        "    - learned_ids - 1-D tensor of labels obtained from model\n",
        "    - gt_ids - 1-D tensor of ground truth labels\n",
        "    \"\"\"\n",
        "    assert len(learned_ids) == len(gt_ids)\n",
        "    pur = 0\n",
        "    ks = torch.unique(learned_ids)\n",
        "    js = torch.unique(gt_ids)\n",
        "    for k in ks:\n",
        "        inters = []\n",
        "        for j in js:\n",
        "            inters.append(((learned_ids == k) * (gt_ids == j)).sum().item())\n",
        "        pur += 1./len(learned_ids) * max(inters)\n",
        "\n",
        "    return pur"
      ],
      "execution_count": 3,
      "outputs": []
    },
    {
      "cell_type": "code",
      "metadata": {
        "id": "C6D9jXObbG3u"
      },
      "source": [
        "# def compute_accuracy(logits, y_true, device='cuda:0'):\n",
        "#     y_pred = torch.argmax(logits, dim=1)\n",
        "#     return (y_pred == y_true.to(device)).float().mean()"
      ],
      "execution_count": 4,
      "outputs": []
    },
    {
      "cell_type": "code",
      "metadata": {
        "id": "zqBDRuXgYkb3"
      },
      "source": [
        "# def accuracy(model, images, labels):\n",
        "#     logits = model.forward(images)\n",
        "#     y_pred = torch.argmax(logits, dim=1)\n",
        "#     return (y_pred == labels).float().mean()"
      ],
      "execution_count": 5,
      "outputs": []
    },
    {
      "cell_type": "code",
      "metadata": {
        "id": "iwqkWrneiwy9"
      },
      "source": [
        "def iterate_minibatches(inputs, batchsize, shuffle=False):\n",
        "    if shuffle:\n",
        "        indices = np.random.permutation(len(inputs))\n",
        "    for start_idx in range(0, len(inputs) - batchsize + 1, batchsize):\n",
        "        if shuffle:\n",
        "            excerpt = indices[start_idx:start_idx + batchsize]\n",
        "        else:\n",
        "            excerpt = slice(start_idx, start_idx + batchsize)\n",
        "        yield inputs[excerpt], excerpt"
      ],
      "execution_count": 6,
      "outputs": []
    },
    {
      "cell_type": "code",
      "metadata": {
        "id": "PgmrIKM384eP"
      },
      "source": [
        "def sinkhorn(P, r, c, lmbd=0.05, eps=1e-3):\n",
        "    P = -P\n",
        "    Q = torch.exp(- lmbd * P).T\n",
        "    Q /= torch.sum(Q)\n",
        "    K, N = Q.shape\n",
        "    u = torch.zeros(K)\n",
        "    res = []\n",
        "    res.append(-torch.sum(torch.trace(Q.T @ P.T)))\n",
        "    while True:\n",
        "        Q_prev = Q.clone()\n",
        "        u = torch.sum(Q, dim=1)\n",
        "        Q *= (c / u).unsqueeze(1)\n",
        "        Q *= (r / torch.sum(Q, dim=0)).unsqueeze(0)\n",
        "        res.append(-torch.sum(torch.trace(Q.T @ P.T)))\n",
        "        if torch.sum(((Q-Q_prev)/Q_prev)**2) <eps:\n",
        "            break\n",
        "    return Q.T, res\n",
        "\n",
        "def opt_sk(model, epoch):\n",
        "    PS = np.zeros((K, N))\n",
        "    \n",
        "    for batch_idx, (data, _selected) in enumerate(iterate_minibatches(X_train, batch_size, shuffle=False)):\n",
        "        data = data.to(device) # [100, 30, 40]\n",
        "        p = nn.functional.softmax(model(data), 1) # [100, 10]\n",
        "        PS[_selected, :] = p.detach().cpu().numpy()\n",
        "    \n",
        "    r = torch.ones(K)/K\n",
        "    c = torch.ones(N)/N\n",
        "    selflabels, res = sinkhorn(torch.from_numpy(PS), r, c)\n",
        "\n",
        "    return selflabels"
      ],
      "execution_count": 7,
      "outputs": []
    },
    {
      "cell_type": "code",
      "metadata": {
        "id": "iNZBpJqRUujr"
      },
      "source": [
        "def train(model, num_epochs=2, lr=0.1, weight_decay=0, exp_name='my_network'):\n",
        "    opt = torch.optim.Adam(model.parameters(), lr=lr, weight_decay=weight_decay)\n",
        "    scheduler = torch.optim.lr_scheduler.StepLR(opt, step_size=7, gamma=0.1)\n",
        "\n",
        "    train_loss = []\n",
        "    val_loss = []\n",
        "    train_accuracy = []\n",
        "    val_accuracy = []\n",
        "\n",
        "    for epoch in range(num_epochs):\n",
        "        print (f'epoch {epoch}')\n",
        "        start_time = time.time()\n",
        "        model.train(True)\n",
        "\n",
        "        train_accuracy_batch = []\n",
        "\n",
        "        for batch_idx, (inputs, indexes) in enumerate(iterate_minibatches(X_train, batch_size, shuffle=False)):\n",
        "            inputs = inputs.float().to(device)\n",
        "            \n",
        "            with torch.no_grad():\n",
        "                selflabels = opt_sk(model, epoch) # [10, 1000]. should be [100, 10]\n",
        "                \n",
        "            inputs = inputs.to(device)\n",
        "            opt.zero_grad()\n",
        "\n",
        "            outputs = model(inputs) # [100, 10]\n",
        "            print (selflabels.shape, outputs.shape)\n",
        "            \n",
        "            loss = nn.CrossEntropyLoss(outputs, selflabels[indexes])\n",
        "           \n",
        "            loss.backward()\n",
        "            opt.step()\n",
        "                                                    \n",
        "        # train_accuracy_overall = np.mean(train_accuracy_batch) * 100 # mean train accuracy over 1 epoch in %\n",
        "        # train_accuracy.append(train_accuracy_overall.item())\n",
        "\n",
        "    return train_accuracy_overall, 0"
      ],
      "execution_count": 8,
      "outputs": []
    },
    {
      "cell_type": "code",
      "metadata": {
        "id": "lrDHgcsOBGWt",
        "colab": {
          "base_uri": "https://localhost:8080/"
        },
        "outputId": "66cd4f74-9889-47bc-8dd7-2c04b1fe706d"
      },
      "source": [
        "N = 1000\n",
        "K = 10\n",
        "# selflabels - [KxN]\n",
        "X_train = torch.Tensor(N, 30, 40) # [samples, n_steps, features]\n",
        "\n",
        "X_train.shape"
      ],
      "execution_count": 9,
      "outputs": [
        {
          "output_type": "execute_result",
          "data": {
            "text/plain": [
              "torch.Size([1000, 30, 40])"
            ]
          },
          "metadata": {
            "tags": []
          },
          "execution_count": 9
        }
      ]
    },
    {
      "cell_type": "code",
      "metadata": {
        "id": "Kt1Rb7Dykda3",
        "colab": {
          "base_uri": "https://localhost:8080/",
          "height": 35
        },
        "outputId": "af1709c0-65ba-4f4d-fb47-6ae5e6bcfbb2"
      },
      "source": [
        "device = 'cuda:0' if torch.cuda.is_available() else 'cpu'\n",
        "device"
      ],
      "execution_count": 10,
      "outputs": [
        {
          "output_type": "execute_result",
          "data": {
            "application/vnd.google.colaboratory.intrinsic+json": {
              "type": "string"
            },
            "text/plain": [
              "'cuda:0'"
            ]
          },
          "metadata": {
            "tags": []
          },
          "execution_count": 10
        }
      ]
    },
    {
      "cell_type": "code",
      "metadata": {
        "id": "qeG56fbyhCZK"
      },
      "source": [
        "model = make_model()\n",
        "model = model.to(device)"
      ],
      "execution_count": 11,
      "outputs": []
    },
    {
      "cell_type": "code",
      "metadata": {
        "id": "Xl0tK6WfO7xx",
        "colab": {
          "base_uri": "https://localhost:8080/",
          "height": 435
        },
        "outputId": "5e3203e8-94dd-4867-dab0-ed765c7a5444"
      },
      "source": [
        "train_accuracy = -1\n",
        "val_accuracy = -1\n",
        "\n",
        "DO_TRAIN = True\n",
        "if DO_TRAIN:\n",
        "    %%time\n",
        "    lr=0.01\n",
        "    exp_name = datetime.now().isoformat(timespec='seconds') + f'exp{lr}'\n",
        "    batch_size = 100\n",
        "    train_accuracy, val_accuracy = train(model, num_epochs=2, weight_decay=0, lr=lr, exp_name=exp_name)\n",
        "\n",
        "    torch.save(model.state_dict(), \"checkpoint.pth\")\n",
        "    print (train_accuracy, val_accuracy)"
      ],
      "execution_count": 12,
      "outputs": [
        {
          "output_type": "stream",
          "text": [
            "CPU times: user 2 µs, sys: 0 ns, total: 2 µs\n",
            "Wall time: 5.48 µs\n",
            "epoch 0\n"
          ],
          "name": "stdout"
        },
        {
          "output_type": "error",
          "ename": "ValueError",
          "evalue": "ignored",
          "traceback": [
            "\u001b[0;31m---------------------------------------------------------------------------\u001b[0m",
            "\u001b[0;31mValueError\u001b[0m                                Traceback (most recent call last)",
            "\u001b[0;32m<ipython-input-12-169f6ec3a43b>\u001b[0m in \u001b[0;36m<module>\u001b[0;34m()\u001b[0m\n\u001b[1;32m      8\u001b[0m     \u001b[0mexp_name\u001b[0m \u001b[0;34m=\u001b[0m \u001b[0mdatetime\u001b[0m\u001b[0;34m.\u001b[0m\u001b[0mnow\u001b[0m\u001b[0;34m(\u001b[0m\u001b[0;34m)\u001b[0m\u001b[0;34m.\u001b[0m\u001b[0misoformat\u001b[0m\u001b[0;34m(\u001b[0m\u001b[0mtimespec\u001b[0m\u001b[0;34m=\u001b[0m\u001b[0;34m'seconds'\u001b[0m\u001b[0;34m)\u001b[0m \u001b[0;34m+\u001b[0m \u001b[0;34mf'exp{lr}'\u001b[0m\u001b[0;34m\u001b[0m\u001b[0;34m\u001b[0m\u001b[0m\n\u001b[1;32m      9\u001b[0m     \u001b[0mbatch_size\u001b[0m \u001b[0;34m=\u001b[0m \u001b[0;36m100\u001b[0m\u001b[0;34m\u001b[0m\u001b[0;34m\u001b[0m\u001b[0m\n\u001b[0;32m---> 10\u001b[0;31m     \u001b[0mtrain_accuracy\u001b[0m\u001b[0;34m,\u001b[0m \u001b[0mval_accuracy\u001b[0m \u001b[0;34m=\u001b[0m \u001b[0mtrain\u001b[0m\u001b[0;34m(\u001b[0m\u001b[0mmodel\u001b[0m\u001b[0;34m,\u001b[0m \u001b[0mnum_epochs\u001b[0m\u001b[0;34m=\u001b[0m\u001b[0;36m2\u001b[0m\u001b[0;34m,\u001b[0m \u001b[0mweight_decay\u001b[0m\u001b[0;34m=\u001b[0m\u001b[0;36m0\u001b[0m\u001b[0;34m,\u001b[0m \u001b[0mlr\u001b[0m\u001b[0;34m=\u001b[0m\u001b[0mlr\u001b[0m\u001b[0;34m,\u001b[0m \u001b[0mexp_name\u001b[0m\u001b[0;34m=\u001b[0m\u001b[0mexp_name\u001b[0m\u001b[0;34m)\u001b[0m\u001b[0;34m\u001b[0m\u001b[0;34m\u001b[0m\u001b[0m\n\u001b[0m\u001b[1;32m     11\u001b[0m \u001b[0;34m\u001b[0m\u001b[0m\n\u001b[1;32m     12\u001b[0m     \u001b[0mtorch\u001b[0m\u001b[0;34m.\u001b[0m\u001b[0msave\u001b[0m\u001b[0;34m(\u001b[0m\u001b[0mmodel\u001b[0m\u001b[0;34m.\u001b[0m\u001b[0mstate_dict\u001b[0m\u001b[0;34m(\u001b[0m\u001b[0;34m)\u001b[0m\u001b[0;34m,\u001b[0m \u001b[0;34m\"checkpoint.pth\"\u001b[0m\u001b[0;34m)\u001b[0m\u001b[0;34m\u001b[0m\u001b[0;34m\u001b[0m\u001b[0m\n",
            "\u001b[0;32m<ipython-input-8-6cf5c0981d04>\u001b[0m in \u001b[0;36mtrain\u001b[0;34m(model, num_epochs, lr, weight_decay, exp_name)\u001b[0m\n\u001b[1;32m     19\u001b[0m \u001b[0;34m\u001b[0m\u001b[0m\n\u001b[1;32m     20\u001b[0m             \u001b[0;32mwith\u001b[0m \u001b[0mtorch\u001b[0m\u001b[0;34m.\u001b[0m\u001b[0mno_grad\u001b[0m\u001b[0;34m(\u001b[0m\u001b[0;34m)\u001b[0m\u001b[0;34m:\u001b[0m\u001b[0;34m\u001b[0m\u001b[0;34m\u001b[0m\u001b[0m\n\u001b[0;32m---> 21\u001b[0;31m                 \u001b[0mselflabels\u001b[0m \u001b[0;34m=\u001b[0m \u001b[0mopt_sk\u001b[0m\u001b[0;34m(\u001b[0m\u001b[0mmodel\u001b[0m\u001b[0;34m,\u001b[0m \u001b[0mepoch\u001b[0m\u001b[0;34m)\u001b[0m \u001b[0;31m# [10, 1000]. should be [100, 10]\u001b[0m\u001b[0;34m\u001b[0m\u001b[0;34m\u001b[0m\u001b[0m\n\u001b[0m\u001b[1;32m     22\u001b[0m \u001b[0;34m\u001b[0m\u001b[0m\n\u001b[1;32m     23\u001b[0m             \u001b[0minputs\u001b[0m \u001b[0;34m=\u001b[0m \u001b[0minputs\u001b[0m\u001b[0;34m.\u001b[0m\u001b[0mto\u001b[0m\u001b[0;34m(\u001b[0m\u001b[0mdevice\u001b[0m\u001b[0;34m)\u001b[0m\u001b[0;34m\u001b[0m\u001b[0;34m\u001b[0m\u001b[0m\n",
            "\u001b[0;32m<ipython-input-7-3d41a2afaef5>\u001b[0m in \u001b[0;36mopt_sk\u001b[0;34m(model, epoch)\u001b[0m\n\u001b[1;32m     23\u001b[0m         \u001b[0mdata\u001b[0m \u001b[0;34m=\u001b[0m \u001b[0mdata\u001b[0m\u001b[0;34m.\u001b[0m\u001b[0mto\u001b[0m\u001b[0;34m(\u001b[0m\u001b[0mdevice\u001b[0m\u001b[0;34m)\u001b[0m \u001b[0;31m# [100, 30, 40]\u001b[0m\u001b[0;34m\u001b[0m\u001b[0;34m\u001b[0m\u001b[0m\n\u001b[1;32m     24\u001b[0m         \u001b[0mp\u001b[0m \u001b[0;34m=\u001b[0m \u001b[0mnn\u001b[0m\u001b[0;34m.\u001b[0m\u001b[0mfunctional\u001b[0m\u001b[0;34m.\u001b[0m\u001b[0msoftmax\u001b[0m\u001b[0;34m(\u001b[0m\u001b[0mmodel\u001b[0m\u001b[0;34m(\u001b[0m\u001b[0mdata\u001b[0m\u001b[0;34m)\u001b[0m\u001b[0;34m,\u001b[0m \u001b[0;36m1\u001b[0m\u001b[0;34m)\u001b[0m \u001b[0;31m# [100, 10]\u001b[0m\u001b[0;34m\u001b[0m\u001b[0;34m\u001b[0m\u001b[0m\n\u001b[0;32m---> 25\u001b[0;31m         \u001b[0mPS\u001b[0m\u001b[0;34m[\u001b[0m\u001b[0m_selected\u001b[0m\u001b[0;34m,\u001b[0m \u001b[0;34m:\u001b[0m\u001b[0;34m]\u001b[0m \u001b[0;34m=\u001b[0m \u001b[0mp\u001b[0m\u001b[0;34m.\u001b[0m\u001b[0mdetach\u001b[0m\u001b[0;34m(\u001b[0m\u001b[0;34m)\u001b[0m\u001b[0;34m.\u001b[0m\u001b[0mcpu\u001b[0m\u001b[0;34m(\u001b[0m\u001b[0;34m)\u001b[0m\u001b[0;34m.\u001b[0m\u001b[0mnumpy\u001b[0m\u001b[0;34m(\u001b[0m\u001b[0;34m)\u001b[0m\u001b[0;34m\u001b[0m\u001b[0;34m\u001b[0m\u001b[0m\n\u001b[0m\u001b[1;32m     26\u001b[0m \u001b[0;34m\u001b[0m\u001b[0m\n\u001b[1;32m     27\u001b[0m     \u001b[0mr\u001b[0m \u001b[0;34m=\u001b[0m \u001b[0mtorch\u001b[0m\u001b[0;34m.\u001b[0m\u001b[0mones\u001b[0m\u001b[0;34m(\u001b[0m\u001b[0mK\u001b[0m\u001b[0;34m)\u001b[0m\u001b[0;34m/\u001b[0m\u001b[0mK\u001b[0m\u001b[0;34m\u001b[0m\u001b[0;34m\u001b[0m\u001b[0m\n",
            "\u001b[0;31mValueError\u001b[0m: could not broadcast input array from shape (100,10) into shape (10,1000)"
          ]
        }
      ]
    },
    {
      "cell_type": "code",
      "metadata": {
        "id": "X92IEWyLbASW"
      },
      "source": [
        ""
      ],
      "execution_count": null,
      "outputs": []
    }
  ]
}