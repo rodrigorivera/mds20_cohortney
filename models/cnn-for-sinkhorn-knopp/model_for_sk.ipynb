{
  "nbformat": 4,
  "nbformat_minor": 0,
  "metadata": {
    "kernelspec": {
      "display_name": "Python 3",
      "language": "python",
      "name": "python3"
    },
    "language_info": {
      "codemirror_mode": {
        "name": "ipython",
        "version": 3
      },
      "file_extension": ".py",
      "mimetype": "text/x-python",
      "name": "python",
      "nbconvert_exporter": "python",
      "pygments_lexer": "ipython3",
      "version": "3.7.4"
    },
    "colab": {
      "name": "model_for_sk.ipynb",
      "provenance": [],
      "collapsed_sections": []
    },
    "accelerator": "GPU"
  },
  "cells": [
    {
      "cell_type": "code",
      "metadata": {
        "id": "dR9GAt3O1Xob"
      },
      "source": [
        "import numpy as np\n",
        "import torch, torch.nn as nn\n",
        "import torch.nn.functional as F\n",
        "import torchvision\n",
        "from torchvision import transforms\n",
        "from torchvision.utils import make_grid\n",
        "\n",
        "from datetime import datetime\n",
        "from torch.utils.tensorboard import SummaryWriter\n",
        "\n",
        "import time\n",
        "from tqdm import tqdm\n",
        "\n",
        "import matplotlib.pyplot as plt\n",
        "%matplotlib inline\n",
        "\n",
        "import os\n",
        "\n",
        "# !pip install einops\n",
        "# !wget -O utils.py https://drive.google.com/uc?id=1O3QWBKrqA7s8nIGzhKMIz-YNK1-jzwml\n",
        "# import utils\n",
        "# from utils import plot_loss_and_accuracy"
      ],
      "execution_count": 1,
      "outputs": []
    },
    {
      "cell_type": "code",
      "metadata": {
        "colab": {
          "base_uri": "https://localhost:8080/"
        },
        "id": "eMllLzXy2AjR",
        "outputId": "337fbbe7-2c55-457d-f292-488d76aac1d3"
      },
      "source": [
        "# Detect if we are in Google Colaboratory\r\n",
        "try:\r\n",
        "    import google.colab\r\n",
        "    IN_COLAB = True\r\n",
        "except ImportError:\r\n",
        "    IN_COLAB = False\r\n",
        "\r\n",
        "from pathlib import Path\r\n",
        "# Determine the locations of auxiliary libraries and datasets.\r\n",
        "# `AUX_DATA_ROOT` is where 'notmnist.py', 'animation.py' and 'tiny-imagenet-2020.zip' are.\r\n",
        "if IN_COLAB:\r\n",
        "    google.colab.drive.mount(\"/content/drive\")\r\n",
        "    \r\n",
        "    # Change this if you created the shortcut in a different location\r\n",
        "    # AUX_DATA_ROOT = Path(\"/content/drive/My Drive/mds20_cohortney\")\r\n",
        "    \r\n",
        "    # assert AUX_DATA_ROOT.is_dir(), \"Have you forgot to 'Add a shortcut to Drive'?\"\r\n",
        "# else:\r\n",
        "AUX_DATA_ROOT = Path(\".\")"
      ],
      "execution_count": 4,
      "outputs": [
        {
          "output_type": "stream",
          "text": [
            "Drive already mounted at /content/drive; to attempt to forcibly remount, call drive.mount(\"/content/drive\", force_remount=True).\n"
          ],
          "name": "stdout"
        }
      ]
    },
    {
      "cell_type": "code",
      "metadata": {
        "id": "HomTqOSeELxk"
      },
      "source": [
        "def sinkhorn(P, r, c, lmbd=0.05, eps = 1e-3):\r\n",
        "    Q = torch.exp(- lmbd * P).T\r\n",
        "    Q /= torch.sum(Q)\r\n",
        "    K, N = Q.shape\r\n",
        "    u = torch.zeros(K)\r\n",
        "    while True:\r\n",
        "        Q_prev = Q.clone()\r\n",
        "        u = torch.sum(Q, dim=1)\r\n",
        "        Q *= (c / u).unsqueeze(1)\r\n",
        "        Q *= (r / torch.sum(Q, dim=0)).unsqueeze(0)\r\n",
        "        if torch.sum(((Q-Q_prev)/Q_prev)**2) <eps:\r\n",
        "            break\r\n",
        "    return Q.T"
      ],
      "execution_count": 23,
      "outputs": []
    },
    {
      "cell_type": "code",
      "metadata": {
        "id": "BJOzkktRdX-X"
      },
      "source": [
        " def make_model():\n",
        "    model = nn.Sequential(\n",
        "        nn.Conv1d(in_channels=30, out_channels=50, kernel_size=3, padding=1), # [1, 50, 40]\n",
        "        nn.BatchNorm1d(50),\n",
        "        nn.ReLU(),\n",
        "        nn.MaxPool1d(kernel_size=2),   # [1, 50, 20]\n",
        "\n",
        "        nn.Flatten(),                  # [1, 1000]\n",
        "        nn.Linear(1000, 500),          # [1, 500]\n",
        "        nn.Dropout(0.3),\n",
        "        nn.Linear(500, 10),            # [1, 10]\n",
        "        nn.LogSoftmax(dim=1)\n",
        "    )\n",
        "    return model"
      ],
      "execution_count": 6,
      "outputs": []
    },
    {
      "cell_type": "code",
      "metadata": {
        "id": "NM9KplIob126"
      },
      "source": [
        "# model(torch.Tensor(1, 30, 40).to(device)).shape # [samples, channels, length]"
      ],
      "execution_count": 7,
      "outputs": []
    },
    {
      "cell_type": "code",
      "metadata": {
        "id": "C6D9jXObbG3u"
      },
      "source": [
        "def compute_accuracy(logits, y_true, device='cuda:0'):\n",
        "    y_pred = torch.argmax(logits, dim=1)\n",
        "    return (y_pred == y_true.to(device)).float().mean()"
      ],
      "execution_count": 8,
      "outputs": []
    },
    {
      "cell_type": "code",
      "metadata": {
        "id": "zqBDRuXgYkb3"
      },
      "source": [
        "def accuracy(model, images, labels):\n",
        "    logits = model.forward(images)\n",
        "    y_pred = torch.argmax(logits, dim=1)\n",
        "    return (y_pred == labels).float().mean()"
      ],
      "execution_count": 9,
      "outputs": []
    },
    {
      "cell_type": "code",
      "metadata": {
        "id": "iwqkWrneiwy9"
      },
      "source": [
        "def iterate_minibatches(inputs, targets, batchsize, shuffle=False):\r\n",
        "    assert len(inputs) == len(targets)\r\n",
        "    if shuffle:\r\n",
        "        indices = np.random.permutation(len(inputs))\r\n",
        "    for start_idx in range(0, len(inputs) - batchsize + 1, batchsize):\r\n",
        "        if shuffle:\r\n",
        "            excerpt = indices[start_idx:start_idx + batchsize]\r\n",
        "        else:\r\n",
        "            excerpt = slice(start_idx, start_idx + batchsize)\r\n",
        "        yield inputs[excerpt], targets[excerpt]"
      ],
      "execution_count": 10,
      "outputs": []
    },
    {
      "cell_type": "code",
      "metadata": {
        "id": "iNZBpJqRUujr"
      },
      "source": [
        "def train(model, num_epochs=2, lr=0.1, weight_decay=0, exp_name='my_network'):\n",
        "    # writer = SummaryWriter(f'logs/{exp_name}')\n",
        "    opt = torch.optim.Adam(model.parameters(), lr=lr, weight_decay=weight_decay)\n",
        "    scheduler = torch.optim.lr_scheduler.StepLR(opt, step_size=7, gamma=0.1)\n",
        "\n",
        "    train_loss = []\n",
        "    val_loss = []\n",
        "    train_accuracy = []\n",
        "    val_accuracy = []\n",
        "\n",
        "    for epoch in range(num_epochs):\n",
        "        start_time = time.time()\n",
        "        model.train(True)\n",
        "\n",
        "        train_accuracy_batch = []\n",
        "\n",
        "        # for batch_no, (X_batch, y_batch) in tqdm(enumerate(zip(X, y)), \n",
        "        #                                          total=len(X), desc=\"train \" + str(epoch + 1)):\n",
        "        for batch_no, (X_batch, y_batch) in enumerate(iterate_minibatches(X, y, batchsize=250, shuffle=True)):\n",
        "            # main cycle\n",
        "            # print (X_batch.shape, y_batch.shape)\n",
        "            model.zero_grad()\n",
        "            X_batch_gpu = X_batch.squeeze_().to(device)\n",
        "            logits = model(X_batch_gpu)\n",
        "            # print (logits.shape, y_batch.shape)\n",
        "            loss = F.nll_loss(logits, y_batch.to(device))\n",
        "            loss.backward()\n",
        "            opt.step()\n",
        "        \n",
        "        train_accuracy_overall = np.mean(train_accuracy_batch) * 100 # mean train accuracy over 1 epoch in %\n",
        "        train_accuracy.append(train_accuracy_overall.item())\n",
        "\n",
        "    return train_accuracy_overall, 0"
      ],
      "execution_count": 17,
      "outputs": []
    },
    {
      "cell_type": "code",
      "metadata": {
        "colab": {
          "base_uri": "https://localhost:8080/"
        },
        "id": "lrDHgcsOBGWt",
        "outputId": "fd8b2fd1-6709-4958-b268-5c419ee5b72b"
      },
      "source": [
        "X = torch.Tensor(1000, 30, 40) # [samples, n_steps, features]\r\n",
        "y = torch.randint(10, (1000,))\r\n",
        "\r\n",
        "X.shape, y.shape, torch,unique(y)"
      ],
      "execution_count": 18,
      "outputs": [
        {
          "output_type": "execute_result",
          "data": {
            "text/plain": [
              "(torch.Size([1000, 30, 40]), torch.Size([1000]))"
            ]
          },
          "metadata": {
            "tags": []
          },
          "execution_count": 18
        }
      ]
    },
    {
      "cell_type": "code",
      "metadata": {
        "colab": {
          "base_uri": "https://localhost:8080/",
          "height": 35
        },
        "id": "Kt1Rb7Dykda3",
        "outputId": "c9fb8a75-2861-4c1e-87a1-baeaf8419aeb"
      },
      "source": [
        "device = 'cuda:0' if torch.cuda.is_available() else 'cpu'\n",
        "device"
      ],
      "execution_count": 20,
      "outputs": [
        {
          "output_type": "execute_result",
          "data": {
            "application/vnd.google.colaboratory.intrinsic+json": {
              "type": "string"
            },
            "text/plain": [
              "'cuda:0'"
            ]
          },
          "metadata": {
            "tags": []
          },
          "execution_count": 20
        }
      ]
    },
    {
      "cell_type": "code",
      "metadata": {
        "id": "qeG56fbyhCZK"
      },
      "source": [
        "model = make_model()\n",
        "model = model.to(device)"
      ],
      "execution_count": 21,
      "outputs": []
    },
    {
      "cell_type": "code",
      "metadata": {
        "colab": {
          "base_uri": "https://localhost:8080/"
        },
        "id": "Xl0tK6WfO7xx",
        "outputId": "e17bf21c-d194-4598-afe5-46660a026f4e"
      },
      "source": [
        "train_accuracy = -1\n",
        "val_accuracy = -1\n",
        "\n",
        "DO_TRAIN = True\n",
        "if DO_TRAIN:\n",
        "    %%time\n",
        "    lr=0.01\n",
        "    exp_name = datetime.now().isoformat(timespec='seconds') + f'exp{lr}'\n",
        "    train_accuracy, val_accuracy = train(model, num_epochs=2, weight_decay=0, lr=lr, exp_name=exp_name)\n",
        "\n",
        "    torch.save(model.state_dict(), \"checkpoint.pth\")\n",
        "    print (train_accuracy, val_accuracy)"
      ],
      "execution_count": 22,
      "outputs": [
        {
          "output_type": "stream",
          "text": [
            "CPU times: user 4 µs, sys: 0 ns, total: 4 µs\n",
            "Wall time: 7.39 µs\n",
            "nan 0\n"
          ],
          "name": "stdout"
        },
        {
          "output_type": "stream",
          "text": [
            "/usr/local/lib/python3.6/dist-packages/numpy/core/fromnumeric.py:3335: RuntimeWarning: Mean of empty slice.\n",
            "  out=out, **kwargs)\n",
            "/usr/local/lib/python3.6/dist-packages/numpy/core/_methods.py:161: RuntimeWarning: invalid value encountered in double_scalars\n",
            "  ret = ret.dtype.type(ret / rcount)\n"
          ],
          "name": "stderr"
        }
      ]
    },
    {
      "cell_type": "code",
      "metadata": {
        "id": "X92IEWyLbASW"
      },
      "source": [
        ""
      ],
      "execution_count": null,
      "outputs": []
    }
  ]
}