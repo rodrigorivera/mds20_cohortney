{
 "metadata": {
  "language_info": {
   "codemirror_mode": {
    "name": "ipython",
    "version": 3
   },
   "file_extension": ".py",
   "mimetype": "text/x-python",
   "name": "python",
   "nbconvert_exporter": "python",
   "pygments_lexer": "ipython3",
   "version": "3.8.5-final"
  },
  "orig_nbformat": 2,
  "kernelspec": {
   "name": "python38564bitfad426787c4d466e858501df55a3f5b8",
   "display_name": "Python 3.8.5 64-bit"
  }
 },
 "nbformat": 4,
 "nbformat_minor": 2,
 "cells": [
  {
   "cell_type": "code",
   "execution_count": 29,
   "metadata": {},
   "outputs": [],
   "source": [
    "import torch\n",
    "import numpy as np\n",
    "import pandas as pd\n",
    "import matplotlib.pyplot as plt\n",
    "from pathlib import Path\n",
    "\n",
    "from tick.hawkes import SimuHawkesExpKernels, SimuHawkesSumExpKernels\n",
    "from tick.plot import plot_point_process\n",
    "\n",
    "from simulate_hawkes import simulate_clusters, convert_clusters_to_dfs\n",
    "            "
   ]
  },
  {
   "cell_type": "code",
   "execution_count": 23,
   "metadata": {},
   "outputs": [],
   "source": [
    "n_clusters, n_nodes, n_decays, n_realiz, end_time, dt = 10, 10, 5, 100, 100, 0.01"
   ]
  },
  {
   "cell_type": "code",
   "execution_count": 24,
   "metadata": {
    "tags": []
   },
   "outputs": [],
   "source": [
    "clusters = simulate_clusters(n_clusters, n_nodes, n_decays, n_realiz, end_time, dt)"
   ]
  },
  {
   "cell_type": "code",
   "execution_count": 25,
   "metadata": {},
   "outputs": [],
   "source": [
    "dfs, cluster_ids = convert_clusters_to_dfs(clusters)"
   ]
  },
  {
   "cell_type": "code",
   "execution_count": 37,
   "metadata": {},
   "outputs": [],
   "source": [
    "save_dir = Path('simulated_Hawkes', 'K10_C10')\n",
    "save_dir.mkdir(exist_ok=True, parents=True)"
   ]
  },
  {
   "cell_type": "code",
   "execution_count": 40,
   "metadata": {},
   "outputs": [],
   "source": [
    "for i, df in enumerate(dfs):\n",
    "    df.to_csv(Path(save_dir, f'{i+1}.csv').open('w'))\n",
    "\n",
    "pd.DataFrame(data=np.array(cluster_ids), columns=['cluster_id']).to_csv(Path(save_dir, f'clusters.csv').open('w'))\n"
   ]
  },
  {
   "cell_type": "code",
   "execution_count": 26,
   "metadata": {},
   "outputs": [
    {
     "output_type": "execute_result",
     "data": {
      "text/plain": [
       "          time  event\n",
       "0     3.630985    8.0\n",
       "1     4.041256    6.0\n",
       "2     4.641101    7.0\n",
       "3    11.089641    5.0\n",
       "4    11.876805    8.0\n",
       "..         ...    ...\n",
       "130  96.998074    6.0\n",
       "131  97.252613    9.0\n",
       "132  97.326383    0.0\n",
       "133  98.928594    8.0\n",
       "134  99.435700    2.0\n",
       "\n",
       "[135 rows x 2 columns]"
      ],
      "text/html": "<div>\n<style scoped>\n    .dataframe tbody tr th:only-of-type {\n        vertical-align: middle;\n    }\n\n    .dataframe tbody tr th {\n        vertical-align: top;\n    }\n\n    .dataframe thead th {\n        text-align: right;\n    }\n</style>\n<table border=\"1\" class=\"dataframe\">\n  <thead>\n    <tr style=\"text-align: right;\">\n      <th></th>\n      <th>time</th>\n      <th>event</th>\n    </tr>\n  </thead>\n  <tbody>\n    <tr>\n      <th>0</th>\n      <td>3.630985</td>\n      <td>8.0</td>\n    </tr>\n    <tr>\n      <th>1</th>\n      <td>4.041256</td>\n      <td>6.0</td>\n    </tr>\n    <tr>\n      <th>2</th>\n      <td>4.641101</td>\n      <td>7.0</td>\n    </tr>\n    <tr>\n      <th>3</th>\n      <td>11.089641</td>\n      <td>5.0</td>\n    </tr>\n    <tr>\n      <th>4</th>\n      <td>11.876805</td>\n      <td>8.0</td>\n    </tr>\n    <tr>\n      <th>...</th>\n      <td>...</td>\n      <td>...</td>\n    </tr>\n    <tr>\n      <th>130</th>\n      <td>96.998074</td>\n      <td>6.0</td>\n    </tr>\n    <tr>\n      <th>131</th>\n      <td>97.252613</td>\n      <td>9.0</td>\n    </tr>\n    <tr>\n      <th>132</th>\n      <td>97.326383</td>\n      <td>0.0</td>\n    </tr>\n    <tr>\n      <th>133</th>\n      <td>98.928594</td>\n      <td>8.0</td>\n    </tr>\n    <tr>\n      <th>134</th>\n      <td>99.435700</td>\n      <td>2.0</td>\n    </tr>\n  </tbody>\n</table>\n<p>135 rows × 2 columns</p>\n</div>"
     },
     "metadata": {},
     "execution_count": 26
    }
   ],
   "source": [
    "dfs[0]"
   ]
  },
  {
   "cell_type": "code",
   "execution_count": 27,
   "metadata": {},
   "outputs": [],
   "source": [
    "# fig, ax = plt.subplots(n_nodes, 1, figsize=(16, 40), sharex=True, sharey=True)\n",
    "# plot_point_process(hawkes, n_points=50000, t_min=10, max_jumps=30, ax=ax)\n",
    "# fig.tight_layout()"
   ]
  },
  {
   "cell_type": "code",
   "execution_count": null,
   "metadata": {},
   "outputs": [],
   "source": []
  }
 ]
}