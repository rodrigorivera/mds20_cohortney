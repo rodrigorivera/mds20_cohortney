{
 "cells": [
  {
   "cell_type": "code",
   "execution_count": 55,
   "metadata": {},
   "outputs": [
    {
     "name": "stdout",
     "output_type": "stream",
     "text": [
      "The autoreload extension is already loaded. To reload it, use:\n",
      "  %reload_ext autoreload\n"
     ]
    }
   ],
   "source": [
    "%load_ext autoreload\n",
    "%autoreload 2"
   ]
  },
  {
   "cell_type": "code",
   "execution_count": 3,
   "metadata": {},
   "outputs": [],
   "source": [
    "from pathlib import Path\n",
    "from zipfile import ZipFile\n",
    "import pandas as pd\n",
    "import torch\n",
    "import random\n",
    "import numpy as np\n",
    "from matplotlib import pyplot as plt"
   ]
  },
  {
   "cell_type": "code",
   "execution_count": 49,
   "metadata": {},
   "outputs": [],
   "source": [
    "def load_data(path, maxlen=-1):\n",
    "    s = []\n",
    "    classes = set()\n",
    "    for i in range(1, 2): # 300 - all datasets\n",
    "        path_ = Path(path, f'{i}.txt')\n",
    "        with path_.open('r') as f:\n",
    "            df = pd.read_csv(f)\n",
    "        classes = classes.union(set(df['event'].unique()))\n",
    "        df['time'] = pd.to_datetime(df['time'])\n",
    "        df['time'] = (df['time'] - df['time'][0]) / np.timedelta64(1,'D')\n",
    "        if maxlen > 0:\n",
    "            df = df.iloc[:maxlen]\n",
    "        df = df.drop(['id', 'option1'], axis=1)\n",
    "        s.append(df)\n",
    "\n",
    "    classes = list(classes)\n",
    "    class2idx = {clas: idx for idx, clas in enumerate(classes)}\n",
    "\n",
    "    ss, Ts = [], []\n",
    "    for i, df in enumerate(s):\n",
    "        if s[i]['time'].to_numpy()[-1] < 0:\n",
    "            continue\n",
    "        s[i]['event'].replace(class2idx, inplace=True)\n",
    "        \n",
    "#         tens = torch.FloatTensor(np.vstack([s[i]['time'].to_numpy(), s[i]['event'].to_numpy()])).T\n",
    "        \n",
    "        # this variant worked for me \n",
    "        st = np.vstack([s[i]['time'].to_numpy(), s[i]['event'].to_numpy()])\n",
    "        tens = torch.FloatTensor(st.astype(np.float32)).T\n",
    "        \n",
    "        if maxlen > 0:\n",
    "            tens = tens[:maxlen]\n",
    "        ss.append(tens)\n",
    "        Ts.append(tens[-1, 0])\n",
    "\n",
    "    Ts = torch.FloatTensor(Ts)\n",
    "\n",
    "    return ss, Ts, class2idx"
   ]
  },
  {
   "cell_type": "code",
   "execution_count": 50,
   "metadata": {},
   "outputs": [],
   "source": [
    "path = Path('../..', 'data', 'IPTV_Data')\n",
    "ss, Ts, class2idx = load_data(path, maxlen=200)"
   ]
  },
  {
   "cell_type": "markdown",
   "metadata": {},
   "source": [
    "### Test on shifted series"
   ]
  },
  {
   "cell_type": "code",
   "execution_count": 51,
   "metadata": {},
   "outputs": [
    {
     "name": "stdout",
     "output_type": "stream",
     "text": [
      "tensor(9457.8701)\n"
     ]
    }
   ],
   "source": [
    "from soft_dtw import *\n",
    "\n",
    "a = ss[0][:, 0]\n",
    "b = ss[0][:, 0] + 10\n",
    "\n",
    "criterion = Soft_DTW(gamma=1.0, norm=True)\n",
    "loss = criterion(a, b)\n",
    "print (loss)"
   ]
  },
  {
   "cell_type": "markdown",
   "metadata": {},
   "source": [
    "### Test on equal series"
   ]
  },
  {
   "cell_type": "code",
   "execution_count": 52,
   "metadata": {},
   "outputs": [
    {
     "name": "stdout",
     "output_type": "stream",
     "text": [
      "tensor(0.)\n"
     ]
    }
   ],
   "source": [
    "a = ss[0][:, 0]\n",
    "b = ss[0][:, 0]\n",
    "\n",
    "criterion = Soft_DTW(gamma=1.0, norm=True)\n",
    "loss = criterion(a, b)\n",
    "print (loss)"
   ]
  },
  {
   "cell_type": "markdown",
   "metadata": {},
   "source": [
    "### Test on random data"
   ]
  },
  {
   "cell_type": "code",
   "execution_count": 54,
   "metadata": {},
   "outputs": [
    {
     "name": "stdout",
     "output_type": "stream",
     "text": [
      "tensor(27.5479)\n"
     ]
    }
   ],
   "source": [
    "a = torch.randn(5, 4)\n",
    "b = torch.randn(6, 4)\n",
    "\n",
    "criterion = Soft_DTW(gamma=1.0, norm=True)\n",
    "loss = criterion(a, b)\n",
    "print (loss)"
   ]
  }
 ],
 "metadata": {
  "kernelspec": {
   "display_name": "Python 3",
   "language": "python",
   "name": "python3"
  },
  "language_info": {
   "codemirror_mode": {
    "name": "ipython",
    "version": 3
   },
   "file_extension": ".py",
   "mimetype": "text/x-python",
   "name": "python",
   "nbconvert_exporter": "python",
   "pygments_lexer": "ipython3",
   "version": "3.7.4"
  }
 },
 "nbformat": 4,
 "nbformat_minor": 2
}
