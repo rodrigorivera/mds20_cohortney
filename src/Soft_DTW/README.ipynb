{
 "cells": [
  {
   "cell_type": "markdown",
   "metadata": {},
   "source": [
    "# Soft Dynamic Time Warping\n",
    "\n",
    "The choice of the distance metric for time series of variable sizes is an important task. Simple distance metrics that align i-th point of one time series with the i-th point of the other give low similarity score. Non-linear alignments match similar pieces even if they are shifted in time.\n",
    "\n",
    "The Dynamic Time Warping approach seeks a minimum-cost alignment in the distance matrix under the constraints between two time series.  It can be computed by dynamic programming in quadratic time.  However, DTW is not differentiable, is sensitive to noise, and is known to lead to bad local optima when used as a loss.\n",
    "\n",
    "\\begin{equation}\n",
    "    \\text{DTW(x, y)} := \\smash{\\displaystyle\\min_{A \\in A (n, m)}} [A, \\Delta \\text(x, y)]\n",
    "\\end{equation}\n",
    "\n",
    "Soft-DTW, proposed by M. Cuturi and M. Blondel in 2018 \\cite{cuturi2018soft}, is a smoothed formulation of DTW. It addresses these issues of DTW. It replaces the minimum over alignments with a soft minimum, which has the effect of inducing a probability distribution over all alignments. Soft-DTW can still be computed by dynamic programming in the same complexity.\n",
    "\n",
    "\\begin{equation}\n",
    "\\text{dtw}^\\gamma(\\text{x, y}) := \\text{min}^\\gamma [(A, \\Delta \\text(x, y)), A \\in A (n,m)],\n",
    "\\end{equation}\n",
    "\n",
    "\\begin{equation}\n",
    "\\text{min}^{\\gamma} \\{a_1, ..., a_n\\} := \\begin{cases} \\min_{i \\leq n} a_i, \\gamma=0 \\\\ -\\gamma \\log \\sum_{i=1}^n \\exp^{-a_i/\\gamma}, \\gamma > 0 \\end{cases}\n",
    "\\end{equation}\n",
    "\n",
    "To ensure numerical stability, we computed operator $\\text{min}^\\gamma$ using the usual log-sum-exp stabilization trick, namely that\n",
    "\n",
    "\\begin{equation}\n",
    "\\log \\sum_{i} \\exp^{z_i} = (\\max_j z_j) + \\log \\sum_{i} \\exp^{z_i−max_j z_j}\n",
    "\\end{equation}\n",
    "\n",
    "Our implementation repeats forward and backward recursion from the original paper. The autograd function computes the smoothed DTW for a distance matrix. Calling backward on the result gives a derivative of the DTW with respect to the distance matrix."
   ]
  }
 ],
 "metadata": {
  "kernelspec": {
   "display_name": "Python 3",
   "language": "python",
   "name": "python3"
  },
  "language_info": {
   "codemirror_mode": {
    "name": "ipython",
    "version": 3
   },
   "file_extension": ".py",
   "mimetype": "text/x-python",
   "name": "python",
   "nbconvert_exporter": "python",
   "pygments_lexer": "ipython3",
   "version": "3.7.4"
  }
 },
 "nbformat": 4,
 "nbformat_minor": 2
}
