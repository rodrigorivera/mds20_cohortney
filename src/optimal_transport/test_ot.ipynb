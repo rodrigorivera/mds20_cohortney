{
 "cells": [
  {
   "cell_type": "code",
   "execution_count": 1,
   "metadata": {},
   "outputs": [
    {
     "name": "stdout",
     "output_type": "stream",
     "text": [
      "cuda:0\n"
     ]
    }
   ],
   "source": [
    "%load_ext autoreload\n",
    "%autoreload 2\n",
    "\n",
    "import torch\n",
    "import torch.nn as nn\n",
    "import sys\n",
    "\n",
    "import sys\n",
    "sys.path.append('../..')\n",
    "\n",
    "from models.OTModel.ot import CNN_Filters\n",
    "from src.optimal_transport.main import run_exp\n",
    "\n",
    "path = '../../data/simulated_Hawkes/K3_C5'\n",
    "devc = '0'\n",
    "device = torch.device('cuda:' + devc) if torch.cuda.is_available() else torch.device('cpu')\n",
    "print(device)"
   ]
  },
  {
   "cell_type": "code",
   "execution_count": null,
   "metadata": {},
   "outputs": [],
   "source": [
    "s, p = run_exp(path, \n",
    "            'csv', \n",
    "            False, \n",
    "            3, \n",
    "            0, \n",
    "            10, \n",
    "            CNN_Filters, \n",
    "            torch.optim.Adam, \n",
    "            nn.CrossEntropyLoss(), \n",
    "            device, \n",
    "            5, \n",
    "            3, \n",
    "            0.0005, \n",
    "            5, \n",
    "            with_gt = True, \n",
    "            max_epochs = 10)"
   ]
  },
  {
   "cell_type": "code",
   "execution_count": null,
   "metadata": {},
   "outputs": [],
   "source": []
  }
 ],
 "metadata": {
  "kernelspec": {
   "display_name": "Python 3",
   "language": "python",
   "name": "python3"
  },
  "language_info": {
   "codemirror_mode": {
    "name": "ipython",
    "version": 3
   },
   "file_extension": ".py",
   "mimetype": "text/x-python",
   "name": "python",
   "nbconvert_exporter": "python",
   "pygments_lexer": "ipython3",
   "version": "3.7.5"
  }
 },
 "nbformat": 4,
 "nbformat_minor": 4
}
