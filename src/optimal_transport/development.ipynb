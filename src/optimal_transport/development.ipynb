{
 "cells": [
  {
   "cell_type": "code",
   "execution_count": 1,
   "metadata": {},
   "outputs": [],
   "source": [
    "import os,sys,inspect\n",
    "currentdir = os.path.dirname(os.path.abspath(inspect.getfile(inspect.currentframe())))\n",
    "parentdir = os.path.dirname(currentdir)\n",
    "sys.path.insert(0,parentdir) \n",
    "\n",
    "from dataPreprocessing.cohortney import load_data, arr_func, multiclass_fws_array, events_tensor"
   ]
  },
  {
   "cell_type": "code",
   "execution_count": 2,
   "metadata": {},
   "outputs": [],
   "source": [
    "path = './../../data/simulated_Hawkes/K3_C5'\n",
    "#path = './../../data/IPTV_Data'\n",
    "#ss, Ts, class2idx, user_list = load_data(path, ext = 'csv', datetime = False)\n",
    "#ss, Ts, class2idx, user_list = load_data(path, ext = 'txt', datetime = True)"
   ]
  },
  {
   "cell_type": "code",
   "execution_count": 4,
   "metadata": {},
   "outputs": [
    {
     "name": "stdout",
     "output_type": "stream",
     "text": [
      "tensor(99.0729)\n"
     ]
    }
   ],
   "source": [
    "print(max(Ts))"
   ]
  },
  {
   "cell_type": "code",
   "execution_count": 5,
   "metadata": {},
   "outputs": [],
   "source": [
    "import torch\n",
    "delta_T = torch.arange(0,max(Ts), max(Ts)/10)"
   ]
  },
  {
   "cell_type": "code",
   "execution_count": 6,
   "metadata": {},
   "outputs": [
    {
     "data": {
      "text/plain": [
       "tensor([ 0.0000,  9.9073, 19.8146, 29.7219, 39.6292, 49.5364, 59.4437, 69.3510,\n",
       "        79.2583, 89.1656, 99.0729])"
      ]
     },
     "execution_count": 6,
     "metadata": {},
     "output_type": "execute_result"
    }
   ],
   "source": [
    "delta_T"
   ]
  },
  {
   "cell_type": "code",
   "execution_count": 7,
   "metadata": {},
   "outputs": [],
   "source": [
    "_,  events_fws_mc = arr_func(user_list, 300, delta_T, multiclass_fws_array)\n",
    "mc_batch = events_tensor(events_fws_mc)"
   ]
  },
  {
   "cell_type": "code",
   "execution_count": 8,
   "metadata": {},
   "outputs": [
    {
     "data": {
      "text/plain": [
       "1200"
      ]
     },
     "execution_count": 8,
     "metadata": {},
     "output_type": "execute_result"
    }
   ],
   "source": [
    "len(mc_batch)"
   ]
  },
  {
   "cell_type": "code",
   "execution_count": 3,
   "metadata": {},
   "outputs": [],
   "source": [
    "from optimal_transport.data_preprocessing import get_features"
   ]
  },
  {
   "cell_type": "code",
   "execution_count": 4,
   "metadata": {},
   "outputs": [
    {
     "name": "stdout",
     "output_type": "stream",
     "text": [
      "tensor(69.6073) 0\n"
     ]
    },
    {
     "name": "stderr",
     "output_type": "stream",
     "text": [
      "C:\\Users\\vlad1\\OneDrive\\Документы\\GitHub\\mds20_cohortney\\src\\optimal_transport\\data_preprocessing.py:18: UserWarning: torch.range is deprecated in favor of torch.arange and will be removed in 0.5. Note that arange generates values in [start; end), not [start; end].\n",
      "  delta_T = torch.range(0, T_j, T_j/2**j)\n"
     ]
    },
    {
     "name": "stdout",
     "output_type": "stream",
     "text": [
      "tensor(69.6073) 1\n",
      "tensor(69.6073) 2\n",
      "tensor(69.6073) 3\n",
      "tensor(69.6073) 4\n",
      "tensor(72.3916) 0\n",
      "tensor(72.3916) 1\n",
      "tensor(72.3916) 2\n",
      "tensor(72.3916) 3\n",
      "tensor(72.3916) 4\n",
      "tensor(75.2873) 0\n",
      "tensor(75.2873) 1\n",
      "tensor(75.2873) 2\n",
      "tensor(75.2873) 3\n",
      "tensor(75.2873) 4\n",
      "tensor(78.2988) 0\n",
      "tensor(78.2988) 1\n",
      "tensor(78.2988) 2\n",
      "tensor(78.2988) 3\n",
      "tensor(78.2988) 4\n",
      "tensor(81.4307) 0\n",
      "tensor(81.4307) 1\n",
      "tensor(81.4307) 2\n",
      "tensor(81.4307) 3\n",
      "tensor(81.4307) 4\n",
      "tensor(84.6879) 0\n",
      "tensor(84.6879) 1\n",
      "tensor(84.6879) 2\n",
      "tensor(84.6879) 3\n",
      "tensor(84.6879) 4\n",
      "tensor(88.0754) 0\n",
      "tensor(88.0754) 1\n",
      "tensor(88.0754) 2\n",
      "tensor(88.0754) 3\n",
      "tensor(88.0754) 4\n",
      "tensor(91.5985) 0\n",
      "tensor(91.5985) 1\n",
      "tensor(91.5985) 2\n",
      "tensor(91.5985) 3\n",
      "tensor(91.5985) 4\n",
      "tensor(95.2624) 0\n",
      "tensor(95.2624) 1\n",
      "tensor(95.2624) 2\n",
      "tensor(95.2624) 3\n",
      "tensor(95.2624) 4\n",
      "tensor(99.0729) 0\n",
      "tensor(99.0729) 1\n",
      "tensor(99.0729) 2\n",
      "tensor(99.0729) 3\n",
      "tensor(99.0729) 4\n"
     ]
    }
   ],
   "source": [
    "X = get_features(path, 'csv', False)"
   ]
  },
  {
   "cell_type": "markdown",
   "metadata": {},
   "source": [
    "# "
   ]
  }
 ],
 "metadata": {
  "kernelspec": {
   "display_name": "Python 3",
   "language": "python",
   "name": "python3"
  },
  "language_info": {
   "codemirror_mode": {
    "name": "ipython",
    "version": 3
   },
   "file_extension": ".py",
   "mimetype": "text/x-python",
   "name": "python",
   "nbconvert_exporter": "python",
   "pygments_lexer": "ipython3",
   "version": "3.8.3"
  }
 },
 "nbformat": 4,
 "nbformat_minor": 4
}
