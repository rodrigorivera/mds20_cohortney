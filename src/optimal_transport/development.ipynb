{
 "cells": [
  {
   "cell_type": "code",
   "execution_count": 10,
   "metadata": {},
   "outputs": [
    {
     "output_type": "stream",
     "name": "stdout",
     "text": [
      "The autoreload extension is already loaded. To reload it, use:\n  %reload_ext autoreload\n"
     ]
    }
   ],
   "source": [
    "%load_ext autoreload\n",
    "%autoreload 2\n",
    "\n",
    "import os\n",
    "import torch\n",
    "import sys\n",
    "import numpy as np\n",
    "\n",
    "# currentdir = os.path.dirname(os.path.abspath(inspect.getfile(inspect.currentframe())))\n",
    "# parentdir = os.path.dirname(currentdir)\n",
    "# sys.path.insert(0,parentdir) \n",
    "\n",
    "sys.path.append('..')\n",
    "\n",
    "from Cohortney.cohortney import arr_func, multiclass_fws_array, events_tensor\n",
    "from Cohortney.data_utils import load_data\n",
    "from optimal_transport.data_preprocessing import get_features\n",
    "from sk import sinkhorn"
   ]
  },
  {
   "cell_type": "code",
   "execution_count": 4,
   "metadata": {},
   "outputs": [],
   "source": [
    "path = '../../data/simulated_Hawkes/K3_C5'\n",
    "#path = './../../data/IPTV_Data'\n",
    "ss, Ts, class2idx, user_list = load_data(path, ext = 'csv', datetime = False)\n",
    "#ss, Ts, class2idx, user_list = load_data(path, ext = 'txt', datetime = True)"
   ]
  },
  {
   "cell_type": "code",
   "execution_count": 5,
   "metadata": {},
   "outputs": [
    {
     "output_type": "stream",
     "name": "stdout",
     "text": [
      "tensor(99.0729)\n"
     ]
    }
   ],
   "source": [
    "print(max(Ts))"
   ]
  },
  {
   "cell_type": "code",
   "execution_count": 6,
   "metadata": {},
   "outputs": [],
   "source": [
    "\n",
    "delta_T = np.arange(0,max(Ts), max(Ts)/10)"
   ]
  },
  {
   "cell_type": "code",
   "execution_count": 7,
   "metadata": {},
   "outputs": [],
   "source": [
    "_,  events_fws_mc = arr_func(user_list, 300, delta_T, multiclass_fws_array)\n",
    "mc_batch = events_tensor(events_fws_mc)"
   ]
  },
  {
   "cell_type": "code",
   "execution_count": 8,
   "metadata": {},
   "outputs": [
    {
     "output_type": "execute_result",
     "data": {
      "text/plain": [
       "1200"
      ]
     },
     "metadata": {},
     "execution_count": 8
    }
   ],
   "source": [
    "len(mc_batch)"
   ]
  },
  {
   "cell_type": "code",
   "execution_count": 9,
   "metadata": {},
   "outputs": [],
   "source": [
    "X = get_features(path, 'csv', False)"
   ]
  },
  {
   "cell_type": "code",
   "execution_count": 17,
   "metadata": {},
   "outputs": [],
   "source": []
  },
  {
   "cell_type": "code",
   "execution_count": 14,
   "metadata": {},
   "outputs": [],
   "source": [
    "N, K = 100, 5\n",
    "P = torch.cat([torch.eye(K)+torch.randn(K,K)]*(N//K), dim = 1)\n",
    "r = torch.ones(K)/K\n",
    "c = torch.ones(N)/N\n",
    "lmbd = 10\n",
    "eps = 1e-5\n",
    "\n",
    "Q = sinkhorn(P, r, c, lmbd, eps)"
   ]
  },
  {
   "cell_type": "code",
   "execution_count": null,
   "metadata": {},
   "outputs": [],
   "source": []
  }
 ],
 "metadata": {
  "kernelspec": {
   "display_name": "Python 3",
   "language": "python",
   "name": "python3"
  },
  "language_info": {
   "codemirror_mode": {
    "name": "ipython",
    "version": 3
   },
   "file_extension": ".py",
   "mimetype": "text/x-python",
   "name": "python",
   "nbconvert_exporter": "python",
   "pygments_lexer": "ipython3",
   "version": "3.8.5-final"
  }
 },
 "nbformat": 4,
 "nbformat_minor": 4
}