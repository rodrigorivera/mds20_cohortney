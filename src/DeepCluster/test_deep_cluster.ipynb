{
 "metadata": {
  "language_info": {
   "codemirror_mode": {
    "name": "ipython",
    "version": 3
   },
   "file_extension": ".py",
   "mimetype": "text/x-python",
   "name": "python",
   "nbconvert_exporter": "python",
   "pygments_lexer": "ipython3",
   "version": "3.8.5-final"
  },
  "orig_nbformat": 2,
  "kernelspec": {
   "name": "cohortney",
   "display_name": "cohortney",
   "language": "python"
  }
 },
 "nbformat": 4,
 "nbformat_minor": 2,
 "cells": [
  {
   "cell_type": "code",
   "execution_count": null,
   "metadata": {},
   "outputs": [],
   "source": [
    "# this notebook provides output of running main.py\n",
    "\n",
    "# to run this notebook:\n",
    "# choose cohortney kernel for this notebook to run\n",
    "# first you need to install this kernel with\n",
    "# pip install ipykernel\n",
    "# python -m ipykernel install --user --name=cohortney\n",
    "\n",
    "# or just run the script from console)\n",
    "\n",
    "import sys\n",
    "\n",
    "!$sys.executable -m src.DeepCluster.main --data_dir ../../data/simulated_Hawkes/K3_C1  --verbose --epochs 20 --nruns 3 --not_datetime --ext csv --batch 32 --nmb_cluster 3 --n 9"
   ]
  },
  {
   "cell_type": "code",
   "execution_count": null,
   "metadata": {},
   "outputs": [],
   "source": [
    "!$sys.executable -m src.DeepCluster.main --data_dir ../../data/IPTV_Data/  --verbose --epochs 20 --nruns 4 --ext txt --batch 512 --nmb_cluster 6 --n 9"
   ]
  },
  {
   "cell_type": "code",
   "execution_count": null,
   "metadata": {},
   "outputs": [],
   "source": []
  }
 ]
}