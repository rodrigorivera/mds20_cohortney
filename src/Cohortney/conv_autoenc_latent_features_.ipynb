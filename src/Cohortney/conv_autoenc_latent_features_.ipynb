{
  "nbformat": 4,
  "nbformat_minor": 0,
  "metadata": {
    "colab": {
      "name": "conv_autoenc_latent_features_.ipynb",
      "provenance": [],
      "collapsed_sections": [],
      "machine_shape": "hm"
    },
    "kernelspec": {
      "name": "python3",
      "display_name": "Python 3"
    },
    "accelerator": "GPU"
  },
  "cells": [
    {
      "cell_type": "code",
      "metadata": {
        "id": "0ZBt8FCPCD2V"
      },
      "source": [
        "import numpy as np\n"
      ],
      "execution_count": 1,
      "outputs": []
    },
    {
      "cell_type": "code",
      "metadata": {
        "id": "Y0A7wWyG-u9I"
      },
      "source": [
        "pip install tick"
      ],
      "execution_count": null,
      "outputs": []
    },
    {
      "cell_type": "code",
      "metadata": {
        "id": "N2P2uOVov4FL",
        "colab": {
          "base_uri": "https://localhost:8080/"
        },
        "outputId": "96c60126-f977-4842-df1c-4848ae90e69e"
      },
      "source": [
        "# Detect if we are in Google Colaboratory\n",
        "try:\n",
        "    import google.colab\n",
        "    IN_COLAB = True\n",
        "except ImportError:\n",
        "    IN_COLAB = False\n",
        "\n",
        "from pathlib import Path\n",
        "if IN_COLAB:\n",
        "    google.colab.drive.mount(\"/content/drive\")\n",
        "    \n",
        "    # Change this if you created the shortcut in a different location\n",
        "    AUX_DATA_ROOT = Path(\"/content/drive/My Drive/mds20_cohortney\")\n",
        "    \n",
        "    assert AUX_DATA_ROOT.is_dir(), \"Have you forgot to 'Add a shortcut to Drive'?\"\n",
        "    \n",
        "    import sys\n",
        "    sys.path.insert(0, str(AUX_DATA_ROOT))\n",
        "else:\n",
        "    AUX_DATA_ROOT = Path(\".\")"
      ],
      "execution_count": 2,
      "outputs": [
        {
          "output_type": "stream",
          "text": [
            "Drive already mounted at /content/drive; to attempt to forcibly remount, call drive.mount(\"/content/drive\", force_remount=True).\n"
          ],
          "name": "stdout"
        }
      ]
    },
    {
      "cell_type": "code",
      "metadata": {
        "id": "hUw347hnwnmJ"
      },
      "source": [
        "import sys\n",
        "sys.path.append('/content/drive/MyDrive/mds20_cohortney/src/DMHP')"
      ],
      "execution_count": 3,
      "outputs": []
    },
    {
      "cell_type": "code",
      "metadata": {
        "id": "BFCOBp64X6ER"
      },
      "source": [
        "\n",
        "from tick.hawkes import SimuHawkesExpKernels\n",
        "from tick.plot import plot_point_process\n",
        "\n",
        "from tick.plot import plot_hawkes_kernels\n",
        "from tick.hawkes import SimuHawkesSumExpKernels, SimuHawkesMulti, \\\n",
        "    HawkesSumExpKern\n",
        "\n",
        "from tick.hawkes import SimuHawkes, HawkesKernelSumExp\n",
        "n_nodes = 10  # dimension of the Hawkes process\n",
        "adjacency = 0.2 * np.ones((n_nodes, n_nodes))\n",
        "adjacency[0, 1] = 0\n",
        "decays = 3 * np.ones((n_nodes, n_nodes))\n",
        "baseline = 0.5 * np.ones(n_nodes)\n",
        "hawkes = SimuHawkes(baseline=baseline, verbose=False, seed=2398)\n",
        "\n",
        "run_time = 100\n",
        "hawkes.end_time = run_time\n",
        "dt = 0.01\n",
        "hawkes.track_intensity(dt)\n",
        "hawkes.simulate()\n",
        "timestamps = hawkes.timestamps"
      ],
      "execution_count": 5,
      "outputs": []
    },
    {
      "cell_type": "code",
      "metadata": {
        "id": "4jDGd6Ncw08Y"
      },
      "source": [
        "from pathlib import Path\n",
        "from zipfile import ZipFile\n",
        "import pandas as pd\n",
        "import torch\n",
        "import random\n",
        "import numpy as np\n",
        "from matplotlib import pyplot as plt\n",
        "from tqdm import tqdm, trange\n",
        "\n",
        "from HP import PointProcessStorage, DirichletMixtureModel, EM_clustering\n",
        "from metrics import consistency, purity\n",
        "# from data_utils import load_data"
      ],
      "execution_count": 4,
      "outputs": []
    },
    {
      "cell_type": "code",
      "metadata": {
        "id": "Efy8Q_qdxJs5"
      },
      "source": [
        "def load_data(path, range_start, range_stop, maxlen=-1):\n",
        "    s = []\n",
        "    classes = set()\n",
        "    for i in range(range_start, range_stop): # 300 - all datasets\n",
        "        path_ = Path(path, f'{i}.txt')\n",
        "        with path_.open('r') as f:\n",
        "            df = pd.read_csv(f)\n",
        "        classes = classes.union(set(df['event'].unique()))\n",
        "        df['time'] = pd.to_datetime(df['time'])\n",
        "        df['time'] = (df['time'] - df['time'][0]) / np.timedelta64(1,'D')\n",
        "        if maxlen > 0:\n",
        "            df = df.iloc[:maxlen]\n",
        "        df = df.drop(['id', 'option1'], axis=1)\n",
        "        s.append(df)\n",
        "\n",
        "    classes = list(classes)\n",
        "    class2idx = {clas: idx for idx, clas in enumerate(classes)}\n",
        "\n",
        "    ss, Ts = [], []\n",
        "    user_list = []\n",
        "    for i, df in enumerate(s):\n",
        "      # print(s[i]['event'])\n",
        "      # print(i)\n",
        "      user_dict = dict()\n",
        "      if s[i]['time'].to_numpy()[-1] < 0:\n",
        "             continue\n",
        "      s[i]['event'].replace(class2idx, inplace=True)\n",
        "      for  event_type in class2idx.values():\n",
        "          dat = s[i][s[i]['event'] == event_type]\n",
        "          user_dict[event_type] = dat['time'].to_numpy()\n",
        "      user_list.append(user_dict)\n",
        "\n",
        "\n",
        "      st = np.vstack([s[i]['time'].to_numpy(), s[i]['event'].to_numpy()])\n",
        "      tens = torch.FloatTensor(st.astype(np.float32)).T\n",
        "      # print(tens.shape)\n",
        "      \n",
        "      if maxlen > 0:\n",
        "          tens = tens[:maxlen]\n",
        "      ss.append(tens)\n",
        "      Ts.append(tens[-1, 0])\n",
        "\n",
        "    Ts = torch.FloatTensor(Ts)\n",
        "\n",
        "    return ss, Ts, class2idx, user_list"
      ],
      "execution_count": 5,
      "outputs": []
    },
    {
      "cell_type": "code",
      "metadata": {
        "id": "rWeEv_qH3ti8"
      },
      "source": [
        "#transforming data to the array taking into account an event type\n",
        "def sep_hawkes_proc(user_list, event_type):\n",
        "  sep_seqs = []\n",
        "  for user_dict in user_list:\n",
        "    sep_seqs.append(np.array(user_dict[event_type], dtype = np.float32))\n",
        "\n",
        "  return sep_seqs"
      ],
      "execution_count": 6,
      "outputs": []
    },
    {
      "cell_type": "code",
      "metadata": {
        "id": "sZ5RA0Tm4rfm"
      },
      "source": [
        "#transforming data to the tensor without putting attention at event type\n",
        "def hawkes_process_wo_event_types(ss):\n",
        "  sep_seqs = torch.tensor([],dtype=torch.float32)\n",
        "  for i in range(len(ss)):\n",
        "      # print(type(ss[i]))\n",
        "      sep_seqs = torch.cat((sep_seqs, torch.unsqueeze(ss[i].T[0],0)), 0)\n",
        "  return sep_seqs"
      ],
      "execution_count": 7,
      "outputs": []
    },
    {
      "cell_type": "code",
      "metadata": {
        "id": "WP4IsEfbZMJ-"
      },
      "source": [
        "def fws(p, t1, t2):\n",
        "  n = sum(list(map(int, (p >= t1) & (p <= t2))))\n",
        "  return min(int(np.log2(n+1)), 9)"
      ],
      "execution_count": 8,
      "outputs": []
    },
    {
      "cell_type": "code",
      "metadata": {
        "id": "6Y7yU3fjShdx"
      },
      "source": [
        "#fws array as a string (for cohortney)\n",
        "def fws_array(p, array):\n",
        "  fws_array = ''\n",
        "  for i in range(1, len(array)):\n",
        "    fws_array +=str(fws(p, array[i-1], array[i]))\n",
        "  # fws_array = tuple(fws_array)\n",
        "  return fws_array"
      ],
      "execution_count": 9,
      "outputs": []
    },
    {
      "cell_type": "code",
      "metadata": {
        "id": "JQ-Pk2GnUGs1"
      },
      "source": [
        "#fws array as array for AE\n",
        "def fws_numerical_array(p, array):\n",
        "  fws_array = []\n",
        "  for i in range(1, len(array)):\n",
        "    fws_array.append(fws(p, array[i-1], array[i]))\n",
        "  # fws_array = tuple(fws_array)\n",
        "  return fws_array"
      ],
      "execution_count": 10,
      "outputs": []
    },
    {
      "cell_type": "code",
      "metadata": {
        "id": "-jg7ZHvB81Dm"
      },
      "source": [
        "#grid\n",
        "gamma = 1.4\n",
        "T_b = 7e-6\n",
        "T_h = 80\n",
        "N = 10\n",
        "grid = []\n",
        "n = 4\n",
        "\n",
        "#grid generation\n",
        "\n",
        "for i in range(1500):\n",
        "  a = gamma**i * T_b\n",
        "  if (a <= T_h):\n",
        "    grid.append(a)\n",
        "    \n",
        "  else:\n",
        "    break\n",
        "\n",
        "grid = np.array(grid)"
      ],
      "execution_count": 11,
      "outputs": []
    },
    {
      "cell_type": "code",
      "metadata": {
        "id": "NNT-U9e5w4Nz"
      },
      "source": [
        "path = Path('/content/drive/My Drive/mds20_cohortney/data/IPTV_Data')\n",
        "ss, Ts, class2idx, user_list = load_data(path, 1,302, maxlen=200)"
      ],
      "execution_count": 12,
      "outputs": []
    },
    {
      "cell_type": "code",
      "metadata": {
        "id": "fqyp7Lx5hCSI"
      },
      "source": [
        "del ss"
      ],
      "execution_count": 18,
      "outputs": []
    },
    {
      "cell_type": "code",
      "metadata": {
        "id": "y1lZ8Gq4hOLE"
      },
      "source": [
        "del Ts, class2idx, user_list"
      ],
      "execution_count": 19,
      "outputs": []
    },
    {
      "cell_type": "code",
      "metadata": {
        "id": "a6TI0nPR8hli"
      },
      "source": [
        "events = sep_hawkes_proc(user_list, 1)"
      ],
      "execution_count": 13,
      "outputs": []
    },
    {
      "cell_type": "code",
      "metadata": {
        "id": "EKyA6jjsGHcd"
      },
      "source": [
        "events_2 = sep_hawkes_proc(user_list, 2)\n"
      ],
      "execution_count": 14,
      "outputs": []
    },
    {
      "cell_type": "code",
      "metadata": {
        "id": "Bcx1Vh68HOCU"
      },
      "source": [
        "events_3 = sep_hawkes_proc(user_list, 3)\n",
        "events_4 = sep_hawkes_proc(user_list, 4)"
      ],
      "execution_count": 15,
      "outputs": []
    },
    {
      "cell_type": "code",
      "metadata": {
        "id": "veGDNgc_GeZx"
      },
      "source": [
        "events.extend(events_2)\n",
        "# len(events)"
      ],
      "execution_count": 16,
      "outputs": []
    },
    {
      "cell_type": "code",
      "metadata": {
        "id": "3eZ3HyJPHUjy"
      },
      "source": [
        "events.extend(events_3)\n",
        "events.extend(events_4)\n",
        "# len(events)"
      ],
      "execution_count": 17,
      "outputs": []
    },
    {
      "cell_type": "code",
      "metadata": {
        "id": "G3whINpqIKac"
      },
      "source": [
        "events_5 = sep_hawkes_proc(user_list, 5)\n",
        "events_6 = sep_hawkes_proc(user_list, 6)\n",
        "events_7 = sep_hawkes_proc(user_list, 7)\n",
        "events_8 = sep_hawkes_proc(user_list, 8)"
      ],
      "execution_count": 19,
      "outputs": []
    },
    {
      "cell_type": "code",
      "metadata": {
        "id": "c8bPs8tAhyiS"
      },
      "source": [
        "del events_2, events_3, events_4, events_5, events_6, events_7, events_8"
      ],
      "execution_count": 41,
      "outputs": []
    },
    {
      "cell_type": "code",
      "metadata": {
        "id": "B2Bg5Mt-iBqd"
      },
      "source": [
        "del grid"
      ],
      "execution_count": 43,
      "outputs": []
    },
    {
      "cell_type": "code",
      "metadata": {
        "id": "qyEvrgXOID_Z",
        "colab": {
          "base_uri": "https://localhost:8080/"
        },
        "outputId": "d7589fba-bf98-4856-fec2-afeaa9c7e3bd"
      },
      "source": [
        "events.extend(events_5)\n",
        "events.extend(events_6)\n",
        "events.extend(events_7)\n",
        "events.extend(events_8)\n",
        "len(events)"
      ],
      "execution_count": 20,
      "outputs": [
        {
          "output_type": "execute_result",
          "data": {
            "text/plain": [
              "2408"
            ]
          },
          "metadata": {
            "tags": []
          },
          "execution_count": 20
        }
      ]
    },
    {
      "cell_type": "code",
      "metadata": {
        "id": "NLAhha7dSYXH"
      },
      "source": [
        "full_events = hawkes_process_wo_event_types(ss)"
      ],
      "execution_count": null,
      "outputs": []
    },
    {
      "cell_type": "code",
      "metadata": {
        "id": "8ZekLUnA6YNh"
      },
      "source": [
        "fws_numerical_array(events_2[0], Delta_T)"
      ],
      "execution_count": null,
      "outputs": []
    },
    {
      "cell_type": "code",
      "metadata": {
        "id": "-HSHRo0f6pZK",
        "colab": {
          "base_uri": "https://localhost:8080/"
        },
        "outputId": "40e59801-65ed-45be-e246-efc69b4d01dd"
      },
      "source": [
        "n=10\n",
        "2**n"
      ],
      "execution_count": 20,
      "outputs": [
        {
          "output_type": "execute_result",
          "data": {
            "text/plain": [
              "1024"
            ]
          },
          "metadata": {
            "tags": []
          },
          "execution_count": 20
        }
      ]
    },
    {
      "cell_type": "code",
      "metadata": {
        "id": "HHxttniTXX2D"
      },
      "source": [
        "#now we are working with full arrays (all the events withouth ta)\n",
        "\n",
        "T_j = grid[-1]\n",
        "Delta_T = np.linspace(0, grid[-1], 2**n)\n",
        "Delta_T = Delta_T[Delta_T< int(T_j)]\n",
        "Delta_T = tuple(Delta_T)\n",
        "\n",
        "\n",
        "def arr_func(events, T_j, delta_T):\n",
        "  events_fws = dict()\n",
        "  for p_k in events:\n",
        "    \n",
        "    fws_val =  fws_numerical_array(p_k, Delta_T)\n",
        "\n",
        "    p_k1 = tuple(p_k)\n",
        "    if p_k1 not in events_fws.keys():\n",
        "      events_fws[p_k1] = []\n",
        "      events_fws[p_k1].append(fws_val)\n",
        "    else:\n",
        "      events_fws[p_k1].append(fws_val)\n",
        "\n",
        "  array = []\n",
        "  for val in events_fws.values():\n",
        "    # print(val)\n",
        "    array.append(list(val[0]))\n",
        "  return array, events_fws\n"
      ],
      "execution_count": 21,
      "outputs": []
    },
    {
      "cell_type": "code",
      "metadata": {
        "id": "gNptDVXfbXkV"
      },
      "source": [
        "_, events_fws = arr_func(events, T_j, Delta_T)"
      ],
      "execution_count": 22,
      "outputs": []
    },
    {
      "cell_type": "code",
      "metadata": {
        "id": "R3lU-s-uEG0x"
      },
      "source": [
        "keys_list = list(events_fws.keys())"
      ],
      "execution_count": 23,
      "outputs": []
    },
    {
      "cell_type": "code",
      "metadata": {
        "id": "xJq-poQ_H2gA"
      },
      "source": [
        "del events"
      ],
      "execution_count": 24,
      "outputs": []
    },
    {
      "cell_type": "code",
      "metadata": {
        "id": "UVhcYyYCEecZ"
      },
      "source": [
        "len(events_fws[keys_list[0]])"
      ],
      "execution_count": null,
      "outputs": []
    },
    {
      "cell_type": "code",
      "metadata": {
        "id": "SngawNJPAnQg"
      },
      "source": [
        "full_tensor_batch = torch.tensor([], dtype=torch.float32)\n",
        "for key in keys_list[2:]:\n",
        "# events_fws.values():\n",
        "\n",
        "  ten = torch.tensor(events_fws[key]).unsqueeze(0)\n",
        "  # print(ten.shape)\n",
        "  if ten.shape[1] == 1:\n",
        "    full_tensor_batch = torch.cat((full_tensor_batch, ten), dim=0)\n",
        "  else:\n",
        "    for i in range(ten.shape[1]):\n",
        "      ten2 = ten[:,i , :].unsqueeze(0)\n",
        "      full_tensor_batch = torch.cat((full_tensor_batch, ten2), dim=0)"
      ],
      "execution_count": 25,
      "outputs": []
    },
    {
      "cell_type": "code",
      "metadata": {
        "id": "Z_Xo6jsEC2Am",
        "colab": {
          "base_uri": "https://localhost:8080/"
        },
        "outputId": "dca2d62f-6e99-469e-f0cd-f9a70b789024"
      },
      "source": [
        "full_tensor_batch.shape"
      ],
      "execution_count": 26,
      "outputs": [
        {
          "output_type": "execute_result",
          "data": {
            "text/plain": [
              "torch.Size([607, 1, 1018])"
            ]
          },
          "metadata": {
            "tags": []
          },
          "execution_count": 26
        }
      ]
    },
    {
      "cell_type": "code",
      "metadata": {
        "id": "fvvEg7juC0s0"
      },
      "source": [
        "del events_fws"
      ],
      "execution_count": 27,
      "outputs": []
    },
    {
      "cell_type": "code",
      "metadata": {
        "id": "oZFdISzKaFRo"
      },
      "source": [
        "# imports\n",
        "import numpy as np\n",
        "import matplotlib.pyplot as plt\n",
        "import sklearn.datasets as sk_data\n",
        "from sklearn.model_selection import train_test_split\n",
        "from sklearn.linear_model import LogisticRegression\n",
        "from sklearn.preprocessing import StandardScaler\n",
        "\n",
        "import torch\n",
        "import torch.nn as nn\n",
        "import torch.utils.data as torch_data"
      ],
      "execution_count": 28,
      "outputs": []
    },
    {
      "cell_type": "code",
      "metadata": {
        "id": "IV6Hg664Z_XZ"
      },
      "source": [
        "# for reproducibility\n",
        "import random\n",
        "seed = 42\n",
        "torch.manual_seed(seed)\n",
        "torch.cuda.manual_seed(seed)\n",
        "np.random.seed(seed)\n",
        "random.seed(seed)\n",
        "\n",
        "input_size = np.size(full_tensor_batch,1)\n",
        "hidden_size = n\n",
        "\n"
      ],
      "execution_count": 29,
      "outputs": []
    },
    {
      "cell_type": "code",
      "metadata": {
        "id": "Zw610r8RCZtX"
      },
      "source": [
        "encoder = nn.Sequential(\n",
        "                \n",
        "                nn.Linear(in_features=input_size, out_features=7),\n",
        "                nn.ReLU(),\n",
        "                nn.Linear(in_features=7, out_features=n)\n",
        "                )  \n",
        "decoder =  nn.Sequential(\n",
        "              \n",
        "                nn.Linear(in_features=n, out_features=7),\n",
        "                nn.ReLU(),\n",
        "                nn.Linear(7, input_size)\n",
        "                )"
      ],
      "execution_count": null,
      "outputs": []
    },
    {
      "cell_type": "code",
      "metadata": {
        "id": "TMaavnG6Z-1i"
      },
      "source": [
        "class simple_AE(nn.Module):\n",
        "    def __init__(self, encoder, decoder):\n",
        "        super(simple_AE, self).__init__()\n",
        "  \n",
        "    \n",
        "\n",
        "        self.encoder = encoder\n",
        "        self.decoder = decoder\n",
        "    \n",
        "    def forward(self, x):\n",
        "\n",
        "        return self.decoder(self.encoder(x))"
      ],
      "execution_count": 30,
      "outputs": []
    },
    {
      "cell_type": "code",
      "metadata": {
        "id": "AUZ2Um4fUvnm"
      },
      "source": [
        "encoder_conv = nn.Sequential(\n",
        "                nn.Conv1d(in_channels=1, out_channels=512, kernel_size = 3),\n",
        "                # nn.Linear(),\n",
        "                # nn.ReLU(),\n",
        "                nn.BatchNorm1d(512),\n",
        "                nn.Conv1d(in_channels=512, out_channels=256, kernel_size = 3),\n",
        "                # nn.ReLU(),\n",
        "                nn.BatchNorm1d(256),\n",
        "                nn.Conv1d(in_channels=256, out_channels=128, kernel_size = 3),\n",
        "                # nn.BatchNorm1d(n)\n",
        "                nn.BatchNorm1d(128),\n",
        "                nn.Conv1d(in_channels=128, out_channels=64, kernel_size = 3),\n",
        "                nn.BatchNorm1d(64),\n",
        "                nn.Conv1d(in_channels=64, out_channels=32, kernel_size = 3),\n",
        "                nn.BatchNorm1d(32),\n",
        "                nn.Conv1d(in_channels=32, out_channels=16, kernel_size = 3)\n",
        "                # nn.Linear(in_features=15, out_features=n)\n",
        "                )  \n",
        "decoder_conv =  nn.Sequential(\n",
        "               nn.ConvTranspose1d(in_channels=16, out_channels=32, kernel_size = 3),\n",
        "                # nn.Linear(in_features=n, out_features=15),\n",
        "                # # nn.ReLU(),  3, stride = 2, padding = 1\n",
        "                nn.BatchNorm1d(32), \n",
        "                nn.ConvTranspose1d(in_channels=32, out_channels=64, kernel_size = 3),\n",
        "                # nn.Linear(in_features=n, out_features=15),\n",
        "                # # nn.ReLU(),\n",
        "                nn.BatchNorm1d(64), \n",
        "                nn.ConvTranspose1d(in_channels=64, out_channels=128, kernel_size = 3),\n",
        "                # nn.Linear(in_features=n, out_features=15),\n",
        "                # # nn.ReLU(),\n",
        "                nn.BatchNorm1d(128), \n",
        "                 nn.ConvTranspose1d(in_channels=128, out_channels=256, kernel_size = 3),\n",
        "                # nn.Linear(in_features=n, out_features=15),\n",
        "                # # nn.ReLU(),\n",
        "                nn.BatchNorm1d(256), \n",
        "                nn.ConvTranspose1d(in_channels=256, out_channels=512, kernel_size = 3),\n",
        "                # nn.Linear(in_features=n, out_features=7),\n",
        "                # nn.ReLU(),\n",
        "                nn.BatchNorm1d(512),\n",
        "                nn.ConvTranspose1d(in_channels=512, out_channels=1, kernel_size = 3 ),\n",
        "                # nn.ReLU()\n",
        "                # nn.Linear(7, input_size)\n",
        "                )"
      ],
      "execution_count": 31,
      "outputs": []
    },
    {
      "cell_type": "code",
      "metadata": {
        "id": "5P7dnFFWeEDA"
      },
      "source": [
        "full_batch = torch.tensor(array, dtype=torch.float32)"
      ],
      "execution_count": null,
      "outputs": []
    },
    {
      "cell_type": "markdown",
      "metadata": {
        "id": "gEz2W_NwIae-"
      },
      "source": [
        ""
      ]
    },
    {
      "cell_type": "code",
      "metadata": {
        "id": "pzAuTbzRag0e"
      },
      "source": [
        "enc_layer = encoder_conv(full_tensor_batch)"
      ],
      "execution_count": null,
      "outputs": []
    },
    {
      "cell_type": "code",
      "metadata": {
        "id": "bvjqv-G7GodU"
      },
      "source": [
        "enc_layer.shape"
      ],
      "execution_count": null,
      "outputs": []
    },
    {
      "cell_type": "code",
      "metadata": {
        "id": "GZvo-QrLHGpc"
      },
      "source": [
        "dec_layer = decoder_conv(enc_layer)\n",
        "dec_layer.shape\n"
      ],
      "execution_count": null,
      "outputs": []
    },
    {
      "cell_type": "code",
      "metadata": {
        "id": "V5J_egJoU2Gd"
      },
      "source": [
        "class conv_AE(nn.Module):\n",
        "    def __init__(self, encoder, decoder):\n",
        "        super(conve_AE, self).__init__()\n",
        "  \n",
        "    \n",
        "\n",
        "        self.encoder = encoder_conv\n",
        "        self.decoder = decoder_conv\n",
        "    \n",
        "    def forward(self, x):\n",
        "\n",
        "        return self.decoder(self.encoder(x))"
      ],
      "execution_count": null,
      "outputs": []
    },
    {
      "cell_type": "code",
      "metadata": {
        "id": "D0ToyfxdZ_Gv"
      },
      "source": [
        "def init_weights(m):\n",
        "    if type(m) == nn.Conv1d:\n",
        "      torch.nn.init.xavier_uniform(m.weight)\n",
        "        # m.bias.data.fill_(0.0)"
      ],
      "execution_count": 32,
      "outputs": []
    },
    {
      "cell_type": "code",
      "metadata": {
        "id": "-j1la6CSfIQM",
        "colab": {
          "base_uri": "https://localhost:8080/"
        },
        "outputId": "36769357-6048-4719-f720-bd79b0f53fc4"
      },
      "source": [
        "device = torch.device(\"cuda:0\" if torch.cuda.is_available() else \"cpu\")\n",
        "autoencoder_conv = simple_AE(encoder_conv, decoder_conv)\n",
        "autoencoder_conv.apply(init_weights)\n",
        "autoencoder_conv = autoencoder_conv.cuda()"
      ],
      "execution_count": 33,
      "outputs": [
        {
          "output_type": "stream",
          "text": [
            "/usr/local/lib/python3.6/dist-packages/ipykernel_launcher.py:3: UserWarning: nn.init.xavier_uniform is now deprecated in favor of nn.init.xavier_uniform_.\n",
            "  This is separate from the ipykernel package so we can avoid doing imports until\n"
          ],
          "name": "stderr"
        }
      ]
    },
    {
      "cell_type": "code",
      "metadata": {
        "id": "KVL1SwQFXsF7"
      },
      "source": [
        "device = torch.device(\"cuda:0\" if torch.cuda.is_available() else \"cpu\")\n",
        "autoencoder = simple_AE(encoder, decoder)\n",
        "autoencoder.apply(init_weights)\n",
        "autoencoder = autoencoder.cuda()"
      ],
      "execution_count": null,
      "outputs": []
    },
    {
      "cell_type": "code",
      "metadata": {
        "id": "FyKCebuzATwi"
      },
      "source": [
        "%matplotlib inline\n"
      ],
      "execution_count": 34,
      "outputs": []
    },
    {
      "cell_type": "code",
      "metadata": {
        "id": "u4ah20TTfIl8"
      },
      "source": [
        "import torch.optim as optim\n",
        "criterion = torch.nn.MSELoss()\n",
        "device = torch.device(\"cuda:0\" if torch.cuda.is_available() else \"cpu\")\n",
        "\n",
        "optimizer = optim.Adam(autoencoder_conv.parameters())"
      ],
      "execution_count": 34,
      "outputs": []
    },
    {
      "cell_type": "code",
      "metadata": {
        "id": "uBRMcIOYYyX4"
      },
      "source": [
        "from IPython import display\n",
        "import matplotlib.pyplot as plt\n",
        "def plot_loss(loss_history, clear_output=True):\n",
        "    if clear_output:\n",
        "        display.clear_output(wait=True)\n",
        "    # fig, ax = plt.subplots(1, 1, figsize=(8, 6))\n",
        "    if loss_history:\n",
        "        plt.semilogy(loss_history)\n",
        "        plt.title('Training loss')\n",
        "        plt.xlabel('# epochs')\n",
        "        plt.ylabel('loss value')\n",
        "    \n",
        "\n",
        "    plt.show()\n"
      ],
      "execution_count": 35,
      "outputs": []
    },
    {
      "cell_type": "code",
      "metadata": {
        "id": "6zkwPtErh0eF"
      },
      "source": [
        "# Train your autoencoder\n",
        "# Visualize progress in reconstruction and loss decay\n",
        "def train(epochs, net, criterion, optimizer):\n",
        "    net.to(device)\n",
        "    train_loss = []\n",
        "\n",
        "    for epoch in range(0, epochs):\n",
        "        net.train()\n",
        "        \n",
        "        X = full_tensor_batch.to(device)\n",
        "        nn_output = net(X)\n",
        "        loss = criterion(nn_output[0], X)\n",
        "        train_loss.append(loss.item())\n",
        "        \n",
        "        optimizer.zero_grad()\n",
        "        loss.backward()\n",
        "        optimizer.step()\n",
        "\n",
        "\n",
        "       \n",
        "        plot_loss(train_loss)\n",
        "\n",
        "\n",
        "    return train_loss"
      ],
      "execution_count": 36,
      "outputs": []
    },
    {
      "cell_type": "code",
      "metadata": {
        "id": "tysfkrAdh0xv",
        "colab": {
          "base_uri": "https://localhost:8080/",
          "height": 295
        },
        "outputId": "9d26cc69-736c-4a9c-ebc6-b7d76b9929e9"
      },
      "source": [
        "train_loss = train(100, autoencoder_conv, criterion, optimizer) "
      ],
      "execution_count": 37,
      "outputs": [
        {
          "output_type": "display_data",
          "data": {
            "image/png": "[encoded data removed]",
            "text/plain": [
              "<Figure size 432x288 with 1 Axes>"
            ]
          },
          "metadata": {
            "tags": [],
            "needs_background": "light"
          }
        }
      ]
    },
    {
      "cell_type": "code",
      "metadata": {
        "id": "U6O1BQfmjbiJ"
      },
      "source": [
        "ans = encoder_conv(full_tensor_batch.to(device))"
      ],
      "execution_count": 38,
      "outputs": []
    },
    {
      "cell_type": "code",
      "metadata": {
        "id": "a5__GBYODTaC"
      },
      "source": [
        "X = ans.cpu().squeeze().detach().numpy()\n"
      ],
      "execution_count": 39,
      "outputs": []
    },
    {
      "cell_type": "code",
      "metadata": {
        "id": "gS_IKVgmIQyy"
      },
      "source": [
        "X_trained = X.reshape(607, 16*1006)"
      ],
      "execution_count": 50,
      "outputs": []
    },
    {
      "cell_type": "code",
      "metadata": {
        "colab": {
          "base_uri": "https://localhost:8080/"
        },
        "id": "34A8xmbEkQUn",
        "outputId": "8f5bd79f-aff8-4d52-d6dc-5cbe50479060"
      },
      "source": [
        "X_trained.shape"
      ],
      "execution_count": 51,
      "outputs": [
        {
          "output_type": "execute_result",
          "data": {
            "text/plain": [
              "(607, 16096)"
            ]
          },
          "metadata": {
            "tags": []
          },
          "execution_count": 51
        }
      ]
    },
    {
      "cell_type": "code",
      "metadata": {
        "id": "Grp_gHkXUoG4",
        "colab": {
          "base_uri": "https://localhost:8080/"
        },
        "outputId": "d1f0c200-36e4-4293-93cc-809c4fa8af5c"
      },
      "source": [
        "import numpy as np\n",
        "import pandas as pd\n",
        "from matplotlib import pyplot as plt\n",
        "from sklearn.datasets.samples_generator import make_blobs\n",
        "from sklearn.cluster import KMeans"
      ],
      "execution_count": 41,
      "outputs": [
        {
          "output_type": "stream",
          "text": [
            "/usr/local/lib/python3.6/dist-packages/sklearn/utils/deprecation.py:144: FutureWarning: The sklearn.datasets.samples_generator module is  deprecated in version 0.22 and will be removed in version 0.24. The corresponding classes / functions should instead be imported from sklearn.datasets. Anything that cannot be imported from sklearn.datasets is now part of the private API.\n",
            "  warnings.warn(message, FutureWarning)\n"
          ],
          "name": "stderr"
        }
      ]
    },
    {
      "cell_type": "code",
      "metadata": {
        "id": "CwD9ybVGRlJT",
        "colab": {
          "base_uri": "https://localhost:8080/",
          "height": 295
        },
        "outputId": "ef846343-38ae-48ed-9bc3-71d262bf50b4"
      },
      "source": [
        "wcss = []\n",
        "for i in range(1, 15):\n",
        "    kmeans = KMeans(n_clusters=i, init='k-means++', max_iter=300, n_init=10, random_state=0)\n",
        "    kmeans.fit(X_trained)\n",
        "    wcss.append(kmeans.inertia_)\n",
        "plt.plot(range(1, 15), wcss)\n",
        "plt.title('Elbow Method')\n",
        "plt.xlabel('Number of clusters')\n",
        "plt.ylabel('WCSS')\n",
        "plt.show()"
      ],
      "execution_count": 52,
      "outputs": [
        {
          "output_type": "display_data",
          "data": {
            "image/png": "[encoded data removed]",
            "text/plain": [
              "<Figure size 432x288 with 1 Axes>"
            ]
          },
          "metadata": {
            "tags": [],
            "needs_background": "light"
          }
        }
      ]
    },
    {
      "cell_type": "code",
      "metadata": {
        "id": "dritLaJ22VHh"
      },
      "source": [
        "purity\n"
      ],
      "execution_count": null,
      "outputs": []
    },
    {
      "cell_type": "code",
      "metadata": {
        "id": "JvwZEwa0E3x4",
        "colab": {
          "base_uri": "https://localhost:8080/",
          "height": 269
        },
        "outputId": "2c80aa6f-b4dd-4c16-ae9a-ac12699e3d1c"
      },
      "source": [
        "kmeans = KMeans(n_clusters=2, init='k-means++', max_iter=300, n_init=10, random_state=0)\n",
        "pred_y = kmeans.fit_predict(X_trained)\n",
        "plt.scatter(X[7, :], X[1,:])\n",
        "plt.scatter(kmeans.cluster_centers_[:, 0], kmeans.cluster_centers_[:, 1], s=300, c='red')\n",
        "plt.show()"
      ],
      "execution_count": 58,
      "outputs": [
        {
          "output_type": "display_data",
          "data": {
            "image/png": "[encoded data removed]",
            "text/plain": [
              "<Figure size 432x288 with 1 Axes>"
            ]
          },
          "metadata": {
            "tags": [],
            "needs_background": "light"
          }
        }
      ]
    },
    {
      "cell_type": "code",
      "metadata": {
        "id": "dN3OJEyPEb6f"
      },
      "source": [
        "import numpy as np\n",
        "import pandas as pd\n",
        "from matplotlib import pyplot as plt\n",
        "from sklearn.datasets.samples_generator import make_blobs\n",
        "from sklearn.cluster import KMeans"
      ],
      "execution_count": null,
      "outputs": []
    },
    {
      "cell_type": "code",
      "metadata": {
        "id": "uKorDIyXh0PB"
      },
      "source": [
        "import matplotlib.pyplot as plt\n",
        "plt.plot(train_loss)\n",
        "# plt.show()"
      ],
      "execution_count": null,
      "outputs": []
    },
    {
      "cell_type": "code",
      "metadata": {
        "id": "HMIJx9EKkiqV"
      },
      "source": [
        ""
      ],
      "execution_count": null,
      "outputs": []
    },
    {
      "cell_type": "code",
      "metadata": {
        "id": "F_AVeO4K81HW"
      },
      "source": [
        "events_clusters = dict() #initial clusters dict. key - cluster defining triplet, value - list of sequences\n",
        "events_triplets = dict() # key -sequence, value -list of clusters"
      ],
      "execution_count": null,
      "outputs": []
    },
    {
      "cell_type": "code",
      "metadata": {
        "id": "6l2J_8789BgE"
      },
      "source": [
        "for i in range(len(grid)):\n",
        "  for k in range(n):\n",
        "    T_j = grid[i]\n",
        "    Delta_T = np.linspace(0, grid[i], 2**k)\n",
        "    Delta_T = Delta_T[Delta_T< int(T_j)]\n",
        "    Delta_T = tuple(Delta_T)\n",
        "    for p_k in events:\n",
        "     \n",
        "      triplet = (int(T_j), Delta_T, fws_array(p_k, Delta_T))\n",
        "      \n",
        "      if triplet not in events_clusters.keys():\n",
        "        events_clusters[triplet] = []\n",
        "        events_clusters[triplet].append(p_k) \n",
        "      else:\n",
        "        events_clusters[triplet].append(p_k) \n",
        "      p_k1 = tuple(p_k)\n",
        "      if p_k1 not in events_triplets.keys():\n",
        "        events_triplets[p_k1] = []\n",
        "        events_triplets[p_k1].append(triplet)\n",
        "      else:\n",
        "        events_triplets[p_k1].append(triplet)"
      ],
      "execution_count": null,
      "outputs": []
    },
    {
      "cell_type": "code",
      "metadata": {
        "id": "rckypWXV9BkK"
      },
      "source": [
        "#dropping clusters with less then N sequences in it\n",
        "optimal_clusters = {}\n",
        "for k,v in events_clusters.items():\n",
        "  if len(v)>= N:\n",
        "    optimal_clusters[k] = v"
      ],
      "execution_count": null,
      "outputs": []
    },
    {
      "cell_type": "code",
      "metadata": {
        "id": "2iGnfTPwFkkk"
      },
      "source": [
        "arr = list(optimal_clusters.keys())"
      ],
      "execution_count": null,
      "outputs": []
    },
    {
      "cell_type": "code",
      "metadata": {
        "id": "CHxVVISHFt07"
      },
      "source": [
        "arr2 = np.array(arr)"
      ],
      "execution_count": null,
      "outputs": []
    },
    {
      "cell_type": "code",
      "metadata": {
        "id": "umsKXP23GHZY"
      },
      "source": [
        "arr2"
      ],
      "execution_count": null,
      "outputs": []
    },
    {
      "cell_type": "code",
      "metadata": {
        "id": "jo9c99An9Bc1"
      },
      "source": [
        "\n",
        "ssn, Tsn, class2idxn, user_listn = load_data(path, 40, 41, maxlen=200)\n",
        "\n"
      ],
      "execution_count": null,
      "outputs": []
    },
    {
      "cell_type": "code",
      "metadata": {
        "id": "v4v0Im8ga520"
      },
      "source": [
        "p_new = sep_hawkes_proc(user_listn,9)[0]"
      ],
      "execution_count": null,
      "outputs": []
    },
    {
      "cell_type": "code",
      "metadata": {
        "id": "Rq4VxCHha-xq"
      },
      "source": [
        "p_new"
      ],
      "execution_count": null,
      "outputs": []
    },
    {
      "cell_type": "code",
      "metadata": {
        "id": "M6gmpHGc9k4l"
      },
      "source": [
        "# A = 'polynomial' #input()\n",
        "# B = 'exponential' #input()\n",
        "# d = [[2147483646 for j in range(len(A)+1)]for i in range(len(B)+1)]\n",
        "# for i in range(len(A)+1):\n",
        "#     for j in range(len(B)+1):\n",
        "#         d[i][j].append(2147483646)\n",
        "  \n",
        "  \n",
        "\n",
        "def diffLit(s,t):\n",
        "    return int(s != t)\n",
        "\n",
        "\n",
        "\n",
        "def EditDIstTD(i,j):\n",
        "    sub,deel, ins = 0,0,0\n",
        "    el =0\n",
        "    if d[i][j] == 2147483646:\n",
        "        if i == 0:\n",
        "            d[i][j] = j\n",
        "        elif j == 0:\n",
        "            d[i][j]= i\n",
        "        else:\n",
        "            ins = EditDIstTD(i, j-1)+1\n",
        "            deel = EditDIstTD(i-1, j)+1\n",
        "            sub = EditDIstTD(i-1, j-1) + diffLit(A[j-1], B[i-1])\n",
        "            d[i][j] = min(ins, deel, sub)\n",
        "\n",
        "    return d[i][j]\n",
        "\n",
        "\n",
        "def Levenshtein(A, B):\n",
        "  for i in range(1,len(B)+1):\n",
        "      for j in range(1, len(A)+1):\n",
        "          EditDIstTD(i,j)\n",
        "  return d[-1][-1]\n",
        "\n",
        "\n",
        "\n",
        "# print(d[-1][-1])"
      ],
      "execution_count": null,
      "outputs": []
    },
    {
      "cell_type": "code",
      "metadata": {
        "id": "qupbnRW8dtg5"
      },
      "source": [
        "len(list(events_clusters.keys()))"
      ],
      "execution_count": null,
      "outputs": []
    },
    {
      "cell_type": "code",
      "metadata": {
        "id": "9rxPS-3uO-ob"
      },
      "source": [
        "for k in events_clusters.keys():\n",
        "  if k[0] ==3:\n",
        "    print(k)"
      ],
      "execution_count": null,
      "outputs": []
    },
    {
      "cell_type": "code",
      "metadata": {
        "id": "zBtFQH_rLZfc"
      },
      "source": [
        "treshold = 0.5"
      ],
      "execution_count": null,
      "outputs": []
    },
    {
      "cell_type": "code",
      "metadata": {
        "id": "d6VbNM1EYx1G"
      },
      "source": [
        "#computing triplets for a new sequence\n",
        "t =3\n",
        "grid_cut = grid[grid<t]\n",
        "p_new_triplets = []\n",
        "n = 5\n",
        "for k in range(n):\n",
        "    Delta_T = np.linspace(0, grid_cut[-1], 2**k)\n",
        "    Delta_T = tuple(Delta_T)\n",
        "    triplet = (int(t), Delta_T, fws_array(p_new, Delta_T))\n",
        "\n",
        "    if triplet not in p_new_triplets:\n",
        "      p_new_triplets.append(triplet)"
      ],
      "execution_count": null,
      "outputs": []
    },
    {
      "cell_type": "code",
      "metadata": {
        "id": "99Hnt1h0AHk-"
      },
      "source": [
        "for triplet in p_new_triplets:\n",
        "  if triplet in optimal_clusters.keys():\n",
        "    print('found cluster ', triplet) #we have the exact match in triplets buncg\n",
        "  elif triplet not in optimal_clusters.keys():\n",
        "    optimal_array = np.array(list(optimal_clusters.keys()))\n",
        "    triplet_array = np.array(triplet)\n",
        "    #loook for triplets that have thr same time Tj and time partition\n",
        "    triplets_to_check = optimal_array[list(map(bool, np.prod(optimal_array[:,:-1] ==triplet_array[:-1], axis =1)))]\n",
        "\n",
        "    for trips in triplets_to_check:\n",
        "      A = trips[2]\n",
        "      B = triplet[2]\n",
        "      d = [[2147483646 for j in range(len(A)+1)]for i in range(len(B)+1)]\n",
        "      if len(A) != len(B):\n",
        "        print('here')\n",
        "        if (A in B) or (B in A):\n",
        "          print('found subcluster' , trips)\n",
        "        else:\n",
        "          if Levenshtein(A,B)/ max(len(A), len(B)) < treshold:\n",
        "            print('found closest cluster', trips)\n",
        "          else:\n",
        "            print('no closests cluster for ', triplet)\n",
        "      elif len(A) == len(B):\n",
        "        if Levenshtein(A,B)/len(B) < treshold:\n",
        "          print('found closest cluster', trips)\n",
        "        else:\n",
        "          print('no closests cluster for ', triplet)\n",
        "\n",
        "    # ind = 0\n",
        "    # for i in range(len(triplet[2])):\n",
        "    #   new_fws = triplet[2][:-i]\n",
        "    #   new_triplet = (triplet[0], triplet[1], new_fws)\n",
        "    #   if new_triplet in optimal_clusters.keys():\n",
        "    #     ind = 1\n",
        "    #     print('found cluster ', new_triplet)\n",
        "    #   if ((new_fws =='')and(ind ==0)):\n",
        "    #       print('no closests cluster for ', triplet)"
      ],
      "execution_count": null,
      "outputs": []
    },
    {
      "cell_type": "code",
      "metadata": {
        "id": "KpRrRnHZ5UCZ"
      },
      "source": [
        "hawkes_process_wo_event_types(ss)"
      ],
      "execution_count": null,
      "outputs": []
    },
    {
      "cell_type": "code",
      "metadata": {
        "id": "VjCmqIJSvzTG"
      },
      "source": [
        "run_time = 40\n",
        "\n",
        "hawkes = SimuHawkes(n_nodes=1, end_time=run_time, verbose=False, seed=1398)\n",
        "kernel = HawkesKernelSumExp([.1, .2, .1], [1., 3., 7.])\n",
        "hawkes.set_kernel(0, 0, kernel)\n",
        "hawkes.set_baseline(0, 1.)\n",
        "\n",
        "dt = 0.01\n",
        "hawkes.track_intensity(dt)\n",
        "hawkes.simulate()\n",
        "timestamps2 = hawkes.timestamps"
      ],
      "execution_count": null,
      "outputs": []
    },
    {
      "cell_type": "code",
      "metadata": {
        "id": "kQmT128gQuFF"
      },
      "source": [
        "for i in range(len(grid)):\n",
        "  for k in range(n):\n",
        "    Delta_T = np.arange(0, grid[i], 2**k)\n",
        "    Delta_T = tuple(Delta_T)\n",
        "    for p_k in events:\n",
        "      T_j = grid[i]\n",
        "      triplet = (int(T_j), Delta_T, fws_array(p_k, Delta_T))\n",
        "      \n",
        "      if triplet not in events_clusters.keys():\n",
        "        events_clusters[triplet] = []\n",
        "        events_clusters[triplet].append(p_k) \n",
        "      else:\n",
        "        events_clusters[triplet].append(p_k) \n",
        "      p_k1 = tuple(p_k)\n",
        "      if p_k1 not in events_triplets.keys():\n",
        "        events_triplets[p_k1] = []\n",
        "        events_triplets[p_k1].append(triplet)\n",
        "      else:\n",
        "        events_triplets[p_k1].append(triplet)"
      ],
      "execution_count": null,
      "outputs": []
    },
    {
      "cell_type": "code",
      "metadata": {
        "id": "mzOAFIG1jIbr"
      },
      "source": [
        "N = 7 # optimal clusters"
      ],
      "execution_count": null,
      "outputs": []
    },
    {
      "cell_type": "code",
      "metadata": {
        "id": "rptaWnayjNUs"
      },
      "source": [
        "optimal_clusters = {}\n",
        "for k,v in events_clusters.items():\n",
        "  if len(v)>= N:\n",
        "    optimal_clusters[k] = v"
      ],
      "execution_count": null,
      "outputs": []
    },
    {
      "cell_type": "code",
      "metadata": {
        "id": "eoxMZfkWjhb-"
      },
      "source": [
        "optimal_clusters.values.val"
      ],
      "execution_count": null,
      "outputs": []
    },
    {
      "cell_type": "code",
      "metadata": {
        "id": "MeBpQN1FbmpN"
      },
      "source": [
        "p_new = timestamps2[0]"
      ],
      "execution_count": null,
      "outputs": []
    },
    {
      "cell_type": "code",
      "metadata": {
        "id": "V7Eq9eItmsij"
      },
      "source": [
        "Tsn[0].item()"
      ],
      "execution_count": null,
      "outputs": []
    },
    {
      "cell_type": "code",
      "metadata": {
        "id": "WJUMujK7aq4V"
      },
      "source": [
        "# t = Tsn[0].item()\n",
        " #current_time\n"
      ],
      "execution_count": null,
      "outputs": []
    },
    {
      "cell_type": "code",
      "metadata": {
        "id": "-X4S6olxeR3f"
      },
      "source": [
        "for triplet in p_new_triplets:\n",
        "  if triplet in optimal_clusters.keys():\n",
        "    print('found cluster ', triplet)\n",
        "  if triplet not in optimal_clusters.keys():\n",
        "    ind = 0\n",
        "    for i in range(len(triplet[2])):\n",
        "      new_fws = triplet[2][:-i]\n",
        "      new_triplet = (triplet[0], triplet[1], new_fws)\n",
        "      if new_triplet in optimal_clusters.keys():\n",
        "        ind = 1\n",
        "        print('found cluster ', new_triplet)\n",
        "      if ((new_fws =='')and(ind ==0)):\n",
        "          print('no closests cluster for ', triplet)"
      ],
      "execution_count": null,
      "outputs": []
    },
    {
      "cell_type": "markdown",
      "metadata": {
        "id": "TBuuqTyEiIqi"
      },
      "source": [
        "3 - non trivial\n",
        "\n",
        "\n",
        "13 -non trivial\n",
        "\n",
        "15 - non trivial\n",
        "\n",
        "for 0 \n",
        "\n",
        "5 - non trivial for 12"
      ]
    },
    {
      "cell_type": "code",
      "metadata": {
        "id": "09QZLnBEnwYR"
      },
      "source": [
        ""
      ],
      "execution_count": null,
      "outputs": []
    },
    {
      "cell_type": "code",
      "metadata": {
        "id": "mstqrhZPxbyN"
      },
      "source": [
        "p_new_triplets"
      ],
      "execution_count": null,
      "outputs": []
    },
    {
      "cell_type": "code",
      "metadata": {
        "id": "MM12zY6SM7Wb"
      },
      "source": [
        ""
      ],
      "execution_count": null,
      "outputs": []
    }
  ]
}