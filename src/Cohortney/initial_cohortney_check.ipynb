{
  "nbformat": 4,
  "nbformat_minor": 0,
  "metadata": {
    "colab": {
      "name": "initial_cohortney_check.ipynb",
      "provenance": []
    },
    "kernelspec": {
      "name": "python3",
      "display_name": "Python 3"
    },
    "accelerator": "GPU"
  },
  "cells": [
    {
      "cell_type": "code",
      "metadata": {
        "colab": {
          "base_uri": "https://localhost:8080/"
        },
        "id": "cz_ZsbQJC6TK",
        "outputId": "141d0a82-d012-4265-c584-39eb7fff3f2f"
      },
      "source": [
        "! git clone https://github.com/rodrigorivera/mds20_cohortney"
      ],
      "execution_count": 1,
      "outputs": [
        {
          "output_type": "stream",
          "text": [
            "Cloning into 'mds20_cohortney'...\n",
            "remote: Enumerating objects: 196, done.\u001b[K\n",
            "remote: Counting objects: 100% (196/196), done.\u001b[K\n",
            "remote: Compressing objects: 100% (137/137), done.\u001b[K\n",
            "remote: Total 6938 (delta 101), reused 111 (delta 55), pack-reused 6742\n",
            "Receiving objects: 100% (6938/6938), 46.70 MiB | 13.22 MiB/s, done.\n",
            "Resolving deltas: 100% (429/429), done.\n"
          ],
          "name": "stdout"
        }
      ]
    },
    {
      "cell_type": "code",
      "metadata": {
        "id": "L4HgKtoKDAzO"
      },
      "source": [
        "import os\n",
        "from collections import defaultdict\n",
        "from typing import List, Callable\n",
        "from numbers import Number\n",
        "from pathlib import Path\n",
        "\n",
        "import numpy as np\n",
        "import torch\n",
        "import torch.nn as nn\n",
        "import torch.nn.functional as F\n",
        "import torch.optim as optim\n",
        "from torchvision import datasets, transforms\n",
        "import cvxpy as cp\n",
        "\n",
        "# import pytorch_lightning as pl\n",
        "\n",
        "\n",
        "\n",
        "import torch"
      ],
      "execution_count": 2,
      "outputs": []
    },
    {
      "cell_type": "code",
      "metadata": {
        "id": "qoP91rdSDGQK"
      },
      "source": [
        "import sys\n",
        "sys.path.append('mds20_cohortney/src/DMHP')"
      ],
      "execution_count": 3,
      "outputs": []
    },
    {
      "cell_type": "code",
      "metadata": {
        "id": "ZN_KQtmzDKND"
      },
      "source": [
        "import sys\n",
        "\n",
        "sys.path.append('mds20_cohortney/src/Cohortney')"
      ],
      "execution_count": 4,
      "outputs": []
    },
    {
      "cell_type": "code",
      "metadata": {
        "id": "OrWFVpvgDQAk"
      },
      "source": [
        "from pathlib import Path\n",
        "from zipfile import ZipFile\n",
        "import pandas as pd\n",
        "import torch\n",
        "import random\n",
        "import numpy as np\n",
        "from matplotlib import pyplot as plt\n",
        "from tqdm import tqdm, trange\n",
        "\n",
        "from HP import PointProcessStorage, DirichletMixtureModel, EM_clustering\n",
        "from metrics import consistency, purity\n",
        "\n",
        "import cohortney as cht\n",
        "import data_utils as du"
      ],
      "execution_count": 5,
      "outputs": []
    },
    {
      "cell_type": "code",
      "metadata": {
        "id": "o-H_b2L2ejIf"
      },
      "source": [
        "import cohortney_p as chtp"
      ],
      "execution_count": 6,
      "outputs": []
    },
    {
      "cell_type": "code",
      "metadata": {
        "id": "jEaREfCrDbZp"
      },
      "source": [
        "path = Path('mds20_cohortney/data/IPTV_Data')\n",
        "\n",
        "ss, Ts, class2idx, user_list = du.load_data(path, maxlen=20, ext='txt', datetime=True)"
      ],
      "execution_count": 7,
      "outputs": []
    },
    {
      "cell_type": "code",
      "metadata": {
        "id": "JxygdVHbD__A"
      },
      "source": [
        "#grid\n",
        "gamma = 1.4\n",
        "T_b = 7e-6\n",
        "T_h = 80\n",
        "N = 10\n",
        "grid = []\n",
        "n = 8\n",
        "\n",
        "#grid generation\n",
        "\n",
        "for i in range(1500):\n",
        "  a = gamma**i * T_b\n",
        "  if (a <= T_h):\n",
        "    grid.append(a)\n",
        "    \n",
        "  else:\n",
        "    break\n",
        "\n",
        "grid = np.array(grid)\n",
        "\n",
        "\n",
        "T_j = grid[-1]\n",
        "Delta_T = np.linspace(0, grid[-1], 2**n)\n",
        "Delta_T = Delta_T[Delta_T< int(T_j)]\n",
        "delta_T = tuple(Delta_T)"
      ],
      "execution_count": 8,
      "outputs": []
    },
    {
      "cell_type": "code",
      "metadata": {
        "id": "agonvCflc4Zt"
      },
      "source": [
        "events_clusters, events_triplets = cht.computing_cohortney(grid, user_list, cht.multiclass_fws_array, n)"
      ],
      "execution_count": 9,
      "outputs": []
    },
    {
      "cell_type": "code",
      "metadata": {
        "id": "xBYhch5XiGTo"
      },
      "source": [
        "optimal_clusters = chtp.optimalClusters(events_clusters, 20)"
      ],
      "execution_count": 10,
      "outputs": []
    },
    {
      "cell_type": "code",
      "metadata": {
        "id": "Y-99rTPOiVID"
      },
      "source": [
        "p_new_triplets = chtp.new_triplets_for_seq(18, user_list[8], cht.multiclass_fws_array, n, grid)"
      ],
      "execution_count": 13,
      "outputs": []
    },
    {
      "cell_type": "code",
      "metadata": {
        "colab": {
          "base_uri": "https://localhost:8080/"
        },
        "id": "n5yA9VnejUF7",
        "outputId": "197552db-9bfd-4517-be9d-94133f2cfe06"
      },
      "source": [
        "c= chtp.looking_for_cluster(p_new_triplets, optimal_clusters, 100 )"
      ],
      "execution_count": 14,
      "outputs": [
        {
          "output_type": "stream",
          "text": [
            "found cluster  (18, (0.0,), '')\n"
          ],
          "name": "stdout"
        }
      ]
    },
    {
      "cell_type": "code",
      "metadata": {
        "id": "IM_vBXvG4kwE"
      },
      "source": [
        ""
      ],
      "execution_count": null,
      "outputs": []
    }
  ]
}