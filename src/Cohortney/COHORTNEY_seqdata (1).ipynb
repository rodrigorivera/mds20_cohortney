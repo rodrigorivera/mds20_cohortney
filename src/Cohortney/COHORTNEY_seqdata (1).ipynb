{
  "nbformat": 4,
  "nbformat_minor": 0,
  "metadata": {
    "colab": {
      "name": "COHORTNEY_seqdata.ipynb",
      "provenance": []
    },
    "kernelspec": {
      "name": "python3",
      "display_name": "Python 3"
    }
  },
  "cells": [
    {
      "cell_type": "code",
      "metadata": {
        "id": "JiMohr1CyEH2"
      },
      "source": [
        "import numpy as np"
      ],
      "execution_count": 82,
      "outputs": []
    },
    {
      "cell_type": "code",
      "metadata": {
        "id": "0ZBt8FCPCD2V"
      },
      "source": [
        "import numpy as np\n"
      ],
      "execution_count": 83,
      "outputs": []
    },
    {
      "cell_type": "code",
      "metadata": {
        "colab": {
          "base_uri": "https://localhost:8080/"
        },
        "id": "Y0A7wWyG-u9I",
        "outputId": "50e6d413-c01e-48e0-ecfa-53cc1bcbcfd1"
      },
      "source": [
        "pip install tick"
      ],
      "execution_count": 84,
      "outputs": [
        {
          "output_type": "stream",
          "text": [
            "Requirement already satisfied: tick in /usr/local/lib/python3.6/dist-packages (0.7.0.1)\n",
            "Requirement already satisfied: matplotlib in /usr/local/lib/python3.6/dist-packages (from tick) (3.2.2)\n",
            "Requirement already satisfied: sphinx in /usr/local/lib/python3.6/dist-packages (from tick) (1.8.5)\n",
            "Requirement already satisfied: numpy in /usr/local/lib/python3.6/dist-packages (from tick) (1.18.5)\n",
            "Requirement already satisfied: pandas in /usr/local/lib/python3.6/dist-packages (from tick) (1.1.4)\n",
            "Requirement already satisfied: dill in /usr/local/lib/python3.6/dist-packages (from tick) (0.3.3)\n",
            "Requirement already satisfied: scikit-learn in /usr/local/lib/python3.6/dist-packages (from tick) (0.22.2.post1)\n",
            "Requirement already satisfied: scipy in /usr/local/lib/python3.6/dist-packages (from tick) (1.4.1)\n",
            "Requirement already satisfied: numpydoc in /usr/local/lib/python3.6/dist-packages (from tick) (1.1.0)\n",
            "Requirement already satisfied: cycler>=0.10 in /usr/local/lib/python3.6/dist-packages (from matplotlib->tick) (0.10.0)\n",
            "Requirement already satisfied: kiwisolver>=1.0.1 in /usr/local/lib/python3.6/dist-packages (from matplotlib->tick) (1.3.1)\n",
            "Requirement already satisfied: pyparsing!=2.0.4,!=2.1.2,!=2.1.6,>=2.0.1 in /usr/local/lib/python3.6/dist-packages (from matplotlib->tick) (2.4.7)\n",
            "Requirement already satisfied: python-dateutil>=2.1 in /usr/local/lib/python3.6/dist-packages (from matplotlib->tick) (2.8.1)\n",
            "Requirement already satisfied: imagesize in /usr/local/lib/python3.6/dist-packages (from sphinx->tick) (1.2.0)\n",
            "Requirement already satisfied: Pygments>=2.0 in /usr/local/lib/python3.6/dist-packages (from sphinx->tick) (2.6.1)\n",
            "Requirement already satisfied: requests>=2.0.0 in /usr/local/lib/python3.6/dist-packages (from sphinx->tick) (2.23.0)\n",
            "Requirement already satisfied: docutils>=0.11 in /usr/local/lib/python3.6/dist-packages (from sphinx->tick) (0.16)\n",
            "Requirement already satisfied: snowballstemmer>=1.1 in /usr/local/lib/python3.6/dist-packages (from sphinx->tick) (2.0.0)\n",
            "Requirement already satisfied: alabaster<0.8,>=0.7 in /usr/local/lib/python3.6/dist-packages (from sphinx->tick) (0.7.12)\n",
            "Requirement already satisfied: packaging in /usr/local/lib/python3.6/dist-packages (from sphinx->tick) (20.4)\n",
            "Requirement already satisfied: six>=1.5 in /usr/local/lib/python3.6/dist-packages (from sphinx->tick) (1.15.0)\n",
            "Requirement already satisfied: babel!=2.0,>=1.3 in /usr/local/lib/python3.6/dist-packages (from sphinx->tick) (2.9.0)\n",
            "Requirement already satisfied: sphinxcontrib-websupport in /usr/local/lib/python3.6/dist-packages (from sphinx->tick) (1.2.4)\n",
            "Requirement already satisfied: Jinja2>=2.3 in /usr/local/lib/python3.6/dist-packages (from sphinx->tick) (2.11.2)\n",
            "Requirement already satisfied: setuptools in /usr/local/lib/python3.6/dist-packages (from sphinx->tick) (50.3.2)\n",
            "Requirement already satisfied: pytz>=2017.2 in /usr/local/lib/python3.6/dist-packages (from pandas->tick) (2018.9)\n",
            "Requirement already satisfied: joblib>=0.11 in /usr/local/lib/python3.6/dist-packages (from scikit-learn->tick) (0.17.0)\n",
            "Requirement already satisfied: urllib3!=1.25.0,!=1.25.1,<1.26,>=1.21.1 in /usr/local/lib/python3.6/dist-packages (from requests>=2.0.0->sphinx->tick) (1.24.3)\n",
            "Requirement already satisfied: certifi>=2017.4.17 in /usr/local/lib/python3.6/dist-packages (from requests>=2.0.0->sphinx->tick) (2020.11.8)\n",
            "Requirement already satisfied: chardet<4,>=3.0.2 in /usr/local/lib/python3.6/dist-packages (from requests>=2.0.0->sphinx->tick) (3.0.4)\n",
            "Requirement already satisfied: idna<3,>=2.5 in /usr/local/lib/python3.6/dist-packages (from requests>=2.0.0->sphinx->tick) (2.10)\n",
            "Requirement already satisfied: sphinxcontrib-serializinghtml in /usr/local/lib/python3.6/dist-packages (from sphinxcontrib-websupport->sphinx->tick) (1.1.4)\n",
            "Requirement already satisfied: MarkupSafe>=0.23 in /usr/local/lib/python3.6/dist-packages (from Jinja2>=2.3->sphinx->tick) (1.1.1)\n"
          ],
          "name": "stdout"
        }
      ]
    },
    {
      "cell_type": "code",
      "metadata": {
        "id": "BFCOBp64X6ER"
      },
      "source": [
        "from tick.hawkes import SimuHawkesExpKernels\n",
        "from tick.plot import plot_point_process\n",
        "\n",
        "from tick.plot import plot_hawkes_kernels\n",
        "from tick.hawkes import SimuHawkesSumExpKernels, SimuHawkesMulti, \\\n",
        "    HawkesSumExpKern\n",
        "\n",
        "from tick.hawkes import SimuHawkes, HawkesKernelSumExp\n",
        "n_nodes = 10  # dimension of the Hawkes process\n",
        "adjacency = 0.2 * np.ones((n_nodes, n_nodes))\n",
        "adjacency[0, 1] = 0\n",
        "decays = 3 * np.ones((n_nodes, n_nodes))\n",
        "baseline = 0.5 * np.ones(n_nodes)\n",
        "hawkes = SimuHawkes(baseline=baseline, verbose=False, seed=2398)\n",
        "\n",
        "run_time = 100\n",
        "hawkes.end_time = run_time\n",
        "dt = 0.01\n",
        "hawkes.track_intensity(dt)\n",
        "hawkes.simulate()\n",
        "timestamps = hawkes.timestamps"
      ],
      "execution_count": 85,
      "outputs": []
    },
    {
      "cell_type": "code",
      "metadata": {
        "id": "XNcrnOviYuaQ"
      },
      "source": [
        "events = timestamps"
      ],
      "execution_count": 86,
      "outputs": []
    },
    {
      "cell_type": "code",
      "metadata": {
        "id": "VjCmqIJSvzTG"
      },
      "source": [
        "run_time = 40\n",
        "\n",
        "hawkes = SimuHawkes(n_nodes=1, end_time=run_time, verbose=False, seed=1398)\n",
        "kernel = HawkesKernelSumExp([.1, .2, .1], [1., 3., 7.])\n",
        "hawkes.set_kernel(0, 0, kernel)\n",
        "hawkes.set_baseline(0, 1.)\n",
        "\n",
        "dt = 0.01\n",
        "hawkes.track_intensity(dt)\n",
        "hawkes.simulate()\n",
        "timestamps2 = hawkes.timestamps"
      ],
      "execution_count": 87,
      "outputs": []
    },
    {
      "cell_type": "code",
      "metadata": {
        "id": "nCl_8Z2aY5qI"
      },
      "source": [
        "events"
      ],
      "execution_count": null,
      "outputs": []
    },
    {
      "cell_type": "code",
      "metadata": {
        "id": "YjA8qNr5ZE-9"
      },
      "source": [
        "gamma = 1.04\n",
        "T_b = 1\n",
        "T_h = 15* 864\n",
        "N = 10\n",
        "grid = []\n",
        "\n",
        "for i in range(1500):\n",
        "  a = gamma**i * T_b\n",
        "  if (a <= T_h):\n",
        "    grid.append(a)\n",
        "  else:\n",
        "    break\n",
        "\n",
        "grid = np.array(grid)"
      ],
      "execution_count": 89,
      "outputs": []
    },
    {
      "cell_type": "code",
      "metadata": {
        "id": "WP4IsEfbZMJ-"
      },
      "source": [
        "def fws(p, t1, t2):\n",
        "  n = sum(list(map(int, (p >= t1) & (p <= t2))))\n",
        "  return min(int(np.log2(n+1)), 9)"
      ],
      "execution_count": 90,
      "outputs": []
    },
    {
      "cell_type": "code",
      "metadata": {
        "id": "6Y7yU3fjShdx"
      },
      "source": [
        "def fws_array(p, array):\n",
        "  fws_array = ''\n",
        "  for i in range(1, len(array)):\n",
        "    fws_array +=str(fws(p, array[i-1], array[i]))\n",
        "  # fws_array = tuple(fws_array)\n",
        "  return fws_array"
      ],
      "execution_count": 92,
      "outputs": []
    },
    {
      "cell_type": "code",
      "metadata": {
        "id": "GjaAhzbVTHFA"
      },
      "source": [
        "events_clusters = dict()\n",
        "events_triplets = dict()"
      ],
      "execution_count": 93,
      "outputs": []
    },
    {
      "cell_type": "code",
      "metadata": {
        "id": "g05KBT-EXkjt"
      },
      "source": [
        "n = 20"
      ],
      "execution_count": 79,
      "outputs": []
    },
    {
      "cell_type": "code",
      "metadata": {
        "id": "kQmT128gQuFF"
      },
      "source": [
        "for i in range(len(grid)):\n",
        "  for k in range(n):\n",
        "    Delta_T = np.arange(0, grid[i], 2**k)\n",
        "    Delta_T = tuple(Delta_T)\n",
        "    for p_k in events:\n",
        "      T_j = grid[i]\n",
        "      triplet = (T_j, Delta_T, fws_array(p_k, Delta_T))\n",
        "      \n",
        "      if triplet not in events_clusters.keys():\n",
        "        events_clusters[triplet] = []\n",
        "        events_clusters[triplet].append(p_k) \n",
        "      else:\n",
        "        events_clusters[triplet].append(p_k) \n",
        "      p_k1 = tuple(p_k)\n",
        "      if p_k1 not in events_triplets.keys():\n",
        "        events_triplets[p_k1] = []\n",
        "        events_triplets[p_k1].append(triplet)\n",
        "      else:\n",
        "        events_triplets[p_k1].append(triplet)"
      ],
      "execution_count": 94,
      "outputs": []
    },
    {
      "cell_type": "code",
      "metadata": {
        "id": "mzOAFIG1jIbr"
      },
      "source": [
        "N = 20 # optimal clusters"
      ],
      "execution_count": 110,
      "outputs": []
    },
    {
      "cell_type": "code",
      "metadata": {
        "id": "rptaWnayjNUs"
      },
      "source": [
        "optimal_clusters = {}\n",
        "for k,v in events_clusters.items():\n",
        "  if len(v)>= 20:\n",
        "    optimal_clusters[k] = v"
      ],
      "execution_count": 111,
      "outputs": []
    },
    {
      "cell_type": "code",
      "metadata": {
        "id": "eoxMZfkWjhb-"
      },
      "source": [
        "optimal_clusters"
      ],
      "execution_count": null,
      "outputs": []
    },
    {
      "cell_type": "code",
      "metadata": {
        "id": "MeBpQN1FbmpN"
      },
      "source": [
        "p_new = timestamps2[0]"
      ],
      "execution_count": 59,
      "outputs": []
    },
    {
      "cell_type": "code",
      "metadata": {
        "id": "WJUMujK7aq4V"
      },
      "source": [
        "t = 2000 #current_time\n",
        "grid_cut = grid[grid<t]\n",
        "p_new_triplets = []\n",
        "for k in range(n):\n",
        "    Delta_T = np.arange(0, grid_cut[-1], 2**k)\n",
        "    Delta_T = tuple(Delta_T)\n",
        "    triplet = (t, Delta_T, fws_array(p_new, Delta_T))\n",
        "    p_new_triplets.append(triplet)"
      ],
      "execution_count": 118,
      "outputs": []
    },
    {
      "cell_type": "code",
      "metadata": {
        "id": "-X4S6olxeR3f"
      },
      "source": [
        "for triplet in p_new_triplets:\n",
        "  if triplet in optimal_clusters.keys():\n",
        "    print('found cluster ', triplet)\n",
        "  if triplet not in optimal_clusters.keys():\n",
        "    ind = 0\n",
        "    for i in range(len(triplet[2])):\n",
        "      new_fws = triplet[2][:-i]\n",
        "      new_triplet = (triplet[0], triplet[1], new_fws)\n",
        "      if new_triplet in optimal_clusters.keys():\n",
        "        ind = 1\n",
        "        print('found cluster ', new_triplet)\n",
        "      if ((new_fws =='')and(ind ==0)):\n",
        "          print('no closests cluster for ', triplet)"
      ],
      "execution_count": null,
      "outputs": []
    },
    {
      "cell_type": "code",
      "metadata": {
        "id": "qoI2lBNKIk0t"
      },
      "source": [
        ""
      ],
      "execution_count": null,
      "outputs": []
    },
    {
      "cell_type": "code",
      "metadata": {
        "id": "mstqrhZPxbyN"
      },
      "source": [
        ""
      ],
      "execution_count": null,
      "outputs": []
    },
    {
      "cell_type": "code",
      "metadata": {
        "id": "gWpQOzmOzzNy"
      },
      "source": [
        ""
      ],
      "execution_count": 110,
      "outputs": []
    },
    {
      "cell_type": "code",
      "metadata": {
        "id": "aEqB1t-8zzhO"
      },
      "source": [
        ""
      ],
      "execution_count": 111,
      "outputs": []
    },
    {
      "cell_type": "code",
      "metadata": {
        "id": "ETWqbA66M6GO"
      },
      "source": [
        ""
      ],
      "execution_count": null,
      "outputs": []
    },
    {
      "cell_type": "code",
      "metadata": {
        "id": "zycf6v-TM6ac"
      },
      "source": [
        ""
      ],
      "execution_count": null,
      "outputs": []
    },
    {
      "cell_type": "code",
      "metadata": {
        "id": "MM12zY6SM7Wb"
      },
      "source": [
        ""
      ],
      "execution_count": null,
      "outputs": []
    }
  ]
}