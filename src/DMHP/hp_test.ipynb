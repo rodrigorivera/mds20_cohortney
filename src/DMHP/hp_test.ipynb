{
 "metadata": {
  "language_info": {
   "codemirror_mode": {
    "name": "ipython",
    "version": 3
   },
   "file_extension": ".py",
   "mimetype": "text/x-python",
   "name": "python",
   "nbconvert_exporter": "python",
   "pygments_lexer": "ipython3",
   "version": "3.8.5-final"
  },
  "orig_nbformat": 2,
  "kernelspec": {
   "name": "python38564bitfad426787c4d466e858501df55a3f5b8",
   "display_name": "Python 3.8.5 64-bit"
  }
 },
 "nbformat": 4,
 "nbformat_minor": 2,
 "cells": [
  {
   "cell_type": "code",
   "execution_count": 5,
   "metadata": {},
   "outputs": [],
   "source": [
    "%load_ext autoreload\n",
    "%autoreload 2"
   ]
  },
  {
   "cell_type": "code",
   "execution_count": 107,
   "metadata": {},
   "outputs": [],
   "source": [
    "import torch\n",
    "import random\n",
    "import numpy as np\n",
    "from HP import HawkesProcess"
   ]
  },
  {
   "cell_type": "code",
   "execution_count": 108,
   "metadata": {},
   "outputs": [],
   "source": [
    "#K = 3\n",
    "N = 20\n",
    "D = 4\n",
    "C = 10\n",
    "#T = 10\n",
    "mu = torch.rand(C)\n",
    "A = torch.rand(C, C, D)\n",
    "basis_fs = [lambda x: torch.exp(- x**2 / k ) for k in range(D)]\n",
    "s = []\n",
    "Ts = []\n",
    "\n",
    "for n in range(N):\n",
    "    Tn = 3\n",
    "    Mn = random.randint(10, 20)\n",
    "    Ts.append(Tn)\n",
    "    ts = torch.FloatTensor([random.random() * Tn for _ in range(Mn)]).sort()[0]\n",
    "    cs = torch.FloatTensor([random.randint(0, C - 1) for _ in range(Mn)])\n",
    "    s.append(torch.stack([ts, cs], -1))"
   ]
  },
  {
   "cell_type": "code",
   "execution_count": 109,
   "metadata": {},
   "outputs": [
    {
     "output_type": "execute_result",
     "data": {
      "text/plain": [
       "tensor([0.3294, 0.3215, 0.8736, 0.6446, 0.2780, 0.0246, 0.5077, 0.5639, 0.6300,\n",
       "        0.9202])"
      ]
     },
     "metadata": {},
     "execution_count": 109
    }
   ],
   "source": [
    "mu"
   ]
  },
  {
   "cell_type": "code",
   "execution_count": 110,
   "metadata": {},
   "outputs": [],
   "source": [
    "hp = HawkesProcess(mu, A, basis_fs, Ts, s)"
   ]
  },
  {
   "cell_type": "code",
   "execution_count": 111,
   "metadata": {},
   "outputs": [],
   "source": [
    "lambdat = hp.intensity(ts=torch.FloatTensor(np.linspace(0, 3, 15)))"
   ]
  },
  {
   "cell_type": "code",
   "execution_count": 112,
   "metadata": {},
   "outputs": [
    {
     "output_type": "execute_result",
     "data": {
      "text/plain": [
       "torch.Size([20, 15, 10])"
      ]
     },
     "metadata": {},
     "execution_count": 112
    }
   ],
   "source": [
    "lambdat.shape"
   ]
  },
  {
   "cell_type": "code",
   "execution_count": 113,
   "metadata": {},
   "outputs": [
    {
     "output_type": "execute_result",
     "data": {
      "text/plain": [
       "tensor(0.0246)"
      ]
     },
     "metadata": {},
     "execution_count": 113
    }
   ],
   "source": [
    "lambdat.min()"
   ]
  },
  {
   "cell_type": "code",
   "execution_count": 114,
   "metadata": {
    "tags": []
   },
   "outputs": [],
   "source": [
    "lambdas = [hp.intensity(sn[:, 0], cs=sn[:, 1]) for sn in hp.s]"
   ]
  },
  {
   "cell_type": "code",
   "execution_count": 125,
   "metadata": {},
   "outputs": [
    {
     "output_type": "execute_result",
     "data": {
      "text/plain": [
       "tensor([0.3215, 0.3215, 0.3215, 0.3215, 0.3215, 0.3215, 0.3215, 0.3215, 0.3215,\n",
       "        0.3215, 0.3215, 0.3215, 0.3215, 0.3215, 0.3215, 0.3215, 0.3215, 0.3215,\n",
       "        0.3215, 0.3215])"
      ]
     },
     "metadata": {},
     "execution_count": 125
    }
   ],
   "source": [
    "lambdas[0][:, 0]"
   ]
  },
  {
   "cell_type": "code",
   "execution_count": 116,
   "metadata": {},
   "outputs": [
    {
     "output_type": "execute_result",
     "data": {
      "text/plain": [
       "(20, torch.Size([20, 18]))"
      ]
     },
     "metadata": {},
     "execution_count": 116
    }
   ],
   "source": [
    "len(lambdas), lambdas[0].shape"
   ]
  },
  {
   "cell_type": "code",
   "execution_count": 117,
   "metadata": {
    "tags": []
   },
   "outputs": [],
   "source": [
    "ll = hp.log_likelihood()"
   ]
  },
  {
   "cell_type": "code",
   "execution_count": 118,
   "metadata": {},
   "outputs": [
    {
     "output_type": "execute_result",
     "data": {
      "text/plain": [
       "torch.Size([20])"
      ]
     },
     "metadata": {},
     "execution_count": 118
    }
   ],
   "source": [
    "ll.shape"
   ]
  },
  {
   "cell_type": "code",
   "execution_count": 119,
   "metadata": {},
   "outputs": [
    {
     "output_type": "execute_result",
     "data": {
      "text/plain": [
       "tensor([-690.5427, -691.2208, -348.4326, -523.4294, -478.1431, -680.6556,\n",
       "        -505.7257, -721.5681, -448.1017, -479.4576, -359.3188, -483.9387,\n",
       "        -639.1586, -666.1451, -773.5902, -398.5319, -603.0493, -416.3192,\n",
       "        -477.3661, -631.4401])"
      ]
     },
     "metadata": {},
     "execution_count": 119
    }
   ],
   "source": [
    "ll"
   ]
  },
  {
   "cell_type": "code",
   "execution_count": 120,
   "metadata": {},
   "outputs": [],
   "source": [
    "s = []\n",
    "Ts = 3\n",
    "\n",
    "for n in range(N):\n",
    "    Mn = random.randint(10, 20)\n",
    "    ts = torch.FloatTensor([random.random() * Ts for _ in range(Mn)]).sort()[0]\n",
    "    cs = torch.FloatTensor([random.randint(0, C - 1) for _ in range(Mn)])\n",
    "    s.append(torch.stack([ts, cs], -1))"
   ]
  },
  {
   "cell_type": "code",
   "execution_count": 121,
   "metadata": {},
   "outputs": [],
   "source": [
    "hp = HawkesProcess(mu, A, basis_fs, Ts, s)"
   ]
  },
  {
   "cell_type": "code",
   "execution_count": 122,
   "metadata": {},
   "outputs": [],
   "source": [
    "ll = hp.log_likelihood()"
   ]
  },
  {
   "cell_type": "code",
   "execution_count": 123,
   "metadata": {},
   "outputs": [
    {
     "output_type": "execute_result",
     "data": {
      "text/plain": [
       "tensor([-573.3574, -572.8993, -402.5913, -539.5865, -550.7906, -702.5536,\n",
       "        -642.9664, -450.0692, -525.2098, -635.9698, -392.0526, -404.1013,\n",
       "        -673.3016, -616.3384, -408.4383, -364.3509, -736.5417, -388.2557,\n",
       "        -416.1881, -623.4576])"
      ]
     },
     "metadata": {},
     "execution_count": 123
    }
   ],
   "source": [
    "ll"
   ]
  }
 ]
}