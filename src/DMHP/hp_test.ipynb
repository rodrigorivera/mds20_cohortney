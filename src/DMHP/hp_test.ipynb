{
 "metadata": {
  "language_info": {
   "codemirror_mode": {
    "name": "ipython",
    "version": 3
   },
   "file_extension": ".py",
   "mimetype": "text/x-python",
   "name": "python",
   "nbconvert_exporter": "python",
   "pygments_lexer": "ipython3",
   "version": "3.8.5-final"
  },
  "orig_nbformat": 2,
  "kernelspec": {
   "name": "python3",
   "display_name": "Python 3"
  }
 },
 "nbformat": 4,
 "nbformat_minor": 2,
 "cells": [
  {
   "cell_type": "code",
   "execution_count": null,
   "metadata": {},
   "outputs": [],
   "source": [
    "%load_ext autoreload\n",
    "%autoreload 2"
   ]
  },
  {
   "cell_type": "code",
   "execution_count": null,
   "metadata": {},
   "outputs": [],
   "source": [
    "from pathlib import Path\n",
    "from zipfile import ZipFile\n",
    "import pandas as pd\n",
    "import torch\n",
    "import random\n",
    "import numpy as np\n",
    "from matplotlib import pyplot as plt\n",
    "from tqdm import tqdm, trange\n",
    "\n",
    "from HP import PointProcessStorage, DirichletMixtureModel, EM_clustering\n",
    "from metrics import consistency, purity\n",
    "from data_utils import load_data"
   ]
  },
  {
   "source": [
    "### IPTV Data"
   ],
   "cell_type": "markdown",
   "metadata": {}
  },
  {
   "cell_type": "code",
   "execution_count": null,
   "metadata": {},
   "outputs": [],
   "source": [
    "path = Path('../..', 'data', 'IPTV_Data')\n",
    "ss, Ts, class2idx = load_data(path, nfiles=300, type='txt', datetime=True, maxlen=-1)"
   ]
  },
  {
   "cell_type": "code",
   "execution_count": null,
   "metadata": {},
   "outputs": [],
   "source": [
    "for i in range(len(ss)):\n",
    "    ss[i] = ss[i][:1000]"
   ]
  },
  {
   "cell_type": "code",
   "execution_count": null,
   "metadata": {},
   "outputs": [],
   "source": [
    "N = len(ss)"
   ]
  },
  {
   "cell_type": "code",
   "execution_count": null,
   "metadata": {},
   "outputs": [],
   "source": [
    "D = 3\n",
    "basis_fs = [lambda x: torch.exp(- x**2 / (2.*(k+1)**2) ) for k in range(D)]"
   ]
  },
  {
   "cell_type": "code",
   "execution_count": null,
   "metadata": {},
   "outputs": [],
   "source": [
    "C = len(class2idx)\n",
    "K = 15"
   ]
  },
  {
   "cell_type": "code",
   "execution_count": null,
   "metadata": {
    "tags": []
   },
   "outputs": [],
   "source": [
    "ntrials = 10\n",
    "niter = 5\n",
    "\n",
    "labels = torch.zeros(ntrials, len(ss))\n",
    "nlls = torch.zeros(ntrials, niter)\n",
    "\n",
    "for i in trange(ntrials):\n",
    "    Sigma = (torch.rand(C, C)).unsqueeze(-1).unsqueeze(-1).repeat(1,1, D, K) * 10\n",
    "    B = torch.rand(C, K) * 10\n",
    "    alpha = 1.\n",
    "\n",
    "    train_ids = np.sort(np.random.choice(np.arange(len(ss)), size=len(ss) // 2, replace=False))\n",
    "    train_fold = [ss[i] for i in range(len(ss)) if i in train_ids]\n",
    "    train_Ts = Ts[train_ids]\n",
    "    \n",
    "    # learn\n",
    "    hp = PointProcessStorage(train_fold, train_Ts, basis_fs)\n",
    "    model = DirichletMixtureModel(K, C, D, alpha, B, Sigma)\n",
    "    EM = EM_clustering(hp, model, n_inner=5)\n",
    "\n",
    "    r, nll_history = EM.learn_hp(niter=niter)\n",
    "\n",
    "    # validate\n",
    "    EM.hp = PointProcessStorage(ss, Ts, basis_fs)\n",
    "    EM.N = len(ss)\n",
    "    EM.int_g = []\n",
    "    EM.g = []\n",
    "    r = EM.e_step()\n",
    "    \n",
    "    labels[i] = r.argmax(-1)\n",
    "    nlls[i] = torch.FloatTensor(nll_history)\n",
    "\n",
    "    print(f'Consistency of clustering: {consistency(labels[:i+1]).item():.4f}')"
   ]
  },
  {
   "cell_type": "code",
   "execution_count": null,
   "metadata": {},
   "outputs": [],
   "source": [
    "assert (model.A >= 0).all()\n",
    "assert (model.mu > 0).all()"
   ]
  },
  {
   "cell_type": "code",
   "execution_count": null,
   "metadata": {},
   "outputs": [],
   "source": [
    "plt.figure(figsize=(9, 5))\n",
    "plt.grid()\n",
    "plt.plot(np.arange(niter)+1, nlls.mean(0).numpy() / len(ss))\n",
    "plt.fill_between(np.arange(niter)+1, (nlls.mean(0).numpy() - nlls.std(0).numpy()) / len(train_ids), (nlls.mean(0).numpy() + nlls.std(0).numpy()) / len(train_ids), alpha=0.2)\n",
    "plt.title('Mixing DMMHP', fontsize=15)\n",
    "plt.xlabel(r'$n$ outer iterations', fontsize=15)\n",
    "plt.ylabel(r'$\\sim$ NLL / $N$', fontsize=15)\n",
    "plt.show()"
   ]
  },
  {
   "cell_type": "code",
   "execution_count": null,
   "metadata": {},
   "outputs": [],
   "source": [
    "print(f'Consistency of clustering: {consistency(labels).item():.4f}')"
   ]
  },
  {
   "cell_type": "code",
   "execution_count": null,
   "metadata": {},
   "outputs": [],
   "source": []
  },
  {
   "source": [
    "### Synthetic data"
   ],
   "cell_type": "markdown",
   "metadata": {}
  },
  {
   "cell_type": "code",
   "execution_count": null,
   "metadata": {},
   "outputs": [],
   "source": [
    "path = Path('../..', 'data', 'simulated_Hawkes', 'K3_C5')\n",
    "ss, Ts, class2idx = load_data(path, nfiles=300, maxlen=-1, endtime=100, type='csv')"
   ]
  },
  {
   "cell_type": "code",
   "execution_count": null,
   "metadata": {},
   "outputs": [],
   "source": [
    "gt_ids = pd.read_csv(Path(path, 'clusters.csv'))['cluster_id'].to_numpy()"
   ]
  },
  {
   "cell_type": "code",
   "execution_count": null,
   "metadata": {},
   "outputs": [],
   "source": [
    "gt_ids = torch.LongTensor(gt_ids)"
   ]
  },
  {
   "cell_type": "code",
   "execution_count": null,
   "metadata": {},
   "outputs": [],
   "source": [
    "N = len(ss)\n",
    "D = 5\n",
    "basis_fs = [lambda x: torch.exp(- x**2 / (2.*(k+1)**2) ) for k in range(D)]\n",
    "\n",
    "hp = PointProcessStorage(ss, Ts, basis_fs)\n",
    "\n",
    "C = len(class2idx)\n",
    "K = 3\n",
    "\n",
    "Sigma = torch.rand(C, C).unsqueeze(-1).unsqueeze(-1).repeat(1, 1, D, K) * 10.\n",
    "B = torch.rand(C, K) * 10.\n",
    "alpha = 1.\n",
    "\n",
    "model = DirichletMixtureModel(K, C, D, alpha, B, Sigma)\n",
    "EM = EM_clustering(hp, model, n_inner=5)\n",
    "\n",
    "pi = torch.FloatTensor([1./ K for _ in range(K)])"
   ]
  },
  {
   "cell_type": "code",
   "execution_count": null,
   "metadata": {},
   "outputs": [],
   "source": [
    "niter = 5\n",
    "\n",
    "labels = torch.zeros(len(ss))\n",
    "nlls = torch.zeros(niter)\n",
    "\n",
    "Sigma = (torch.eye(C, C) + torch.rand(C, C)).unsqueeze(-1).unsqueeze(-1).repeat(1,1, D, K) * 10\n",
    "B = 1 + torch.rand(C, K) * 10\n",
    "alpha = 1.\n",
    "\n",
    "model = DirichletMixtureModel(K, C, D, alpha, B, Sigma)\n",
    "EM.model = model\n",
    "r, nll_history = EM.learn_hp(niter=niter)\n",
    "\n",
    "labels = r.argmax(-1)\n",
    "nlls = torch.FloatTensor(nll_history)"
   ]
  },
  {
   "cell_type": "code",
   "execution_count": null,
   "metadata": {},
   "outputs": [],
   "source": [
    "assert (model.A >= 0).all()\n",
    "assert (model.mu > 0).all()"
   ]
  },
  {
   "cell_type": "code",
   "execution_count": null,
   "metadata": {},
   "outputs": [],
   "source": [
    "plt.figure(figsize=(9, 5))\n",
    "plt.grid()\n",
    "plt.plot(np.arange(niter)+1, nlls.numpy() / len(ss))\n",
    "plt.title('Mixing of DMMHP', fontsize=15)\n",
    "plt.xlabel(r'$n$ outer iterations', fontsize=15)\n",
    "plt.ylabel(r'$\\sim$ NLL / $N$', fontsize=15)\n",
    "plt.show()"
   ]
  },
  {
   "cell_type": "code",
   "execution_count": null,
   "metadata": {},
   "outputs": [],
   "source": [
    "pur_val = purity(labels, gt_ids)"
   ]
  },
  {
   "cell_type": "code",
   "execution_count": null,
   "metadata": {},
   "outputs": [],
   "source": [
    "print(f'Purity: {pur_val}')"
   ]
  },
  {
   "cell_type": "code",
   "execution_count": null,
   "metadata": {},
   "outputs": [],
   "source": [
    "labels"
   ]
  },
  {
   "cell_type": "code",
   "execution_count": null,
   "metadata": {},
   "outputs": [],
   "source": []
  }
 ]
}