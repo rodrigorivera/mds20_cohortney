{
 "metadata": {
  "language_info": {
   "codemirror_mode": {
    "name": "ipython",
    "version": 3
   },
   "file_extension": ".py",
   "mimetype": "text/x-python",
   "name": "python",
   "nbconvert_exporter": "python",
   "pygments_lexer": "ipython3",
   "version": "3.8.5-final"
  },
  "orig_nbformat": 2,
  "kernelspec": {
   "name": "python38564bitf6c62337d7b54061b89e700f2be80f8a",
   "display_name": "Python 3.8.5 64-bit",
   "language": "python"
  }
 },
 "nbformat": 4,
 "nbformat_minor": 2,
 "cells": [
  {
   "cell_type": "code",
   "execution_count": 1,
   "metadata": {},
   "outputs": [],
   "source": [
    "%load_ext autoreload\n",
    "%autoreload 2"
   ]
  },
  {
   "cell_type": "code",
   "execution_count": 2,
   "metadata": {},
   "outputs": [],
   "source": [
    "from pathlib import Path\n",
    "from zipfile import ZipFile\n",
    "import pandas as pd\n",
    "import torch\n",
    "import random\n",
    "import numpy as np\n",
    "from matplotlib import pyplot as plt\n",
    "from tqdm import tqdm, trange\n",
    "\n",
    "import sys\n",
    "sys.path.append('..')\n",
    "\n",
    "from HP import PointProcessStorage, DirichletMixtureModel, EM_clustering\n",
    "from metrics import consistency, purity\n",
    "from Cohortney.data_utils import load_data"
   ]
  },
  {
   "source": [
    "### IPTV Data"
   ],
   "cell_type": "markdown",
   "metadata": {}
  },
  {
   "cell_type": "code",
   "execution_count": 3,
   "metadata": {},
   "outputs": [],
   "source": [
    "path = Path('../..', 'data', 'IPTV_Data')\n",
    "ss, Ts, class2idx, _ = load_data(path, ext='txt', datetime=True, maxlen=500)"
   ]
  },
  {
   "cell_type": "code",
   "execution_count": 4,
   "metadata": {},
   "outputs": [],
   "source": [
    "N = len(ss)"
   ]
  },
  {
   "cell_type": "code",
   "execution_count": 5,
   "metadata": {},
   "outputs": [],
   "source": [
    "D = 5\n",
    "basis_fs = [lambda x: torch.exp(- x**2 / (2.*(k+1)**2) ) for k in range(D)]"
   ]
  },
  {
   "cell_type": "code",
   "execution_count": 6,
   "metadata": {},
   "outputs": [],
   "source": [
    "C = len(class2idx)\n",
    "K = 6"
   ]
  },
  {
   "cell_type": "code",
   "execution_count": 7,
   "metadata": {
    "tags": []
   },
   "outputs": [
    {
     "output_type": "stream",
     "name": "stderr",
     "text": [
      "  0%|          | 0/4 [00:00<?, ?it/s]\n",
      "0it [00:00, ?it/s]\u001b[A\n",
      "1it [00:45, 45.77s/it]\u001b[A\n",
      "NLL / N: 590.3496\n",
      "\n",
      "2it [01:12, 40.17s/it]\u001b[A\n",
      "NLL / N: 601.5843\n",
      "\n",
      "3it [01:52, 39.87s/it]\u001b[A\n",
      "NLL / N: 612.4089\n",
      "\n",
      "4it [02:33, 40.28s/it]\u001b[A\n",
      "NLL / N: 667.2936\n",
      "\n",
      "5it [03:19, 39.92s/it]\n",
      "NLL / N: 704.0333\n",
      "\n",
      " 25%|██▌       | 1/4 [04:13<12:39, 253.20s/it]\n",
      "0it [00:00, ?it/s]\u001b[A\n",
      "Consistency of clustering: nan\n",
      "\n",
      "1it [00:39, 39.29s/it]\u001b[A\n",
      "NLL / N: 559.0773\n",
      "\n",
      "2it [01:19, 39.53s/it]\u001b[A\n",
      "NLL / N: 543.5961\n",
      "\n",
      "3it [02:18, 45.50s/it]\u001b[A\n",
      "NLL / N: 542.3719\n",
      "\n",
      "4it [03:27, 52.40s/it]\u001b[A\n",
      "NLL / N: 605.5701\n",
      "\n",
      "5it [04:38, 55.79s/it]\n",
      "NLL / N: 620.2062\n",
      "\n",
      " 50%|█████     | 2/4 [09:44<09:13, 276.65s/it]\n",
      "0it [00:00, ?it/s]\u001b[A\n",
      "Consistency of clustering: 0.5670\n",
      "\n",
      "1it [00:38, 38.33s/it]\u001b[A\n",
      "NLL / N: 599.6569\n",
      "\n",
      "2it [01:13, 37.23s/it]\u001b[A\n",
      "NLL / N: 622.2506\n",
      "\n",
      "3it [02:00, 40.17s/it]\u001b[A\n",
      "NLL / N: 645.7490\n",
      "\n",
      "4it [02:52, 43.86s/it]\u001b[A\n",
      "NLL / N: 652.4546\n",
      "\n",
      "5it [03:48, 45.65s/it]\n",
      "NLL / N: 602.4416\n",
      "\n",
      " 75%|███████▌  | 3/4 [14:49<04:45, 285.27s/it]\n",
      "0it [00:00, ?it/s]\u001b[A\n",
      "Consistency of clustering: 0.4139\n",
      "\n",
      "1it [00:59, 59.86s/it]\u001b[A\n",
      "NLL / N: 475.5618\n",
      "\n",
      "2it [01:41, 54.35s/it]\u001b[A\n",
      "NLL / N: 500.4576\n",
      "\n",
      "3it [02:32, 53.32s/it]\u001b[A\n",
      "NLL / N: 581.5524\n",
      "\n",
      "4it [03:41, 58.24s/it]\u001b[A\n",
      "NLL / N: 597.5928\n",
      "\n",
      "5it [04:58, 59.66s/it]\n",
      "NLL / N: 601.3891\n",
      "\n",
      "100%|██████████| 4/4 [21:04<00:00, 316.14s/it]\n",
      "Consistency of clustering: 0.3817\n",
      "\n"
     ]
    }
   ],
   "source": [
    "ntrials = 5\n",
    "niter = 10\n",
    "\n",
    "labels = torch.zeros(ntrials, len(ss))\n",
    "nlls = torch.zeros(ntrials, niter)\n",
    "\n",
    "for i in trange(ntrials):\n",
    "    Sigma = torch.rand(C, C, D, K)\n",
    "    B = torch.rand(C, K)\n",
    "    alpha = 1.\n",
    "\n",
    "    train_ids = np.sort(np.random.choice(np.arange(len(ss)), size=len(ss) // 2, replace=False))\n",
    "    train_fold = [ss[i] for i in range(len(ss)) if i in train_ids]\n",
    "    train_Ts = Ts[train_ids]\n",
    "    \n",
    "    # learn\n",
    "    hp = PointProcessStorage(train_fold, train_Ts, basis_fs)\n",
    "    model = DirichletMixtureModel(K, C, D, alpha, B, Sigma)\n",
    "    EM = EM_clustering(hp, model, n_inner=5)\n",
    "\n",
    "    _, nll_history, _ = EM.learn_hp(niter=niter, ninner=[2,3,4,5,6,7] + (niter-6)*[8])\n",
    "\n",
    "    # validate\n",
    "    EM.hp = PointProcessStorage(ss, Ts, basis_fs)\n",
    "    EM.N = len(ss)\n",
    "    EM.int_g = []\n",
    "    EM.g = []\n",
    "    r = EM.e_step()\n",
    "    \n",
    "    labels[i] = r.argmax(-1)\n",
    "    nlls[i] = torch.FloatTensor(nll_history)\n",
    "\n",
    "    print(f'\\nConsistency of clustering: {consistency(labels[:i+1]).item():.4f}')"
   ]
  },
  {
   "cell_type": "code",
   "execution_count": 8,
   "metadata": {},
   "outputs": [],
   "source": [
    "assert (model.A >= 0).all()\n",
    "assert (model.mu > 0).all()"
   ]
  },
  {
   "cell_type": "code",
   "execution_count": 9,
   "metadata": {},
   "outputs": [],
   "source": [
    "# plt.figure(figsize=(9, 5))\n",
    "# plt.grid()\n",
    "# plt.plot(np.arange(niter)+1, nlls.mean(0).numpy() / len(train_ids))\n",
    "# plt.fill_between(np.arange(niter)+1, (nlls.mean(0).numpy() - nlls.std(0).numpy()) / len(train_ids), (nlls.mean(0).numpy() + nlls.std(0).numpy()) / len(train_ids), alpha=0.2)\n",
    "# plt.title('Mixing DMMHP', fontsize=15)\n",
    "# plt.xlabel(r'$n$ outer iterations', fontsize=15)\n",
    "# plt.ylabel(r'$\\sim$ NLL / $N$', fontsize=15)\n",
    "# plt.show()"
   ]
  },
  {
   "cell_type": "code",
   "execution_count": 10,
   "metadata": {},
   "outputs": [
    {
     "output_type": "stream",
     "name": "stdout",
     "text": [
      "Consistency of clustering: 0.3817\n"
     ]
    }
   ],
   "source": [
    "print(f'Consistency of clustering: {consistency(labels).item():.4f}')"
   ]
  },
  {
   "source": [
    "### Synthetic data"
   ],
   "cell_type": "markdown",
   "metadata": {}
  },
  {
   "source": [
    "#### 5 cluster, 5 classes"
   ],
   "cell_type": "markdown",
   "metadata": {}
  },
  {
   "cell_type": "code",
   "execution_count": 17,
   "metadata": {},
   "outputs": [],
   "source": [
    "path = Path('../..', 'data', 'simulated_Hawkes', 'K5_C5')\n",
    "ss, Ts, class2idx, _ = load_data(path, maxlen=-1, ext='csv', datetime=False)"
   ]
  },
  {
   "cell_type": "code",
   "execution_count": 20,
   "metadata": {},
   "outputs": [],
   "source": [
    "gt_ids = pd.read_csv(Path(path, 'clusters.csv'))['cluster_id'].to_numpy()"
   ]
  },
  {
   "cell_type": "code",
   "execution_count": 21,
   "metadata": {},
   "outputs": [],
   "source": [
    "gt_ids = torch.LongTensor(gt_ids)"
   ]
  },
  {
   "cell_type": "code",
   "execution_count": 22,
   "metadata": {},
   "outputs": [],
   "source": [
    "N = len(ss)\n",
    "D = 5\n",
    "basis_fs = [lambda x: torch.exp(- x**2 / (2.*(k+1)**2) ) for k in range(D)]\n",
    "\n",
    "hp = PointProcessStorage(ss, Ts, basis_fs)\n",
    "\n",
    "C = len(class2idx)\n",
    "K = 5\n"
   ]
  },
  {
   "cell_type": "code",
   "execution_count": 23,
   "metadata": {},
   "outputs": [
    {
     "output_type": "stream",
     "name": "stderr",
     "text": [
      "1it [00:48, 48.78s/it]\n",
      "NLL / N: 122.0036\n",
      "2it [00:59, 37.37s/it]\n",
      "NLL / N: 123.2251\n",
      "3it [01:14, 30.54s/it]\n",
      "NLL / N: 121.3704\n",
      "4it [01:28, 25.73s/it]\n",
      "NLL / N: 115.8717\n",
      "5it [01:47, 23.74s/it]\n",
      "NLL / N: 113.1904\n",
      "6it [02:10, 23.33s/it]\n",
      "NLL / N: 111.8429\n",
      "7it [02:37, 24.44s/it]\n",
      "NLL / N: 113.9309\n",
      "8it [03:08, 26.50s/it]\n",
      "NLL / N: 114.1542\n",
      "9it [03:41, 28.58s/it]\n",
      "NLL / N: 114.0441\n",
      "10it [04:14, 25.48s/it]\n",
      "0it [00:00, ?it/s]\n",
      "NLL / N: 113.8574\n",
      "Purity: 0.5300\n",
      "1it [00:51, 51.39s/it]\n",
      "NLL / N: 116.7516\n",
      "2it [01:03, 39.49s/it]\n",
      "NLL / N: 111.9592\n",
      "3it [01:17, 31.92s/it]\n",
      "NLL / N: 113.1661\n",
      "4it [01:31, 26.63s/it]\n",
      "NLL / N: 116.1907\n",
      "5it [01:50, 24.43s/it]\n",
      "NLL / N: 117.9640\n",
      "6it [02:13, 23.96s/it]\n",
      "NLL / N: 115.9253\n",
      "7it [02:41, 25.04s/it]\n",
      "NLL / N: 114.1579\n",
      "8it [03:12, 26.91s/it]\n",
      "NLL / N: 113.6476\n",
      "9it [03:46, 29.04s/it]\n",
      "NLL / N: 113.5558\n",
      "10it [04:23, 26.37s/it]\n",
      "0it [00:00, ?it/s]\n",
      "NLL / N: 113.5510\n",
      "Purity: 0.6355\n",
      "1it [00:53, 53.79s/it]\n",
      "NLL / N: 117.0573\n",
      "2it [01:09, 42.37s/it]\n",
      "NLL / N: 104.5444\n",
      "3it [01:25, 34.45s/it]\n",
      "NLL / N: 107.5368\n",
      "4it [01:49, 31.45s/it]\n",
      "NLL / N: 108.4292\n",
      "5it [02:32, 34.72s/it]\n",
      "NLL / N: 111.4488\n",
      "6it [03:07, 34.89s/it]\n",
      "NLL / N: 114.7097\n",
      "7it [03:37, 33.26s/it]\n",
      "NLL / N: 114.3094\n",
      "8it [04:09, 32.94s/it]\n",
      "NLL / N: 113.8186\n",
      "9it [04:47, 34.69s/it]\n",
      "NLL / N: 113.6039\n",
      "10it [05:22, 32.29s/it]\n",
      "NLL / N: 113.5229\n",
      "Purity: 0.6385\n",
      "\n"
     ]
    }
   ],
   "source": [
    "ntrials = 3\n",
    "niter = 10\n",
    "\n",
    "labels = torch.zeros(ntrials, len(ss))\n",
    "nlls = torch.zeros(ntrials, niter)\n",
    "\n",
    "for i in range(ntrials):\n",
    "    Sigma = torch.rand(C, C, D, K)\n",
    "    B = torch.rand(C, K)\n",
    "    alpha = 1.\n",
    "\n",
    "    model = DirichletMixtureModel(K, C, D, alpha, B, Sigma)\n",
    "    EM = EM_clustering(hp, model)\n",
    "    r, nll_history, r_history = EM.learn_hp(niter=niter, ninner=[2,3,4,5,6,7] + (niter - 6)*[8])\n",
    "\n",
    "    labels[i] = r.argmax(-1)\n",
    "    nlls[i] = torch.FloatTensor(nll_history)\n",
    "\n",
    "    print(f'Purity: {purity(labels[i], gt_ids):.4f}')\n"
   ]
  },
  {
   "cell_type": "code",
   "execution_count": 24,
   "metadata": {},
   "outputs": [],
   "source": [
    "assert (model.A >= 0).all()\n",
    "assert (model.mu > 0).all()"
   ]
  },
  {
   "cell_type": "code",
   "execution_count": 25,
   "metadata": {},
   "outputs": [],
   "source": [
    "# plt.figure(figsize=(9, 5))\n",
    "# plt.grid()\n",
    "# plt.plot(np.arange(niter)+1, nlls.numpy() / len(ss))\n",
    "# plt.title('Mixing of DMMHP', fontsize=15)\n",
    "# plt.xlabel(r'$n$ outer iterations', fontsize=15)\n",
    "# plt.ylabel(r'$\\sim$ NLL / $N$', fontsize=15)\n",
    "# plt.show()"
   ]
  },
  {
   "cell_type": "code",
   "execution_count": 26,
   "metadata": {},
   "outputs": [
    {
     "output_type": "stream",
     "name": "stdout",
     "text": [
      "[0.3245, 0.36500000000000005, 0.4465, 0.478, 0.525, 0.5830000000000001, 0.6220000000000001, 0.637, 0.6405000000000001, 0.6385]\n"
     ]
    }
   ],
   "source": [
    "print([purity(x, gt_ids) for x in r_history.argmax(-1)])"
   ]
  },
  {
   "cell_type": "code",
   "execution_count": 27,
   "metadata": {},
   "outputs": [],
   "source": [
    "pur_val_mean = np.mean([purity(x, gt_ids) for x in labels])\n",
    "pur_val_std = np.std([purity(x, gt_ids) for x in labels])"
   ]
  },
  {
   "cell_type": "code",
   "execution_count": 28,
   "metadata": {},
   "outputs": [
    {
     "output_type": "stream",
     "name": "stdout",
     "text": [
      "Purity: 0.6013+-0.0505\n"
     ]
    }
   ],
   "source": [
    "print(f'Purity: {pur_val_mean:.4f}+-{pur_val_std:.4f}')"
   ]
  },
  {
   "cell_type": "code",
   "execution_count": 29,
   "metadata": {},
   "outputs": [
    {
     "output_type": "execute_result",
     "data": {
      "text/plain": [
       "tensor([[1., 1., 2.,  ..., 2., 2., 4.]])"
      ]
     },
     "metadata": {},
     "execution_count": 29
    }
   ],
   "source": [
    "labels[::10]"
   ]
  },
  {
   "cell_type": "code",
   "execution_count": null,
   "metadata": {},
   "outputs": [],
   "source": []
  },
  {
   "source": [
    "#### 4 cluster, 5 classes"
   ],
   "cell_type": "markdown",
   "metadata": {}
  },
  {
   "cell_type": "code",
   "execution_count": 30,
   "metadata": {},
   "outputs": [],
   "source": [
    "path = Path('../..', 'data', 'simulated_Hawkes', 'K4_C5')\n",
    "ss, Ts, class2idx, _ = load_data(path, maxlen=-1, ext='csv', datetime=False)\n",
    "\n",
    "gt_ids = pd.read_csv(Path(path, 'clusters.csv'))['cluster_id'].to_numpy()\n",
    "\n",
    "gt_ids = torch.LongTensor(gt_ids)"
   ]
  },
  {
   "cell_type": "code",
   "execution_count": 31,
   "metadata": {},
   "outputs": [
    {
     "output_type": "stream",
     "name": "stderr",
     "text": [
      "1it [00:38, 38.65s/it]\n",
      "NLL / N: 114.6463\n",
      "2it [00:47, 29.58s/it]\n",
      "NLL / N: 116.0253\n",
      "3it [00:58, 24.29s/it]\n",
      "NLL / N: 112.0306\n",
      "4it [01:11, 20.63s/it]\n",
      "NLL / N: 112.9056\n",
      "5it [01:26, 19.18s/it]\n",
      "NLL / N: 113.4149\n",
      "6it [01:42, 18.13s/it]\n",
      "NLL / N: 117.1065\n",
      "7it [02:00, 17.99s/it]\n",
      "NLL / N: 117.4913\n",
      "8it [02:19, 18.42s/it]\n",
      "NLL / N: 117.1440\n",
      "9it [02:47, 21.24s/it]\n",
      "NLL / N: 116.8707\n",
      "10it [03:23, 25.82s/it]\n",
      "NLL / N: 117.1514\n",
      "11it [04:06, 30.75s/it]\n",
      "NLL / N: 117.7376\n",
      "12it [04:39, 31.50s/it]\n",
      "NLL / N: 118.0698\n",
      "13it [05:05, 29.72s/it]\n",
      "NLL / N: 118.3414\n",
      "14it [05:33, 29.27s/it]\n",
      "NLL / N: 118.4408\n",
      "15it [05:57, 27.70s/it]\n",
      "NLL / N: 118.5149\n",
      "16it [06:20, 26.35s/it]\n",
      "NLL / N: 118.5729\n",
      "17it [06:43, 25.38s/it]\n",
      "NLL / N: 118.6344\n",
      "18it [07:06, 24.58s/it]\n",
      "NLL / N: 118.6989\n",
      "19it [07:30, 24.44s/it]\n",
      "NLL / N: 118.7644\n",
      "20it [08:05, 24.29s/it]\n",
      "0it [00:00, ?it/s]\n",
      "NLL / N: 118.8272\n",
      "Purity: 0.7450\n",
      "1it [00:55, 55.74s/it]\n",
      "NLL / N: 116.5196\n",
      "2it [01:06, 42.34s/it]\n",
      "NLL / N: 115.5302\n",
      "3it [01:22, 34.39s/it]\n",
      "NLL / N: 121.5732\n",
      "4it [01:38, 28.76s/it]\n",
      "NLL / N: 121.4796\n",
      "5it [01:58, 26.22s/it]\n",
      "NLL / N: 120.0290\n",
      "6it [02:19, 24.57s/it]\n",
      "NLL / N: 118.9696\n",
      "7it [02:44, 24.88s/it]\n",
      "NLL / N: 119.3044\n",
      "8it [03:09, 24.82s/it]\n",
      "NLL / N: 119.9789\n",
      "9it [03:41, 27.07s/it]\n",
      "NLL / N: 118.8321\n",
      "10it [04:09, 27.25s/it]\n",
      "NLL / N: 118.4341\n",
      "11it [04:41, 28.70s/it]\n",
      "NLL / N: 118.2590\n",
      "12it [05:11, 29.02s/it]\n",
      "NLL / N: 118.1867\n",
      "13it [05:44, 30.34s/it]\n",
      "NLL / N: 118.1524\n",
      "14it [06:07, 27.92s/it]\n",
      "NLL / N: 118.1151\n",
      "15it [06:28, 26.09s/it]\n",
      "NLL / N: 118.0771\n",
      "16it [06:50, 24.69s/it]\n",
      "NLL / N: 118.0354\n",
      "17it [07:12, 23.92s/it]\n",
      "NLL / N: 117.9894\n",
      "18it [07:35, 23.52s/it]\n",
      "NLL / N: 117.9406\n",
      "19it [07:58, 23.42s/it]\n",
      "NLL / N: 117.8891\n",
      "20it [08:31, 25.55s/it]\n",
      "0it [00:00, ?it/s]\n",
      "NLL / N: 117.8381\n",
      "Purity: 0.7525\n",
      "1it [00:54, 54.93s/it]\n",
      "NLL / N: 122.3656\n",
      "2it [01:05, 41.69s/it]\n",
      "NLL / N: 124.6634\n",
      "3it [01:19, 33.32s/it]\n",
      "NLL / N: 123.3734\n",
      "4it [01:32, 27.27s/it]\n",
      "NLL / N: 121.3067\n",
      "5it [01:53, 25.33s/it]\n",
      "NLL / N: 120.7226\n",
      "6it [02:14, 23.96s/it]\n",
      "NLL / N: 119.7278\n",
      "7it [02:37, 23.74s/it]\n",
      "NLL / N: 118.8185\n",
      "8it [03:01, 23.81s/it]\n",
      "NLL / N: 118.3213\n",
      "9it [03:27, 24.37s/it]\n",
      "NLL / N: 118.0864\n",
      "10it [03:51, 24.29s/it]\n",
      "NLL / N: 118.0746\n",
      "11it [04:19, 25.41s/it]\n",
      "NLL / N: 118.0927\n",
      "12it [04:50, 27.06s/it]\n",
      "NLL / N: 118.1032\n",
      "13it [05:25, 29.61s/it]\n",
      "NLL / N: 118.1072\n",
      "14it [05:57, 30.39s/it]\n",
      "NLL / N: 118.1101\n",
      "15it [06:28, 30.37s/it]\n",
      "NLL / N: 118.1119\n",
      "16it [07:00, 31.03s/it]\n",
      "NLL / N: 118.1132\n",
      "17it [07:34, 31.91s/it]\n",
      "NLL / N: 118.1131\n",
      "18it [07:58, 29.57s/it]\n",
      "NLL / N: 118.1145\n",
      "19it [08:18, 26.57s/it]\n",
      "NLL / N: 118.1150\n",
      "20it [08:38, 25.93s/it]\n",
      "0it [00:00, ?it/s]\n",
      "NLL / N: 118.1151\n",
      "Purity: 0.8287\n",
      "1it [00:33, 33.80s/it]\n",
      "NLL / N: 116.9947\n",
      "2it [00:39, 25.50s/it]\n",
      "NLL / N: 115.2469\n",
      "3it [00:47, 20.26s/it]\n",
      "NLL / N: 114.4834\n",
      "4it [00:56, 16.60s/it]\n",
      "NLL / N: 116.3116\n",
      "5it [01:06, 14.71s/it]\n",
      "NLL / N: 117.5853\n",
      "6it [01:16, 13.50s/it]\n",
      "NLL / N: 118.2578\n",
      "7it [01:29, 13.29s/it]\n",
      "NLL / N: 118.4401\n",
      "8it [01:43, 13.44s/it]\n",
      "NLL / N: 118.2146\n",
      "9it [01:59, 14.09s/it]\n",
      "NLL / N: 117.8520\n",
      "10it [02:14, 14.54s/it]\n",
      "NLL / N: 117.7565\n",
      "11it [02:33, 15.69s/it]\n",
      "NLL / N: 117.7744\n",
      "12it [02:51, 16.50s/it]\n",
      "NLL / N: 117.7942\n",
      "13it [03:11, 17.59s/it]\n",
      "NLL / N: 117.8079\n",
      "14it [03:31, 18.33s/it]\n",
      "NLL / N: 117.8130\n",
      "15it [03:51, 18.86s/it]\n",
      "NLL / N: 117.8169\n",
      "16it [04:11, 19.24s/it]\n",
      "NLL / N: 117.8196\n",
      "17it [04:31, 19.47s/it]\n",
      "NLL / N: 117.8212\n",
      "18it [04:51, 19.50s/it]\n",
      "NLL / N: 117.8203\n",
      "19it [05:11, 19.55s/it]\n",
      "NLL / N: 117.8200\n",
      "20it [05:30, 16.54s/it]\n",
      "NLL / N: 117.8178\n",
      "Purity: 0.6319\n",
      "\n"
     ]
    }
   ],
   "source": [
    "N = len(ss)\n",
    "D = 5\n",
    "basis_fs = [lambda x: torch.exp(- x**2 / (2.*(k+1)**2) ) for k in range(D)]\n",
    "\n",
    "hp = PointProcessStorage(ss, Ts, basis_fs)\n",
    "\n",
    "C = len(class2idx)\n",
    "K = 4\n",
    "\n",
    "ntrials = 3\n",
    "niter = 10\n",
    "\n",
    "labels = torch.zeros(ntrials, len(ss))\n",
    "nlls = torch.zeros(ntrials, niter)\n",
    "\n",
    "for i in range(ntrials):\n",
    "    Sigma = torch.rand(C, C, D, K)\n",
    "    B = torch.rand(C, K)\n",
    "    alpha = 1.\n",
    "\n",
    "    model = DirichletMixtureModel(K, C, D, alpha, B, Sigma)\n",
    "    EM = EM_clustering(hp, model)\n",
    "    r, nll_history, r_history = EM.learn_hp(niter=niter, ninner=[2,3,4,5,6,7] + (niter - 6)*[8])\n",
    "\n",
    "    labels[i] = r.argmax(-1)\n",
    "    nlls[i] = torch.FloatTensor(nll_history)\n",
    "\n",
    "    print(f'Purity: {purity(labels[i], gt_ids):.4f}')\n"
   ]
  },
  {
   "cell_type": "code",
   "execution_count": 32,
   "metadata": {},
   "outputs": [],
   "source": [
    "pur_val_mean = np.mean([purity(x, gt_ids) for x in labels])\n",
    "pur_val_std = np.std([purity(x, gt_ids) for x in labels])"
   ]
  },
  {
   "cell_type": "code",
   "execution_count": 33,
   "metadata": {},
   "outputs": [
    {
     "output_type": "stream",
     "name": "stdout",
     "text": [
      "Purity: 0.7395+-0.0703\n"
     ]
    }
   ],
   "source": [
    "print(f'Purity: {pur_val_mean:.4f}+-{pur_val_std:.4f}')"
   ]
  },
  {
   "cell_type": "code",
   "execution_count": null,
   "metadata": {},
   "outputs": [],
   "source": []
  },
  {
   "source": [
    "#### 3 cluster, 5 classes"
   ],
   "cell_type": "markdown",
   "metadata": {}
  },
  {
   "cell_type": "code",
   "execution_count": 35,
   "metadata": {},
   "outputs": [],
   "source": [
    "path = Path('../..', 'data', 'simulated_Hawkes', 'K3_C5')\n",
    "ss, Ts, class2idx, _ = load_data(path, maxlen=-1, ext='csv', datetime=False)\n",
    "\n",
    "gt_ids = pd.read_csv(Path(path, 'clusters.csv'))['cluster_id'].to_numpy()\n",
    "gt_ids = torch.LongTensor(gt_ids)"
   ]
  },
  {
   "cell_type": "code",
   "execution_count": 4,
   "metadata": {},
   "outputs": [
    {
     "output_type": "stream",
     "name": "stderr",
     "text": [
      "1it [01:36, 96.71s/it]\n",
      "NLL / N: 679.9168\n",
      "2it [02:03, 75.61s/it]\n",
      "NLL / N: -60.2518\n",
      "3it [02:37, 63.36s/it]\n",
      "NLL / N: -0.6981\n",
      "4it [03:11, 54.53s/it]\n",
      "NLL / N: 20.1141\n",
      "5it [03:54, 50.84s/it]\n",
      "NLL / N: 20.1951\n",
      "6it [04:35, 48.15s/it]\n",
      "NLL / N: 20.4390\n",
      "7it [05:24, 48.29s/it]\n",
      "NLL / N: 20.7928\n",
      "8it [06:17, 49.75s/it]\n",
      "NLL / N: 20.9816\n",
      "9it [07:30, 56.76s/it]\n",
      "NLL / N: 21.3264\n",
      "10it [08:50, 63.62s/it]\n",
      "NLL / N: 21.2528\n",
      "11it [10:13, 69.36s/it]\n",
      "NLL / N: 21.3383\n",
      "12it [11:17, 67.84s/it]\n",
      "NLL / N: 21.4435\n",
      "13it [12:55, 76.87s/it]\n",
      "NLL / N: 21.5729\n",
      "14it [14:07, 75.39s/it]\n",
      "NLL / N: 21.5506\n",
      "15it [15:28, 77.27s/it]\n",
      "NLL / N: 21.3079\n",
      "16it [17:19, 87.37s/it]\n",
      "NLL / N: 21.3306\n",
      "17it [18:55, 89.80s/it]\n",
      "NLL / N: 21.3939\n",
      "18it [21:04, 101.70s/it]\n",
      "NLL / N: 21.3338\n",
      "19it [22:16, 92.67s/it] \n",
      "NLL / N: 21.5600\n",
      "20it [23:47, 71.37s/it]\n",
      "0it [00:00, ?it/s]\n",
      "NLL / N: 21.3110\n",
      "Purity: 0.9033\n",
      "1it [01:43, 103.57s/it]\n",
      "NLL / N: 665.3323\n",
      "2it [02:11, 80.93s/it] \n",
      "NLL / N: -51.3180\n",
      "3it [03:05, 72.69s/it]\n",
      "NLL / N: -3.0699\n",
      "4it [03:52, 65.07s/it]\n",
      "NLL / N: 21.6914\n",
      "5it [05:00, 65.99s/it]\n",
      "NLL / N: 21.4478\n",
      "6it [05:52, 61.81s/it]\n",
      "NLL / N: 21.4034\n",
      "7it [07:13, 67.39s/it]\n",
      "NLL / N: 21.4081\n",
      "8it [08:25, 68.85s/it]\n",
      "NLL / N: 21.3767\n",
      "9it [09:17, 63.77s/it]\n",
      "NLL / N: 21.3294\n",
      "10it [10:09, 60.30s/it]\n",
      "NLL / N: 21.3006\n",
      "11it [11:08, 60.06s/it]\n",
      "NLL / N: 21.5971\n",
      "12it [12:08, 59.77s/it]\n",
      "NLL / N: 21.2565\n",
      "13it [13:14, 61.75s/it]\n",
      "NLL / N: 21.3205\n",
      "14it [14:20, 63.16s/it]\n",
      "NLL / N: 21.5195\n",
      "15it [15:44, 69.39s/it]\n",
      "NLL / N: 21.2342\n",
      "16it [17:27, 79.53s/it]\n",
      "NLL / N: 21.4956\n",
      "17it [19:26, 91.32s/it]\n",
      "NLL / N: 21.1640\n",
      "18it [21:22, 98.50s/it]\n",
      "NLL / N: 21.4151\n",
      "19it [22:51, 95.74s/it]\n",
      "NLL / N: 21.3595\n",
      "20it [24:27, 73.36s/it]\n",
      "0it [00:00, ?it/s]\n",
      "NLL / N: 21.2672\n",
      "Purity: 0.9033\n",
      "1it [02:20, 140.50s/it]\n",
      "NLL / N: 803.2245\n",
      "2it [02:53, 108.29s/it]\n",
      "NLL / N: -62.6039\n",
      "3it [03:34, 87.92s/it] \n",
      "NLL / N: -15.9905\n",
      "4it [04:25, 76.96s/it]\n",
      "NLL / N: 11.6266\n",
      "5it [05:18, 69.70s/it]\n",
      "NLL / N: 11.5356\n",
      "6it [06:08, 63.96s/it]\n",
      "NLL / N: 10.8271\n",
      "7it [07:11, 63.63s/it]\n",
      "NLL / N: 10.9141\n",
      "8it [08:20, 65.30s/it]\n",
      "NLL / N: 10.5121\n",
      "9it [09:48, 71.87s/it]\n",
      "NLL / N: 10.6528\n",
      "10it [11:23, 78.95s/it]\n",
      "NLL / N: 10.8023\n",
      "11it [13:09, 87.12s/it]\n",
      "NLL / N: 10.4213\n",
      "12it [15:07, 96.30s/it]\n",
      "NLL / N: 11.0620\n",
      "13it [16:36, 94.03s/it]\n",
      "NLL / N: 10.8434\n",
      "14it [18:02, 91.83s/it]\n",
      "NLL / N: 10.7280\n",
      "15it [19:30, 90.51s/it]\n",
      "NLL / N: 10.4571\n",
      "16it [20:58, 89.89s/it]\n",
      "NLL / N: 10.6184\n",
      "17it [22:25, 88.98s/it]\n",
      "NLL / N: 10.8953\n",
      "18it [23:52, 88.47s/it]\n",
      "NLL / N: 10.5803\n",
      "19it [25:23, 89.12s/it]\n",
      "NLL / N: 10.7597\n",
      "20it [26:56, 80.85s/it]\n",
      "0it [00:00, ?it/s]\n",
      "NLL / N: 10.3135\n",
      "Purity: 0.6633\n",
      "1it [01:42, 102.45s/it]\n",
      "NLL / N: 482.7278\n",
      "2it [02:14, 81.36s/it] \n",
      "NLL / N: -29.5986\n",
      "3it [02:57, 69.84s/it]\n",
      "NLL / N: -2.7198\n",
      "4it [03:41, 62.02s/it]\n",
      "NLL / N: 19.6334\n",
      "5it [04:34, 59.33s/it]\n",
      "NLL / N: 22.0079\n",
      "6it [05:30, 58.37s/it]\n",
      "NLL / N: 22.0997\n",
      "7it [06:30, 58.87s/it]\n",
      "NLL / N: 22.2316\n",
      "8it [07:21, 56.54s/it]\n",
      "NLL / N: 21.7930\n",
      "9it [08:22, 57.92s/it]\n",
      "NLL / N: 21.5687\n",
      "10it [09:28, 60.33s/it]\n",
      "NLL / N: 21.4114\n",
      "11it [10:45, 65.19s/it]\n",
      "NLL / N: 21.6023\n",
      "12it [12:01, 68.60s/it]\n",
      "NLL / N: 21.3039\n",
      "13it [13:27, 73.79s/it]\n",
      "NLL / N: 21.4805\n",
      "14it [14:53, 77.27s/it]\n",
      "NLL / N: 21.5681\n",
      "15it [16:14, 78.51s/it]\n",
      "NLL / N: 21.5208\n",
      "16it [17:39, 80.39s/it]\n",
      "NLL / N: 21.3406\n",
      "17it [19:03, 81.52s/it]\n",
      "NLL / N: 21.2915\n",
      "18it [20:27, 82.25s/it]\n",
      "NLL / N: 21.5774\n",
      "19it [21:52, 83.15s/it]\n",
      "NLL / N: 21.5178\n",
      "20it [23:16, 69.83s/it]\n",
      "NLL / N: 21.6116\n",
      "Purity: 0.9033\n",
      "\n"
     ]
    }
   ],
   "source": [
    "N = len(ss)\n",
    "D = 5\n",
    "basis_fs = [lambda x: torch.exp(- x**2 / (3.*(k+1)**2) ) for k in range(D)]\n",
    "\n",
    "hp = PointProcessStorage(ss, Ts, basis_fs)\n",
    "\n",
    "C = len(class2idx)\n",
    "K = 3\n",
    "\n",
    "ntrials = 3\n",
    "niter = 10\n",
    "\n",
    "labels = torch.zeros(ntrials, len(ss))\n",
    "nlls = torch.zeros(ntrials, niter)\n",
    "\n",
    "for i in range(ntrials):\n",
    "    Sigma = torch.rand(C, C, D, K)\n",
    "    B = torch.rand(C, K)\n",
    "    alpha = 1.\n",
    "\n",
    "    model = DirichletMixtureModel(K, C, D, alpha, B, Sigma)\n",
    "    EM = EM_clustering(hp, model)\n",
    "    r, nll_history, r_history = EM.learn_hp(niter=niter, ninner=[2,3,4,5,6,7] + (niter - 6)*[8])\n",
    "\n",
    "    labels[i] = r.argmax(-1)\n",
    "    nlls[i] = torch.FloatTensor(nll_history)\n",
    "\n",
    "    print(f'Purity: {purity(labels[i], gt_ids):.4f}')\n"
   ]
  },
  {
   "cell_type": "code",
   "execution_count": 5,
   "metadata": {},
   "outputs": [],
   "source": [
    "pur_val_mean = np.mean([purity(x, gt_ids) for x in labels])\n",
    "pur_val_std = np.std([purity(x, gt_ids) for x in labels])"
   ]
  },
  {
   "cell_type": "code",
   "execution_count": 6,
   "metadata": {},
   "outputs": [
    {
     "output_type": "stream",
     "name": "stdout",
     "text": [
      "Purity: 0.8433+-0.1039\n"
     ]
    }
   ],
   "source": [
    "print(f'Purity: {pur_val_mean:.4f}+-{pur_val_std:.4f}')"
   ]
  },
  {
   "cell_type": "code",
   "execution_count": null,
   "metadata": {},
   "outputs": [],
   "source": []
  }
 ]
}