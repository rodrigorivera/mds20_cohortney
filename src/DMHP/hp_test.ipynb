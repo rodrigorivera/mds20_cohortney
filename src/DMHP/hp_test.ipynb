{
 "metadata": {
  "language_info": {
   "codemirror_mode": {
    "name": "ipython",
    "version": 3
   },
   "file_extension": ".py",
   "mimetype": "text/x-python",
   "name": "python",
   "nbconvert_exporter": "python",
   "pygments_lexer": "ipython3",
   "version": "3.8.5-final"
  },
  "orig_nbformat": 2,
  "kernelspec": {
   "name": "python38564bitfad426787c4d466e858501df55a3f5b8",
   "display_name": "Python 3.8.5 64-bit"
  }
 },
 "nbformat": 4,
 "nbformat_minor": 2,
 "cells": [
  {
   "cell_type": "code",
   "execution_count": 15,
   "metadata": {},
   "outputs": [
    {
     "output_type": "stream",
     "name": "stdout",
     "text": [
      "The autoreload extension is already loaded. To reload it, use:\n  %reload_ext autoreload\n"
     ]
    }
   ],
   "source": [
    "%load_ext autoreload\n",
    "%autoreload 2"
   ]
  },
  {
   "cell_type": "code",
   "execution_count": 16,
   "metadata": {},
   "outputs": [],
   "source": [
    "import torch\n",
    "import random\n",
    "from HP import HawkesProcess"
   ]
  },
  {
   "cell_type": "code",
   "execution_count": 17,
   "metadata": {},
   "outputs": [],
   "source": [
    "#K = 3\n",
    "N = 100\n",
    "D = 1\n",
    "C = 10\n",
    "T = 10\n",
    "mu = torch.rand(C)\n",
    "A = torch.rand(C, C, D)\n",
    "basis_fs = [lambda x: torch.exp(- x**2 / 10.)]\n",
    "s = []\n",
    "Ts = []\n",
    "\n",
    "for n in range(N):\n",
    "    Tn = 3\n",
    "    Mn = random.randint(10, 20)\n",
    "    Ts.append(Tn)\n",
    "    ts = torch.FloatTensor([random.random() * Tn for _ in range(Mn)]).sort()[0]\n",
    "    cs = torch.FloatTensor([random.randint(0, C - 1) for _ in range(Mn)])\n",
    "    s.append(torch.stack([ts, cs], -1))"
   ]
  },
  {
   "cell_type": "code",
   "execution_count": 18,
   "metadata": {},
   "outputs": [],
   "source": [
    "hp = HawkesProcess(mu, A, basis_fs, Ts, s)"
   ]
  },
  {
   "cell_type": "code",
   "execution_count": 19,
   "metadata": {},
   "outputs": [],
   "source": [
    "lambdat = hp.intensity(t=0.1)"
   ]
  },
  {
   "cell_type": "code",
   "execution_count": 20,
   "metadata": {},
   "outputs": [
    {
     "output_type": "execute_result",
     "data": {
      "text/plain": [
       "torch.Size([100, 10])"
      ]
     },
     "metadata": {},
     "execution_count": 20
    }
   ],
   "source": [
    "lambdat.shape"
   ]
  },
  {
   "cell_type": "code",
   "execution_count": 21,
   "metadata": {},
   "outputs": [],
   "source": [
    "lambdas = hp.intensity_in_real_points()"
   ]
  },
  {
   "cell_type": "code",
   "execution_count": 22,
   "metadata": {},
   "outputs": [
    {
     "output_type": "execute_result",
     "data": {
      "text/plain": [
       "(100, torch.Size([10, 16]))"
      ]
     },
     "metadata": {},
     "execution_count": 22
    }
   ],
   "source": [
    "len(lambdas), lambdas[0].shape"
   ]
  },
  {
   "cell_type": "code",
   "execution_count": 23,
   "metadata": {
    "tags": []
   },
   "outputs": [],
   "source": [
    "ll = hp.log_likelihood()"
   ]
  },
  {
   "cell_type": "code",
   "execution_count": 24,
   "metadata": {},
   "outputs": [
    {
     "output_type": "execute_result",
     "data": {
      "text/plain": [
       "torch.Size([100])"
      ]
     },
     "metadata": {},
     "execution_count": 24
    }
   ],
   "source": [
    "ll.shape"
   ]
  },
  {
   "cell_type": "code",
   "execution_count": 25,
   "metadata": {},
   "outputs": [
    {
     "output_type": "execute_result",
     "data": {
      "text/plain": [
       "tensor([-190.6915, -218.4707, -181.8362, -123.9356, -182.9100, -136.7564,\n",
       "        -135.6404, -152.5795, -201.5201, -152.1406, -217.2238, -186.3911,\n",
       "        -222.2392, -230.6924, -243.6796, -128.6820, -207.3017, -134.9239,\n",
       "        -242.6823, -118.3326, -164.2163, -187.7713, -234.9419, -220.8348,\n",
       "        -186.5730, -217.7605, -239.6735, -129.6948, -258.8388, -155.9521,\n",
       "        -152.6347, -179.0357, -173.5359, -165.6416, -214.8890, -249.5168,\n",
       "        -169.8995, -193.2991, -190.0383, -162.9794, -131.4406, -235.7739,\n",
       "        -227.3759, -192.5802, -210.5151, -136.8567, -238.4410, -202.0022,\n",
       "        -218.7082, -206.0655, -228.4102, -240.9238, -221.3288, -218.9867,\n",
       "        -155.7887, -117.9244, -235.0131, -126.6531, -226.9058, -260.9292,\n",
       "        -202.0644, -196.5120, -183.0843, -108.7485, -150.0526, -143.6206,\n",
       "        -202.5307, -167.1011, -202.5936, -154.8176, -149.5382, -170.4017,\n",
       "        -220.3690, -162.1810, -132.1668, -233.4304, -246.6002, -186.3751,\n",
       "        -220.7843, -222.3449, -142.5408, -231.0226, -256.8811, -120.5408,\n",
       "        -189.4651, -214.7746, -110.1266, -194.1725, -212.6473, -163.9011,\n",
       "        -180.4162, -195.8378, -203.0044, -217.5442, -229.7072, -252.0831,\n",
       "        -243.3724, -223.6217, -194.6596, -244.5705])"
      ]
     },
     "metadata": {},
     "execution_count": 25
    }
   ],
   "source": [
    "ll"
   ]
  },
  {
   "cell_type": "code",
   "execution_count": 26,
   "metadata": {},
   "outputs": [],
   "source": [
    "s = []\n",
    "Ts = 3\n",
    "\n",
    "for n in range(N):\n",
    "    Mn = random.randint(10, 20)\n",
    "    ts = torch.FloatTensor([random.random() * Ts for _ in range(Mn)]).sort()[0]\n",
    "    cs = torch.FloatTensor([random.randint(0, C - 1) for _ in range(Mn)])\n",
    "    s.append(torch.stack([ts, cs], -1))"
   ]
  },
  {
   "cell_type": "code",
   "execution_count": 27,
   "metadata": {},
   "outputs": [],
   "source": [
    "hp = HawkesProcess(mu, A, basis_fs, Ts, s)"
   ]
  },
  {
   "cell_type": "code",
   "execution_count": 28,
   "metadata": {},
   "outputs": [],
   "source": [
    "ll = hp.log_likelihood()"
   ]
  },
  {
   "cell_type": "code",
   "execution_count": 29,
   "metadata": {},
   "outputs": [
    {
     "output_type": "execute_result",
     "data": {
      "text/plain": [
       "tensor([-215.9946, -173.6475, -214.5579, -188.9017, -240.5219, -226.5906,\n",
       "        -133.9746, -224.9023, -149.6643, -203.3722, -234.6306, -191.5668,\n",
       "        -138.9627, -218.7311, -249.6678, -173.2766, -199.4632, -235.7372,\n",
       "        -160.6410, -116.9598, -248.2590, -119.0684, -221.2399, -147.8428,\n",
       "        -133.3368, -134.0710, -231.9751, -202.7340, -163.6279, -116.3683,\n",
       "        -219.8740, -237.3951, -139.8130, -112.5899, -166.6431, -181.1646,\n",
       "        -251.7330, -216.3917, -239.2775, -170.4203, -112.5538, -256.0995,\n",
       "        -160.6224, -219.9014, -166.8435, -204.0991, -141.8255, -202.2490,\n",
       "        -134.2833, -167.7646, -196.6648, -208.7373, -139.0931, -183.8744,\n",
       "        -224.2987, -172.1747, -109.4682, -231.2920, -192.1536, -203.7910,\n",
       "        -132.8038, -184.4113, -217.5217, -131.2305, -206.9374, -177.0584,\n",
       "        -121.9180, -147.7027, -141.2010, -152.6486, -111.5692, -249.3198,\n",
       "        -200.0404, -145.3538, -131.5015, -125.5786, -207.1881, -180.1033,\n",
       "        -212.2836, -197.6812, -192.6935, -118.3475, -163.1860, -215.4355,\n",
       "        -187.2776, -146.6639, -165.0012, -235.2533, -219.0165, -227.8784,\n",
       "        -142.5348, -148.4216, -207.9715, -227.8278, -139.4196, -179.9331,\n",
       "        -209.4762, -228.7710, -160.6382, -208.8474])"
      ]
     },
     "metadata": {},
     "execution_count": 29
    }
   ],
   "source": [
    "ll"
   ]
  },
  {
   "cell_type": "code",
   "execution_count": null,
   "metadata": {},
   "outputs": [],
   "source": [
    "z"
   ]
  }
 ]
}